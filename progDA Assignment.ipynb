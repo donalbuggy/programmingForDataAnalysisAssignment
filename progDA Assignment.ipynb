{
 "cells": [
  {
   "cell_type": "markdown",
   "metadata": {},
   "source": [
    "# The numpy.random package\n",
    "***"
   ]
  },
  {
   "cell_type": "markdown",
   "metadata": {},
   "source": [
    "## Overview of the package\n",
    "\n",
    "\n",
    "The numpy.random package provides a number of tools for generating random numbers in Python code. Random numbers may be needed for a wide variety of purposes, such as testing the functioning of an algorithm by providing known parameters, or testing the validity of data gathered in an experiment against random data. For users with experience in statistical modelling and working with probability, the functions of the random package provide a high degree of flexibility and control over the characterstics of the data generated.\n",
    "The random data is first generated with a seed using a BitGenerator function, in this case the ***default_rng()*** function. Seeds are explained in more detail in the final section of this notebook. This seed is then passed to a distribution function, which model the properties of mathematical distributions to generate a series of random values along the given distribution. For example, if the seed is passed to the ***normal()*** distribution function, the generated values will follow the properties of that distribution: most values will fall within two standard deviations of a mean value, the mean value will have the highest occurrence, the probability decrease of higher and lower values will be roughly symmetrical, etc. These properties can be tested by plotting the resulting values using Python's plotting packages, to confirm that the plotted values follow the expected shape for the given distribution.\n",
    "***"
   ]
  },
  {
   "cell_type": "markdown",
   "metadata": {},
   "source": [
    "## \"Simple random data\" and \"Permutations\" functions\n",
    "***\n",
    "\n",
    "### Simple random data\n",
    "\n",
    "#### Integers\n",
    "\n",
    "> Generator.integers(*low, high=None, size=None, dtype=np.int64, endpoint=False*)\n",
    "\n",
    "The **integers()** function generates a sequence of random integers. The function takes one required argument, **low**, which defines the upper limit of values which may be returned. If an argument is also passed for the **high** parameter, the argument passed for **low** becomes the lower limit of values which may be returned, and **high** becomes the upper limit."
   ]
  },
  {
   "cell_type": "code",
   "execution_count": 12,
   "metadata": {},
   "outputs": [
    {
     "data": {
      "text/plain": [
       "2"
      ]
     },
     "execution_count": 12,
     "metadata": {},
     "output_type": "execute_result"
    }
   ],
   "source": [
    "import numpy\n",
    "import numpy.random as np\n",
    "\n",
    "rng = np.default_rng()\n",
    "rng.integers(5) # 5 is passed as the \"low\" argument\n",
    "                # all outputs will be between 0 (inclusive) and 5 (exclusive)"
   ]
  },
  {
   "cell_type": "code",
   "execution_count": 58,
   "metadata": {},
   "outputs": [
    {
     "data": {
      "text/plain": [
       "7"
      ]
     },
     "execution_count": 58,
     "metadata": {},
     "output_type": "execute_result"
    }
   ],
   "source": [
    "rng.integers(5, 10) # 5 is the \"low\" argument, 10 as the \"high\" argument;\n",
    "                    # outputs will be between 5 (inclusive) and 10 (exclusive)"
   ]
  },
  {
   "cell_type": "markdown",
   "metadata": {},
   "source": [
    "The **integers()** function returns one integer value, unless an argument is passed for the **size** parameter, in which case a sequence of values of size equal to the value of the argument is returned."
   ]
  },
  {
   "cell_type": "code",
   "execution_count": 59,
   "metadata": {},
   "outputs": [
    {
     "data": {
      "text/plain": [
       "array([3, 3, 1, 0, 0, 1, 2, 2, 0, 0], dtype=int64)"
      ]
     },
     "execution_count": 59,
     "metadata": {},
     "output_type": "execute_result"
    }
   ],
   "source": [
    "rng.integers(5, size=10) # this will return 10 values between 0 and 5 (exclusive)"
   ]
  },
  {
   "cell_type": "markdown",
   "metadata": {},
   "source": [
    "A tuple (an unchangeable list of items) can be passed to the **size** parameter if the returned values should be in a multi-dimensional instead of one-dimensional array. The first value of the tuple defines the number of rows in the returned ndarray, and the second value defines the number of columns."
   ]
  },
  {
   "cell_type": "code",
   "execution_count": 60,
   "metadata": {},
   "outputs": [
    {
     "data": {
      "text/plain": [
       "array([[2, 5, 8, 0],\n",
       "       [2, 9, 3, 3],\n",
       "       [8, 2, 8, 6]], dtype=int64)"
      ]
     },
     "execution_count": 60,
     "metadata": {},
     "output_type": "execute_result"
    }
   ],
   "source": [
    "rng.integers(10, size=(3, 4)) # generates integers of values below 10; 3 rows, 4 columns"
   ]
  },
  {
   "cell_type": "markdown",
   "metadata": {},
   "source": [
    "The dtype of the result can defined with the **dtype** parameter. The results can be confirmed by passing the **integers()** function inside the **type()** from the standard library."
   ]
  },
  {
   "cell_type": "code",
   "execution_count": 61,
   "metadata": {},
   "outputs": [
    {
     "name": "stdout",
     "output_type": "stream",
     "text": [
      "1\n"
     ]
    },
    {
     "data": {
      "text/plain": [
       "numpy.uint8"
      ]
     },
     "execution_count": 61,
     "metadata": {},
     "output_type": "execute_result"
    }
   ],
   "source": [
    "print(rng.integers(10, dtype=numpy.uint8))\n",
    "type(rng.integers(10, dtype=numpy.uint8))"
   ]
  },
  {
   "cell_type": "markdown",
   "metadata": {},
   "source": [
    "The **endpoint** parameter can be passed a Boolean ***True*** or ***False*** value to change the functioning of the **low** and **high** parameters. If **endpoint** is set to ***True***, the value of **high** will be inclusive, so integers of that value can be returned. By default **endpoint** is set to ***False***, so the value of **high** is exclusive, meaning integers of that value cannot be returned (only integers of one increment lower, at maximum). The latter case is called a half-open interval."
   ]
  },
  {
   "cell_type": "code",
   "execution_count": 62,
   "metadata": {},
   "outputs": [
    {
     "data": {
      "text/plain": [
       "array([0, 1], dtype=int64)"
      ]
     },
     "execution_count": 62,
     "metadata": {},
     "output_type": "execute_result"
    }
   ],
   "source": [
    "rng.integers((1, 2), endpoint=True)"
   ]
  },
  {
   "cell_type": "markdown",
   "metadata": {},
   "source": [
    "***"
   ]
  },
  {
   "cell_type": "markdown",
   "metadata": {},
   "source": [
    "#### Random\n",
    "\n",
    ">  Generator.random(*size=None, dtype=np.float64, out=None*)\n",
    "\n",
    "The **random()** function returns float values from the interval 0.0 – 1.0. If no arguments are passed to the function's parameters, it will return a single float value."
   ]
  },
  {
   "cell_type": "code",
   "execution_count": 63,
   "metadata": {},
   "outputs": [
    {
     "data": {
      "text/plain": [
       "0.5404040851913837"
      ]
     },
     "execution_count": 63,
     "metadata": {},
     "output_type": "execute_result"
    }
   ],
   "source": [
    "rng.random()"
   ]
  },
  {
   "cell_type": "markdown",
   "metadata": {},
   "source": [
    "The **size** parameter is used, as in the **integers()** function, to define the number of values returned, and can take an integer or tuple value as argument. The **dtype** parameter is also used the same as in the **integers()** function, but only *float64* and *float32* are supported."
   ]
  },
  {
   "cell_type": "code",
   "execution_count": 64,
   "metadata": {},
   "outputs": [
    {
     "data": {
      "text/plain": [
       "array([0.85327623, 0.1888416 , 0.56736888, 0.84228961, 0.45117704,\n",
       "       0.25354188, 0.36911223, 0.22097662, 0.52883882, 0.86313305])"
      ]
     },
     "execution_count": 64,
     "metadata": {},
     "output_type": "execute_result"
    }
   ],
   "source": [
    "rng.random(10)"
   ]
  },
  {
   "cell_type": "code",
   "execution_count": 65,
   "metadata": {},
   "outputs": [
    {
     "data": {
      "text/plain": [
       "array([0.13780725, 0.8686391 , 0.11981499, 0.47745574, 0.650949  ,\n",
       "       0.7677648 , 0.20431817, 0.18283272, 0.7723092 , 0.5723767 ],\n",
       "      dtype=float32)"
      ]
     },
     "execution_count": 65,
     "metadata": {},
     "output_type": "execute_result"
    }
   ],
   "source": [
    "rng.random(10, dtype=\"float32\")"
   ]
  },
  {
   "cell_type": "markdown",
   "metadata": {},
   "source": [
    "The **out** parameter takes a multi-dimensional array to define the shape of the output."
   ]
  },
  {
   "cell_type": "code",
   "execution_count": 66,
   "metadata": {},
   "outputs": [
    {
     "data": {
      "text/plain": [
       "0.877673088209276"
      ]
     },
     "execution_count": 66,
     "metadata": {},
     "output_type": "execute_result"
    }
   ],
   "source": [
    "rng.random()"
   ]
  },
  {
   "cell_type": "markdown",
   "metadata": {},
   "source": [
    "***"
   ]
  },
  {
   "cell_type": "markdown",
   "metadata": {},
   "source": [
    "#### Choice\n",
    "> Generator.choice(*a, size=None, replace=True, p=None, axis=0, shuffle=True*)\n",
    "\n",
    "The ***choice()*** function returns a random sample from a one-dimensional array passed as an argument.\n",
    "\n",
    "The ***a*** parameter is required, and takes an integer or array as its argument. If an integer is passed, the function runs ***np.arange(x)*** to generate the random value; if an array is passed, the return value is randomly selected from its elements."
   ]
  },
  {
   "cell_type": "code",
   "execution_count": 16,
   "metadata": {},
   "outputs": [
    {
     "name": "stdout",
     "output_type": "stream",
     "text": [
      "[4 7 5 9 5 6 4 3 2 2]\n"
     ]
    },
    {
     "data": {
      "text/plain": [
       "2"
      ]
     },
     "execution_count": 16,
     "metadata": {},
     "output_type": "execute_result"
    }
   ],
   "source": [
    "choices = rng.integers(10, size=10) # generating a 1d array\n",
    "print(choices) # printing the array\n",
    "rng.choice(choices) # choice() selects one element from the array"
   ]
  },
  {
   "cell_type": "markdown",
   "metadata": {},
   "source": [
    "The ***size*** parameter again defines the output shape. If an integer is passed, the returned array will be of size equal to the value of that integer; if a tuple is passed, the values of the tuple will define the rows and columns of the returned multi-dimensional array."
   ]
  },
  {
   "cell_type": "code",
   "execution_count": 17,
   "metadata": {},
   "outputs": [
    {
     "data": {
      "text/plain": [
       "array([[4, 4, 6, 2, 7, 4, 5],\n",
       "       [7, 4, 3, 2, 5, 3, 4]], dtype=int64)"
      ]
     },
     "execution_count": 17,
     "metadata": {},
     "output_type": "execute_result"
    }
   ],
   "source": [
    "rng.choice(choices, size=(2,7)) # generating a 2d array"
   ]
  },
  {
   "cell_type": "markdown",
   "metadata": {},
   "source": [
    "The ***p*** parameter take a one-dimensional array of float values between 0.0 and 1.0, with the same number of elements as the array passed for the ***a*** parameter, and uses the float values to set the probability of each corresponding value in the ***a*** array being returned. The sum of the elements of ***p*** must total 1.0.\n",
    "\n",
    "In the example below, the element of ***a*** in the second index position has an assigned probability of 0.3, and so it appears more frequently in the output arrays."
   ]
  },
  {
   "cell_type": "code",
   "execution_count": 18,
   "metadata": {},
   "outputs": [
    {
     "data": {
      "text/plain": [
       "array([[2, 5, 4, 7, 7, 5, 9, 5, 4, 4],\n",
       "       [7, 4, 4, 6, 2, 7, 6, 7, 7, 5]], dtype=int64)"
      ]
     },
     "execution_count": 18,
     "metadata": {},
     "output_type": "execute_result"
    }
   ],
   "source": [
    "rng.choice(choices, size=(2,10), p=(0.1, 0.3, 0.05, 0.1, 0.1, 0.05, 0.1, 0.025, 0.075, 0.1))\n",
    "# setting the probability for each element"
   ]
  },
  {
   "cell_type": "markdown",
   "metadata": {},
   "source": [
    "The ***axis*** parameter defines the axis along which the selection is performed, either along rows (0) or columns (1)."
   ]
  },
  {
   "cell_type": "code",
   "execution_count": 70,
   "metadata": {},
   "outputs": [
    {
     "data": {
      "text/plain": [
       "array([1, 2, 3])"
      ]
     },
     "execution_count": 70,
     "metadata": {},
     "output_type": "execute_result"
    }
   ],
   "source": [
    "tupleChoice = ([1, 2, 3], [4, 5, 6], [7, 8, 9]) # declaring a tuple to pass to the \"a\" parameter\n",
    "rng.choice(tupleChoice, axis=0) # passing the tuple to choice(), setting the axis to rows\n",
    "                                # one of the arrays is returned in full"
   ]
  },
  {
   "cell_type": "code",
   "execution_count": 71,
   "metadata": {},
   "outputs": [
    {
     "data": {
      "text/plain": [
       "array([3, 6, 9])"
      ]
     },
     "execution_count": 71,
     "metadata": {},
     "output_type": "execute_result"
    }
   ],
   "source": [
    "rng.choice(tupleChoice, axis=1) # setting the axis to columns\n",
    "                                # the first element of each array is returned"
   ]
  },
  {
   "cell_type": "markdown",
   "metadata": {},
   "source": [
    "The ***shuffle*** parameter takes a Boolean value and determines whether the sample is shuffled  when sampling without replacement."
   ]
  },
  {
   "cell_type": "code",
   "execution_count": 72,
   "metadata": {},
   "outputs": [
    {
     "data": {
      "text/plain": [
       "array([8, 8, 0, 1, 7, 1, 1, 0, 7, 6], dtype=int64)"
      ]
     },
     "execution_count": 72,
     "metadata": {},
     "output_type": "execute_result"
    }
   ],
   "source": [
    "rng.choice(choices, size=10, shuffle=True)"
   ]
  },
  {
   "cell_type": "markdown",
   "metadata": {},
   "source": [
    "***"
   ]
  },
  {
   "cell_type": "markdown",
   "metadata": {},
   "source": [
    "#### Bytes\n",
    "> Generator.bytes(*length*)\n",
    "\n",
    "The ***bytes()*** function returns a string of random bytes. It takes an integer as argument to define the length of the returned string."
   ]
  },
  {
   "cell_type": "code",
   "execution_count": 73,
   "metadata": {},
   "outputs": [
    {
     "data": {
      "text/plain": [
       "b\"'\\xe4o\\xdaj\\x9f\\x96\\xc0e\\xb8\\x16b\\x15&W\\x982*\\x0c\\x84\""
      ]
     },
     "execution_count": 73,
     "metadata": {},
     "output_type": "execute_result"
    }
   ],
   "source": [
    "rng.bytes(20)"
   ]
  },
  {
   "cell_type": "markdown",
   "metadata": {},
   "source": [
    "***"
   ]
  },
  {
   "cell_type": "markdown",
   "metadata": {},
   "source": [
    "### Permutations\n",
    "\n",
    "#### Shuffle\n",
    "\n",
    "> Generator.shuffle(*x, axis=0*)\n",
    "\n",
    "The ***shuffle()*** function randomises a sequence of elements by shuffling their positions. The function requires an array or list object to be passed as an argument. There is no return parameter for the function, as the array or list itself is modified so that its elements are permanently reordered. An integer can also be passed as an optional argument to define the axis along which the array is shuffled."
   ]
  },
  {
   "cell_type": "code",
   "execution_count": 74,
   "metadata": {},
   "outputs": [
    {
     "data": {
      "text/plain": [
       "array([ 6, 14, 16,  4,  2, 10, 10,  2,  8,  8,  7,  0, 15, 17,  4],\n",
       "      dtype=int64)"
      ]
     },
     "execution_count": 74,
     "metadata": {},
     "output_type": "execute_result"
    }
   ],
   "source": [
    "shuffleArray = rng.integers(21, size=15) # generating an array\n",
    "shuffleArray"
   ]
  },
  {
   "cell_type": "code",
   "execution_count": 75,
   "metadata": {},
   "outputs": [
    {
     "data": {
      "text/plain": [
       "array([17,  8, 15,  2,  8,  7,  4, 10, 14,  0,  6, 10,  4, 16,  2],\n",
       "      dtype=int64)"
      ]
     },
     "execution_count": 75,
     "metadata": {},
     "output_type": "execute_result"
    }
   ],
   "source": [
    "rng.shuffle(shuffleArray) # shuffling the array\n",
    "shuffleArray # testing if the original array is modified"
   ]
  },
  {
   "cell_type": "markdown",
   "metadata": {},
   "source": [
    "***"
   ]
  },
  {
   "cell_type": "markdown",
   "metadata": {},
   "source": [
    "#### Permutation\n",
    "\n",
    "> Generator.permutation(*x*)\n",
    "\n",
    "The ***permutation()*** function is used to either randomly permute a sequence or generate a permuted range. If the argument passed is an integer, the function will run ***np.arange(x)*** on that integer, permute the generated range of values, and return the generated sequence as an array. If the argument passed is an array, ***permutation()*** makes a copy (which it passes to an ndarray object) and randomly reorders the elements of the array. Unlike ***shuffle()***, ***permutation()*** does not modify the original object."
   ]
  },
  {
   "cell_type": "code",
   "execution_count": 76,
   "metadata": {},
   "outputs": [
    {
     "data": {
      "text/plain": [
       "array([16,  3, 12, 11, 17, 19, 18,  8,  2,  1,  6,  0, 13,  9,  7,  5, 20,\n",
       "        4, 15, 10, 14])"
      ]
     },
     "execution_count": 76,
     "metadata": {},
     "output_type": "execute_result"
    }
   ],
   "source": [
    "rng.permutation(21) # passing an integer"
   ]
  },
  {
   "cell_type": "code",
   "execution_count": 77,
   "metadata": {},
   "outputs": [
    {
     "data": {
      "text/plain": [
       "array([14, 15,  4,  2, 16, 10,  0,  8,  4,  2, 17,  8,  7, 10,  6],\n",
       "      dtype=int64)"
      ]
     },
     "execution_count": 77,
     "metadata": {},
     "output_type": "execute_result"
    }
   ],
   "source": [
    "rng.permutation(shuffleArray) # passing an array"
   ]
  },
  {
   "cell_type": "code",
   "execution_count": 78,
   "metadata": {},
   "outputs": [
    {
     "data": {
      "text/plain": [
       "array([17,  8, 15,  2,  8,  7,  4, 10, 14,  0,  6, 10,  4, 16,  2],\n",
       "      dtype=int64)"
      ]
     },
     "execution_count": 78,
     "metadata": {},
     "output_type": "execute_result"
    }
   ],
   "source": [
    "shuffleArray # testing if the original array is modified"
   ]
  },
  {
   "cell_type": "markdown",
   "metadata": {},
   "source": [
    "***"
   ]
  },
  {
   "cell_type": "markdown",
   "metadata": {},
   "source": [
    "## Distribution functions\n",
    "***\n",
    "\n",
    "### Normal distribution\n",
    "\n",
    "> Generator.normal(*loc=0.0, scale=1.0, size=None*)\n",
    "\n",
    "A normal or Gaussian distribution is one in which values are distributed in a bell-shaped curve, with most points clustering around a central mean value (which forms the highest pointo n the *y* axis) and with a roughly symmetrical distribution of higher and lower values. Examples of this distribution occur frequently in nature, as random distributions of data from independent sources tend toward a normal form as the sample size increases. An example of this is height: most adults in a given population measure roughly the same mean height, with diminishing numbers of people recording higher and lower values (i.e., equally few people will be unusually tall or short compared to the mean).\n",
    "\n",
    "Because the normal distribution emerges as a property of random data sets, it is useful to data scientists in hypothesis testing. As Francis Morales outlines in [this article](https://medium.com/analytics-vidhya/the-normal-distribution-for-data-scientists-6de041a01cb9), the known properties of the normal distribution, such as the number of standard deviations within which certain percentages of data points should fall, help to identify outliers in the data. This can help to highlight distortions in the gathered data which can then be controlled for.\n",
    "\n",
    "The ***normal()*** function is used to draw random samples from a normal distribution. It takes two required parameters, both of which are float values: ***loc*** defines the mean value which will correspond to the centre of the ditribution; ***scale*** defines the standard deviation of the distribution, which determines the width or spread of the distribution.\n",
    "\n",
    "It also takes the ***size*** parameter, which defines the number of values returned. This argument is passed as an int value if the returned values should form a 1-dimensional array, and a tuple value if the they should form a multi-dimensional array."
   ]
  },
  {
   "cell_type": "code",
   "execution_count": 9,
   "metadata": {
    "scrolled": true
   },
   "outputs": [
    {
     "data": {
      "text/plain": [
       "array([3.84780829, 4.26239119, 4.62318299, 4.8530794 , 3.94183865,\n",
       "       3.57598553, 4.7551997 , 4.17127666, 4.2644462 , 4.64207015,\n",
       "       4.12359552, 4.01484858, 4.77660757, 3.56468614, 4.01834034,\n",
       "       4.06699969, 4.14098003, 3.90752404, 4.47288316, 3.56352688,\n",
       "       4.00826291, 3.91565813, 4.03457741, 3.5731876 , 4.59689822,\n",
       "       4.41756546, 3.59581153, 4.24872577, 2.66699875, 4.60201447,\n",
       "       3.28339842, 4.8816845 , 4.41621639, 3.11726238, 4.18555863,\n",
       "       2.9611331 , 3.48699526, 4.41006523, 3.93976593, 3.96545575,\n",
       "       3.86540724, 4.78318244, 4.18702284, 3.6392308 , 6.07536072,\n",
       "       3.02847187, 3.20995501, 4.23676965, 4.38233058, 3.50845506,\n",
       "       4.46192495, 3.95328073, 4.03747362, 3.75893539, 4.20498725,\n",
       "       3.73818805, 4.56761254, 3.60549732, 4.1176257 , 3.5824378 ,\n",
       "       3.64613641, 4.86526216, 4.09538459, 3.83655564, 3.72931928,\n",
       "       3.66727379, 3.58990851, 4.01377279, 3.81736805, 4.86496546,\n",
       "       3.62823658, 3.04696903, 3.97639729, 2.90032479, 4.55912685,\n",
       "       3.94459847, 4.55662157, 3.87049487, 4.19480905, 5.28087458,\n",
       "       4.55574624, 4.49182074, 4.11520691, 3.63732169, 4.24983188,\n",
       "       4.79989482, 3.87300587, 3.12153856, 4.51626934, 4.61181203,\n",
       "       3.28738428, 3.6025875 , 3.9915509 , 4.2089903 , 3.6088125 ,\n",
       "       4.68913303, 4.42373688, 4.04691221, 4.67122354, 5.31369915])"
      ]
     },
     "execution_count": 9,
     "metadata": {},
     "output_type": "execute_result"
    }
   ],
   "source": [
    "meanValue = rng.integers(0, 11) # mean value generated as integer\n",
    "stdDev = rng.random() # standard deviation generated as float\n",
    "norm = np.default_rng().normal(meanValue, stdDev, 100) # setting the variable containing the normal distribution values\n",
    "norm"
   ]
  },
  {
   "cell_type": "markdown",
   "metadata": {},
   "source": [
    "The [numpy documentation](https://numpy.org/doc/stable/reference/random/generated/numpy.random.Generator.normal.html#numpy.random.Generator.normal) for the ***normal()*** function gives the following formula to test if the above values form a normal distribution. I will use the randomly generated values in the previous cell to perform the test."
   ]
  },
  {
   "cell_type": "code",
   "execution_count": 25,
   "metadata": {
    "scrolled": true
   },
   "outputs": [
    {
     "data": {
      "text/plain": [
       "Text(0, 0.5, 'probability')"
      ]
     },
     "execution_count": 25,
     "metadata": {},
     "output_type": "execute_result"
    },
    {
     "data": {
      "image/png": "[encoded data removed]",
      "text/plain": [
       "<Figure size 432x288 with 1 Axes>"
      ]
     },
     "metadata": {
      "needs_background": "light"
     },
     "output_type": "display_data"
    }
   ],
   "source": [
    "import matplotlib.pyplot as plt\n",
    "count, bins, ignored = plt.hist(norm, 30, density=True) # defining the histogram\n",
    "plt.plot(bins, 1/(stdDev * numpy.sqrt(2 * numpy.pi)) * numpy.exp( - (bins - meanValue)**2 / (2 * stdDev**2)), linewidth=2, color='r')\n",
    "plt.xlabel(\"value\")\n",
    "plt.ylabel(\"probability\")"
   ]
  },
  {
   "cell_type": "markdown",
   "metadata": {},
   "source": [
    "The evenness of the distribution and symmetry of the curve can be improved by increasing the sample size, since we know that small random samples from independent sources, like those generated by the ***normal()*** function, tend toward the standard normal distribution shape as sample size increases:"
   ]
  },
  {
   "cell_type": "code",
   "execution_count": 144,
   "metadata": {},
   "outputs": [
    {
     "data": {
      "text/plain": [
       "Text(0, 0.5, 'probability')"
      ]
     },
     "execution_count": 144,
     "metadata": {},
     "output_type": "execute_result"
    },
    {
     "data": {
      "image/png": "[encoded data removed]",
      "text/plain": [
       "<Figure size 432x288 with 1 Axes>"
      ]
     },
     "metadata": {
      "needs_background": "light"
     },
     "output_type": "display_data"
    }
   ],
   "source": [
    "norm = np.default_rng().normal(meanValue, stdDev, 5000) # increasing sample size\n",
    "count, bins, ignored = plt.hist(norm, 30, density=True)\n",
    "plt.plot(bins, 1/(stdDev * numpy.sqrt(2 * numpy.pi)) * numpy.exp( - (bins - meanValue)**2 / (2 * stdDev**2)), linewidth=2, color='r')\n",
    "plt.xlabel(\"value\")\n",
    "plt.ylabel(\"probability\")"
   ]
  },
  {
   "cell_type": "markdown",
   "metadata": {},
   "source": [
    "***"
   ]
  },
  {
   "cell_type": "markdown",
   "metadata": {},
   "source": [
    "### Uniform\n",
    "\n",
    "> Generator.uniform(*low=0.0, high=1.0, size=None*)\n",
    "\n",
    "The uniform or rectangular distribution describes output values that fall within a pair of known maximum and minimum values. When plotted, the uniform distribution is defined by the plot line being flat, indicating an equal probability for all outcomes. This distribution is important for generating random numbers and testing randomness, as any output number should have the same likelihood of occurrence as any other. If the resulting distribution is not flat, it can indicate that the process for generating randomness is skewed. For example, with a high enough sample size, all the balls in a bingo game should have the same probability of being dispensed. If the outcomes of *n* ball selections is plotted and the mean probability is found not to be uniform, it indicates that factors such as the weight of the balls are distorting the outcomes.\n",
    "\n",
    "The ***uniform()*** function has one required parameters, ***high***, which takes as argument a float value or array of floats which sets the upper limit of the output interval. It also has the optional parameters ***low***, which sets the lower limit of the interval, and ***size***, which takes an int or tuple of ints to determine the number of values returned."
   ]
  },
  {
   "cell_type": "code",
   "execution_count": 81,
   "metadata": {
    "scrolled": true
   },
   "outputs": [
    {
     "data": {
      "text/plain": [
       "array([0.64752209, 0.77405306, 0.5264662 , 0.80676957, 0.77178302,\n",
       "       0.9101906 , 0.78245245, 0.70414965, 0.60550553, 0.52679828,\n",
       "       0.46235462, 0.77901972, 0.50225609, 0.95039745, 0.47121487,\n",
       "       0.74456907, 0.94289028, 0.61282638, 0.50972189, 0.72526609,\n",
       "       0.58253238, 0.7013058 , 0.75864123, 0.44774485, 0.67868029,\n",
       "       0.62536593, 0.65531788, 0.63599399, 0.48359059, 0.42396608,\n",
       "       0.55025984, 0.52505096, 0.64281096, 0.48038019, 0.88058938,\n",
       "       0.87122729, 0.43331962, 0.87838686, 0.93812695, 0.65414264,\n",
       "       0.94374114, 0.50989328, 0.68653213, 0.98090644, 0.4875348 ,\n",
       "       0.74387839, 0.71134626, 0.46186847, 0.42306084, 0.74217873,\n",
       "       0.90014526, 0.63080632, 0.80327472, 0.56279644, 0.63276804,\n",
       "       0.58200099, 0.78389299, 0.61806827, 0.83743312, 0.4801019 ,\n",
       "       0.77287096, 0.44402535, 0.81743722, 0.44985341, 0.77121219,\n",
       "       0.82317409, 0.8314413 , 0.92752373, 0.5546656 , 0.5454571 ,\n",
       "       0.92307881, 0.43964985, 0.44168924, 0.60370022, 0.8152217 ,\n",
       "       0.42724433, 0.65632806, 0.70008518, 0.74784316, 0.50175522,\n",
       "       0.57788785, 0.68738085, 0.87652849, 0.83774477, 0.85638064,\n",
       "       0.76256901, 0.80515786, 0.76991924, 0.74649535, 0.5283806 ,\n",
       "       0.50532481, 0.85197648, 0.81565005, 0.49601205, 0.74918283,\n",
       "       0.66385375, 0.5298367 , 0.42246776, 0.69187922, 0.83540794,\n",
       "       0.72874292, 0.7978799 , 0.43146834, 0.6372815 , 0.51492612,\n",
       "       0.45040637, 0.67999364, 0.87718176, 0.95213894, 0.93207506,\n",
       "       0.73065719, 0.84446227, 0.86823171, 0.5209911 , 0.93302399,\n",
       "       0.78174181, 0.8330404 , 0.47993111, 0.68955323, 0.93840674,\n",
       "       0.83207648, 0.86731829, 0.52795126, 0.58709106, 0.76392534,\n",
       "       0.75799296, 0.62149489, 0.67456671, 0.9212675 , 0.51729177,\n",
       "       0.8541613 , 0.95394531, 0.63574163, 0.45352101, 0.83408328,\n",
       "       0.80265919, 0.66912544, 0.53053202, 0.95044242, 0.49406567,\n",
       "       0.84627351, 0.71374426, 0.80880439, 0.80032985, 0.70205299,\n",
       "       0.82071509, 0.42925908, 0.45439012, 0.57514193, 0.92423846,\n",
       "       0.88083667, 0.95481957, 0.56263754, 0.48962315, 0.58378025,\n",
       "       0.70291106, 0.58113591, 0.5547353 , 0.57831266, 0.72841366,\n",
       "       0.7519891 , 0.65339017, 0.76814911, 0.98635478, 0.70105147,\n",
       "       0.80610466, 0.63195682, 0.93537977, 0.52648022, 0.90225419,\n",
       "       0.97024381, 0.75645118, 0.50211959, 0.78019911, 0.69051711,\n",
       "       0.93665627, 0.55955268, 0.59476473, 0.69436026, 0.75139151,\n",
       "       0.77458106, 0.60646151, 0.90827848, 0.72252306, 0.92194435,\n",
       "       0.43359767, 0.88984545, 0.76941769, 0.50065614, 0.73529935,\n",
       "       0.50662298, 0.60132508, 0.79273149, 0.86470708, 0.83204768,\n",
       "       0.46039299, 0.68331441, 0.97280856, 0.76231667, 0.71814295,\n",
       "       0.61931876, 0.69585083, 0.65267592, 0.97767211, 0.44170574,\n",
       "       0.56274861, 0.91786382, 0.51148812, 0.50839106, 0.50905467,\n",
       "       0.63357968, 0.8706517 , 0.95066246, 0.53426903, 0.89922907,\n",
       "       0.58078586, 0.77761687, 0.5950102 , 0.77211644, 0.54877321,\n",
       "       0.58026099, 0.47237692, 0.57988883, 0.56675328, 0.90915868,\n",
       "       0.61732883, 0.81707673, 0.58355479, 0.44184638, 0.99191164,\n",
       "       0.96630883, 0.87013901, 0.9217068 , 0.97010055, 0.70974236,\n",
       "       0.50855094, 0.5417571 , 0.64340777, 0.51409108, 0.95459851,\n",
       "       0.75356157, 0.56347494, 0.9924215 , 0.80276775, 0.96628533,\n",
       "       0.4930907 , 0.48149882, 0.83944265, 0.8271847 , 0.92013495,\n",
       "       0.72335543, 0.57036367, 0.43428645, 0.78178993, 0.6861082 ,\n",
       "       0.44733068, 0.43571705, 0.68029248, 0.76928368, 0.67856051,\n",
       "       0.74374134, 0.65599455, 0.58809695, 0.56693315, 0.50948716,\n",
       "       0.60904663, 0.56953565, 0.53063509, 0.71616963, 0.77552852,\n",
       "       0.98303132, 0.946049  , 0.53914109, 0.62736598, 0.58312261,\n",
       "       0.98196893, 0.65069299, 0.67070418, 0.46233624, 0.88163911,\n",
       "       0.89265035, 0.95471082, 0.98181016, 0.6823169 , 0.93629226,\n",
       "       0.97960306, 0.71084053, 0.71085052, 0.73087188, 0.70858554,\n",
       "       0.67402004, 0.57863905, 0.89772161, 0.89363892, 0.61864967,\n",
       "       0.64754505, 0.9842624 , 0.44778397, 0.67207792, 0.46587717,\n",
       "       0.80603236, 0.65869073, 0.8671318 , 0.88008287, 0.45480322,\n",
       "       0.50735008, 0.8336155 , 0.63130522, 0.93077593, 0.55980611,\n",
       "       0.54384848, 0.70580675, 0.66982513, 0.9111336 , 0.93097609,\n",
       "       0.74663334, 0.69884723, 0.65509213, 0.69107327, 0.76521724,\n",
       "       0.9349116 , 0.94643341, 0.86930398, 0.62685973, 0.88718883,\n",
       "       0.84381405, 0.98446639, 0.54132693, 0.68733861, 0.8708349 ,\n",
       "       0.54071991, 0.78424541, 0.73253028, 0.53811598, 0.89453565,\n",
       "       0.63422716, 0.89550419, 0.53255955, 0.98952143, 0.48027717,\n",
       "       0.51349498, 0.71677038, 0.62225979, 0.58070231, 0.57464903,\n",
       "       0.44995149, 0.65601434, 0.75263334, 0.91058921, 0.58741013,\n",
       "       0.81238738, 0.82148152, 0.4247177 , 0.47337121, 0.56841083,\n",
       "       0.97465892, 0.56179616, 0.89303234, 0.73743411, 0.61458714,\n",
       "       0.9420899 , 0.48061844, 0.55337277, 0.61903809, 0.42802462,\n",
       "       0.46256274, 0.464006  , 0.51710783, 0.73120747, 0.75899646,\n",
       "       0.89523806, 0.97267096, 0.90246251, 0.72423102, 0.92962206,\n",
       "       0.70651004, 0.58340837, 0.66642021, 0.96546318, 0.56420572,\n",
       "       0.91292052, 0.96132594, 0.47848412, 0.71496885, 0.7804021 ,\n",
       "       0.62648512, 0.50441001, 0.91090962, 0.70401863, 0.86367993,\n",
       "       0.79414457, 0.65664853, 0.75624072, 0.75462221, 0.73484166,\n",
       "       0.89214471, 0.47851621, 0.76213799, 0.82392594, 0.86524159,\n",
       "       0.46398191, 0.6411227 , 0.93250638, 0.45019209, 0.87778211,\n",
       "       0.4937842 , 0.54047875, 0.54434328, 0.55304923, 0.90222589,\n",
       "       0.55047501, 0.9414262 , 0.68134317, 0.67124901, 0.51039832,\n",
       "       0.82077232, 0.47921677, 0.70302327, 0.64714407, 0.99374671,\n",
       "       0.61162773, 0.81977205, 0.47931628, 0.80436495, 0.67147397,\n",
       "       0.48957211, 0.84788819, 0.58018829, 0.90563265, 0.91042529,\n",
       "       0.90559837, 0.79991114, 0.49829683, 0.70945076, 0.52529755,\n",
       "       0.42235089, 0.83666535, 0.53779259, 0.49188954, 0.67751694,\n",
       "       0.78407821, 0.73394415, 0.80402092, 0.8041328 , 0.97593314,\n",
       "       0.45885852, 0.64687947, 0.63043632, 0.51070022, 0.45110472,\n",
       "       0.43168304, 0.56922616, 0.8213694 , 0.89501013, 0.66799626,\n",
       "       0.73290641, 0.95220082, 0.9856751 , 0.88576344, 0.67248711,\n",
       "       0.98912373, 0.52828138, 0.79129044, 0.4510423 , 0.95564158,\n",
       "       0.62657685, 0.94336764, 0.80772595, 0.45893168, 0.83396267,\n",
       "       0.68186048, 0.74239983, 0.51980886, 0.50890085, 0.45620703,\n",
       "       0.87313083, 0.59710419, 0.74058951, 0.88708142, 0.48530984,\n",
       "       0.74927387, 0.95599205, 0.5420932 , 0.50450092, 0.7818417 ,\n",
       "       0.91182954, 0.85727666, 0.67568068, 0.96527133, 0.51068354,\n",
       "       0.42230653, 0.63754321, 0.96426628, 0.63676268, 0.97723905,\n",
       "       0.47740127, 0.82552593, 0.46577014, 0.85408648, 0.92703488,\n",
       "       0.71339492, 0.91320805, 0.68328104, 0.73499132, 0.82269429,\n",
       "       0.80933038, 0.56459909, 0.76699863, 0.59347545, 0.72559746,\n",
       "       0.913623  , 0.55926652, 0.51207229, 0.92220747, 0.98414709,\n",
       "       0.43299885, 0.528679  , 0.45771159, 0.60101484, 0.5000784 ,\n",
       "       0.72837742, 0.80253779, 0.75131028, 0.46943445, 0.67511613,\n",
       "       0.97976802, 0.80769276, 0.60086397, 0.83695444, 0.67710718,\n",
       "       0.91074038, 0.57842213, 0.5929474 , 0.56430334, 0.76625873,\n",
       "       0.59871315, 0.68433903, 0.60424373, 0.69506787, 0.59907073,\n",
       "       0.63934719, 0.50948431, 0.62751723, 0.68984426, 0.96715255,\n",
       "       0.97984277, 0.45668176, 0.51963378, 0.45708584, 0.74059738,\n",
       "       0.83049944, 0.73376756, 0.94043846, 0.43601237, 0.47160583,\n",
       "       0.89639079, 0.62842592, 0.8391899 , 0.86044173, 0.47500702,\n",
       "       0.42485961, 0.94764874, 0.58018529, 0.87452825, 0.65851799,\n",
       "       0.63240007, 0.44273977, 0.81492955, 0.95945388, 0.61252456,\n",
       "       0.68358391, 0.94136804, 0.85404706, 0.79856807, 0.87755583,\n",
       "       0.64675758, 0.68934316, 0.60512149, 0.87345516, 0.69224321,\n",
       "       0.42920781, 0.42304023, 0.71048002, 0.78738231, 0.61390678,\n",
       "       0.66123647, 0.96745753, 0.86350705, 0.55568343, 0.74395869,\n",
       "       0.45250741, 0.49979021, 0.63998409, 0.59165536, 0.56705722,\n",
       "       0.90626813, 0.84309047, 0.47696371, 0.48147407, 0.73028182,\n",
       "       0.79580975, 0.48102309, 0.42868627, 0.62548189, 0.69525842,\n",
       "       0.6323413 , 0.87107799, 0.5748712 , 0.43511612, 0.86291463,\n",
       "       0.64859662, 0.67073599, 0.54923438, 0.67632137, 0.53653524,\n",
       "       0.80579108, 0.6402347 , 0.43229425, 0.97454137, 0.4437947 ,\n",
       "       0.96317579, 0.87594785, 0.65557188, 0.78758685, 0.70240729,\n",
       "       0.98881054, 0.59917027, 0.42690161, 0.47818319, 0.99148418,\n",
       "       0.95957982, 0.58431875, 0.49803301, 0.86424097, 0.5205975 ,\n",
       "       0.895034  , 0.81306448, 0.82929835, 0.73225788, 0.83407285,\n",
       "       0.8139856 , 0.68233161, 0.66486065, 0.98139724, 0.63505826,\n",
       "       0.62341795, 0.47532991, 0.51567234, 0.84890944, 0.70252067,\n",
       "       0.79595282, 0.72829499, 0.7508472 , 0.45140949, 0.91640911,\n",
       "       0.57729237, 0.52743691, 0.74979348, 0.86471385, 0.59979712,\n",
       "       0.95744729, 0.87093935, 0.96365216, 0.78716482, 0.68455431,\n",
       "       0.69910838, 0.95152596, 0.85541654, 0.60281739, 0.84136926,\n",
       "       0.56908182, 0.74825764, 0.78157784, 0.80662003, 0.91742077,\n",
       "       0.76624016, 0.68816589, 0.47415405, 0.8886389 , 0.59683464,\n",
       "       0.69167174, 0.81897993, 0.53045538, 0.43757974, 0.81723508,\n",
       "       0.97796782, 0.43082433, 0.49877553, 0.58107114, 0.45550843,\n",
       "       0.58256219, 0.44800417, 0.65049145, 0.68972901, 0.44744101,\n",
       "       0.43031697, 0.97752291, 0.78214927, 0.92905294, 0.56095986,\n",
       "       0.76297315, 0.70223899, 0.64476481, 0.44471921, 0.68226506,\n",
       "       0.76303611, 0.70182987, 0.60698198, 0.9599819 , 0.64100298,\n",
       "       0.96256685, 0.46160921, 0.75952994, 0.71504807, 0.76766934,\n",
       "       0.59207712, 0.87730273, 0.57393281, 0.88018976, 0.86814092,\n",
       "       0.94008375, 0.90806374, 0.88209439, 0.67962167, 0.79357266,\n",
       "       0.46052549, 0.5881969 , 0.79049916, 0.77122598, 0.64190402,\n",
       "       0.57034087, 0.43651648, 0.87529729, 0.80984383, 0.91126   ,\n",
       "       0.96493034, 0.6356792 , 0.87234113, 0.55285386, 0.68545374,\n",
       "       0.81832257, 0.90555218, 0.54282328, 0.49848759, 0.55443827,\n",
       "       0.88716345, 0.62739716, 0.68769493, 0.99544877, 0.45085019,\n",
       "       0.89716683, 0.6998967 , 0.75194503, 0.97652005, 0.9774374 ,\n",
       "       0.44369536, 0.62880304, 0.63800342, 0.56471983, 0.81547441,\n",
       "       0.70056627, 0.42941369, 0.98680555, 0.92043335, 0.49890795,\n",
       "       0.69778731, 0.94581912, 0.57403058, 0.66810254, 0.77926667,\n",
       "       0.47562527, 0.6009275 , 0.52879314, 0.85056072, 0.62111316,\n",
       "       0.77472719, 0.68186539, 0.54007865, 0.44086555, 0.54092682,\n",
       "       0.94927902, 0.97315215, 0.77074474, 0.92151374, 0.4540649 ,\n",
       "       0.79129501, 0.70138311, 0.6012642 , 0.95848457, 0.80637369,\n",
       "       0.93105197, 0.5548742 , 0.77027275, 0.96431749, 0.59795563,\n",
       "       0.75705803, 0.43281812, 0.62176412, 0.83797303, 0.47000165,\n",
       "       0.7439992 , 0.50044088, 0.9666935 , 0.56546035, 0.79386936,\n",
       "       0.90833517, 0.91166561, 0.74419838, 0.54587349, 0.96120732,\n",
       "       0.47643621, 0.80405219, 0.46066917, 0.80143898, 0.47389457,\n",
       "       0.54623991, 0.60883043, 0.74349501, 0.57972972, 0.91661414,\n",
       "       0.70578832, 0.94216838, 0.93978249, 0.67584463, 0.89626061,\n",
       "       0.6269858 , 0.76781166, 0.87684098, 0.4589654 , 0.95765799,\n",
       "       0.48866677, 0.80986934, 0.87762994, 0.69338264, 0.96041677,\n",
       "       0.90047868, 0.45001115, 0.81793582, 0.54850861, 0.86730759,\n",
       "       0.55669095, 0.62636374, 0.93843483, 0.5005909 , 0.70103583,\n",
       "       0.67440215, 0.65132723, 0.93177423, 0.88927893, 0.70390799,\n",
       "       0.6579815 , 0.81030476, 0.8941512 , 0.77856594, 0.97991398,\n",
       "       0.81986889, 0.93370502, 0.55412313, 0.6708828 , 0.82162873,\n",
       "       0.92637291, 0.54906009, 0.97889505, 0.65577988, 0.78424297,\n",
       "       0.66111165, 0.53052931, 0.48785403, 0.69709838, 0.49833535,\n",
       "       0.98599577, 0.72180349, 0.4396719 , 0.47685037, 0.55724618,\n",
       "       0.540912  , 0.77586041, 0.87157435, 0.91364223, 0.9578989 ,\n",
       "       0.82601953, 0.89500845, 0.5385698 , 0.75403343, 0.45730323,\n",
       "       0.55743353, 0.52630584, 0.72594336, 0.78373073, 0.71824976,\n",
       "       0.48994675, 0.80867719, 0.5438324 , 0.57279636, 0.84422812,\n",
       "       0.83558734, 0.74865869, 0.95260058, 0.82945378, 0.5552771 ,\n",
       "       0.86741125, 0.96881371, 0.9691161 , 0.68723276, 0.67397818,\n",
       "       0.91871127, 0.72578048, 0.74054019, 0.6545919 , 0.53833748,\n",
       "       0.85432368, 0.86202922, 0.74897295, 0.92136327, 0.96320352,\n",
       "       0.49930684, 0.90227057, 0.86845141, 0.8992661 , 0.57873297,\n",
       "       0.66129786, 0.52520766, 0.54970249, 0.84334954, 0.57866649,\n",
       "       0.64891384, 0.60452093, 0.57507357, 0.46698431, 0.48484494,\n",
       "       0.61071995, 0.8526072 , 0.4985073 , 0.47854818, 0.88702887,\n",
       "       0.96658158, 0.89761541, 0.9730384 , 0.46123974, 0.42972166,\n",
       "       0.5968419 , 0.68693595, 0.80558672, 0.52421338, 0.84231682,\n",
       "       0.95616048, 0.59788394, 0.81163372, 0.66206494, 0.71427301,\n",
       "       0.7296711 , 0.68577579, 0.95473676, 0.84388947, 0.9806389 ,\n",
       "       0.6126064 , 0.60891289, 0.75858479, 0.87187783, 0.79867865,\n",
       "       0.99130752, 0.81011288, 0.78167176, 0.77408629, 0.4685182 ,\n",
       "       0.93131307, 0.71717919, 0.97957981, 0.60884129, 0.79670795,\n",
       "       0.96012357, 0.76838221, 0.85613536, 0.51117332, 0.5377978 ,\n",
       "       0.82929135, 0.85694337, 0.51829937, 0.81393366, 0.80871993,\n",
       "       0.45746482, 0.83282941, 0.77328594, 0.62545874, 0.70371136,\n",
       "       0.5186877 , 0.89651896, 0.50435059, 0.83851415, 0.55976901,\n",
       "       0.61574584, 0.49334844, 0.73000649, 0.53056206, 0.97074626,\n",
       "       0.89407558, 0.48523078, 0.9164561 , 0.63854042, 0.81793789])"
      ]
     },
     "execution_count": 81,
     "metadata": {},
     "output_type": "execute_result"
    }
   ],
   "source": [
    "uniformArray = numpy.sort(rng.random(size=2)) # generating two random values to act as upper and lower bounds\n",
    "lowerBound, upperBound = uniformArray # assigning the variables\n",
    "uniformValues = np.default_rng().uniform(lowerBound, upperBound, size=1000) # setting the variable containing the uniform distribution values\n",
    "uniformValues"
   ]
  },
  {
   "cell_type": "markdown",
   "metadata": {},
   "source": [
    "The [numpy documentation](https://numpy.org/doc/stable/reference/random/generated/numpy.random.Generator.uniform.html#numpy.random.Generator.uniform) for the ***uniform()*** function gives the following formula to test if the above values form a uniform distribution:"
   ]
  },
  {
   "cell_type": "code",
   "execution_count": 111,
   "metadata": {},
   "outputs": [
    {
     "data": {
      "text/plain": [
       "Text(0, 0.5, 'probability')"
      ]
     },
     "execution_count": 111,
     "metadata": {},
     "output_type": "execute_result"
    },
    {
     "data": {
      "image/png": "[encoded data removed]",
      "text/plain": [
       "<Figure size 432x288 with 1 Axes>"
      ]
     },
     "metadata": {
      "needs_background": "light"
     },
     "output_type": "display_data"
    }
   ],
   "source": [
    "count, bins, ignored = plt.hist(uniformValues, 15, density=True)\n",
    "plt.plot(bins, numpy.ones_like(bins), linewidth=2, color='r')\n",
    "plt.xlabel(\"value\")\n",
    "plt.ylabel(\"probability\")"
   ]
  },
  {
   "cell_type": "markdown",
   "metadata": {},
   "source": [
    "As we can see, the mean probability for all values is constant, indicating that this is a uniform distribution."
   ]
  },
  {
   "cell_type": "markdown",
   "metadata": {},
   "source": [
    "***"
   ]
  },
  {
   "cell_type": "markdown",
   "metadata": {},
   "source": [
    "### Poisson\n",
    "\n",
    "> Generator.poisson(*lam=1.0, size=None*)\n",
    "\n",
    "The Poisson distribution is used to find the likelihood of a randomly-occurring event taking place if the mean frequency occurrence of the event is already known, and if occurrences of the event are independent of one another (i.e., no occurrence influences the likelihood of another occurring). An example of the Poisson distribution being applied is given in the novel *Gravity's Rainbow*, where it is used to calculate the likelihood of V-2 rocket strikes happening in any 1km<sup>2</sup> area of London during World War II. The strikes occur randomly and independently with a known mean frequency, and so a probability map can be produced showing the risk of strikes in any area of the city. The Poisson distribution can be used to derive an estimate of future performance in systems such as typography (estimating the number of printing errors per page), customer service (estimating the number of calls received at a call centre per day) or physics (estimating radioactive decay over a given period). In all such cases, the requirements of the Poisson distribution are applicable: the events occur at random intervals, the mean occurrence time of the events is known, the events are independent of one another.\n",
    "\n",
    "The ***poisson()*** function draws a series of random samples from a Poisson distribution. It takes one required parameter, ***lam***, as a float value or array of floats, which defines the number of expected events in a given interval of time or space. This value must be greater than or equal to 0.\n",
    "\n",
    "Poisson() also takes an int or array of int values as argument for the ***size*** distribution. This defines the number of values returned, in 1-dimensional or multi-dimensional array.\n",
    "\n",
    "The [numpy documentation](https://numpy.org/doc/stable/reference/random/generated/numpy.random.Generator.poisson.html#numpy.random.Generator.poisson) for the ***poisson()*** function gives the following code for generating a plot of the Poisson distribution."
   ]
  },
  {
   "cell_type": "code",
   "execution_count": 126,
   "metadata": {
    "scrolled": true
   },
   "outputs": [
    {
     "data": {
      "image/png": "[encoded data removed]",
      "text/plain": [
       "<Figure size 432x288 with 1 Axes>"
      ]
     },
     "metadata": {
      "needs_background": "light"
     },
     "output_type": "display_data"
    }
   ],
   "source": [
    "poissonValues = np.poisson(5, 1000) # passing the arguments for the lam and size parameters\n",
    "count, bins, ignored = plt.hist(poissonValues, 15, density=False) # generating the histogram\n",
    "plt.xlabel(\"events\")\n",
    "plt.ylabel(\"frequency\")\n",
    "plt.show()"
   ]
  },
  {
   "cell_type": "markdown",
   "metadata": {},
   "source": [
    "Using this example, we can approximate the Poisson distribution from *Gravity's Rainbow*, taking the ***lam*** parameter as the number of rocket strikes per day, and the ***size*** parameter as the number of 1km<sup>2</sup> areas of London city.\n",
    "* Period of V-2 strikes: 201 days ([source](https://en.wikipedia.org/wiki/V-2_rocket))\n",
    "* Number of rocket strikes: 1358\n",
    "* Area of London: 1579 km<sup>2</sup> (not accurate to 1945)\n",
    "* Mean rocket strikes per day: 1358 / 201 = 6.75"
   ]
  },
  {
   "cell_type": "code",
   "execution_count": 149,
   "metadata": {
    "scrolled": false
   },
   "outputs": [
    {
     "data": {
      "image/png": "[encoded data removed]",
      "text/plain": [
       "<Figure size 432x288 with 1 Axes>"
      ]
     },
     "metadata": {
      "needs_background": "light"
     },
     "output_type": "display_data"
    }
   ],
   "source": [
    "meanRocketsPerDay = 6.75\n",
    "area = 1579\n",
    "rocketsAreaDistribution = np.poisson(meanRocketsPerDay, area)\n",
    "count, bins, ignored = plt.hist(rocketsAreaDistribution, 16, density=False) # generating the histogram\n",
    "plt.xlabel(\"rockets\")\n",
    "plt.ylabel(\"frequency\")\n",
    "plt.show()"
   ]
  },
  {
   "cell_type": "markdown",
   "metadata": {},
   "source": [
    "This plot demonstrates the relative frequency with which a greater or lesser number of rocket strikes than the daily mean would have happened on any given day."
   ]
  },
  {
   "cell_type": "markdown",
   "metadata": {},
   "source": [
    "***"
   ]
  },
  {
   "cell_type": "markdown",
   "metadata": {},
   "source": [
    "### Binomial\n",
    "\n",
    "> Generator.binomial(*n, p, size=None*)\n",
    "\n",
    "The binomial distribution is related to the Poisson distribution. Whereas the Poisson distribution documents the occurrence or non-occurrence of an event within an interval of time based on many previous events, the binomial distribution studies the probability of having a certain number of successful occurrences in *n* number of trials. The trials measured must have binary outcomes which are mutually exclusive, such as coin-tossing, random bits reading as 0 or 1, or measuring the up or down spin of quantum particles. These types of success-failure trials are called Bernoulli trials, and the binomial distribution simply describes the probability distribution of multiple Bernoulli trials grouped together. The probability of each outcome must also be constant between trials, and, as with the Poisson distribution, the trials must be independent of each other.\n",
    "\n",
    "The ***binomial()*** function takes two required arguments: an int or array of ints *n*, describing the number of trials, and a float or array of floats *p*, describing the probability of success, which must be >= 0 and <= 1."
   ]
  },
  {
   "cell_type": "code",
   "execution_count": 5,
   "metadata": {
    "scrolled": true
   },
   "outputs": [
    {
     "name": "stdout",
     "output_type": "stream",
     "text": [
      "4\n"
     ]
    }
   ],
   "source": [
    "successes = rng.binomial(10, 0.5) # 10 trials, 50% probability of success\n",
    "print(successes)"
   ]
  },
  {
   "cell_type": "markdown",
   "metadata": {},
   "source": [
    "The ***binomial()*** function also takes an integer as argument for the ***size*** parameter to define the shape of the output array."
   ]
  },
  {
   "cell_type": "code",
   "execution_count": 6,
   "metadata": {
    "scrolled": true
   },
   "outputs": [
    {
     "data": {
      "text/plain": [
       "array([183, 193, 206, 187, 199, 203, 173, 225, 193, 202, 195, 203, 199,\n",
       "       187, 181, 195, 187, 210, 180, 200, 210, 201, 210, 193, 187, 194,\n",
       "       206, 195, 176, 192, 198, 213, 207, 189, 202, 198, 214, 202, 173,\n",
       "       193, 200, 190, 218, 195, 187, 182, 180, 193, 204, 202, 175, 186,\n",
       "       208, 203, 213, 191, 216, 225, 203, 216, 196, 208, 188, 192, 202,\n",
       "       191, 199, 203, 190, 190, 187, 208, 172, 171, 216, 208, 206, 205,\n",
       "       196, 212, 188, 216, 236, 211, 208, 197, 182, 205, 196, 188, 195,\n",
       "       190, 183, 195, 190, 223, 199, 229, 185, 179], dtype=int64)"
      ]
     },
     "execution_count": 6,
     "metadata": {},
     "output_type": "execute_result"
    }
   ],
   "source": [
    "successes = rng.binomial(1000, 0.2, 100) # the number of successes in 1000 trials at 20% probability of success\n",
    "# output array returns results of 100 groupings of trials\n",
    "successes"
   ]
  },
  {
   "cell_type": "markdown",
   "metadata": {},
   "source": [
    "I have modified the code in [this article](https://www.kdnuggets.com/2020/02/probability-distributions-data-science.html) (replacing the binomial function from the scipy.stats package with that from the numpy package and changing the calculation of the *y* axis) to demonstrate the number of successes for each randomly generated number of trials with a varying probability score."
   ]
  },
  {
   "cell_type": "code",
   "execution_count": 7,
   "metadata": {
    "scrolled": true
   },
   "outputs": [
    {
     "data": {
      "image/png": "[encoded data removed]",
      "text/plain": [
       "<Figure size 432x288 with 1 Axes>"
      ]
     },
     "metadata": {
      "needs_background": "light"
     },
     "output_type": "display_data"
    }
   ],
   "source": [
    "for prob in range(2, 10, 3): # setting the incrementing probability values\n",
    "    n = numpy.arange(0, 25) # setting the array of arguments for the n parameter\n",
    "    binom = rng.binomial(n, (0.1*prob)) # generating the binomial distribution\n",
    "    # print(\"N = \", n)\n",
    "    # print(\"Binom = \", binom) used these to verify that the returned binomial values were valid, not exceeding the N values\n",
    "    plt.plot(binom, '-o', label=\"p = {:f}\".format(0.1*prob))\n",
    "    plt.xlabel('Number of trials', fontsize=12)\n",
    "    plt.ylabel('Successes', fontsize=12)\n",
    "    plt.title(\"Binomial Distribution varying p\")\n",
    "    plt.legend()"
   ]
  },
  {
   "cell_type": "markdown",
   "metadata": {},
   "source": [
    "We see that the success values increase steadily with the number of trials and increase in probability, e.g., 20 trials at .2 probability returns 4 successes."
   ]
  },
  {
   "cell_type": "markdown",
   "metadata": {},
   "source": [
    "***"
   ]
  },
  {
   "cell_type": "markdown",
   "metadata": {},
   "source": [
    "### Multinomial\n",
    "\n",
    "> Generator.multinomial(*n, pvals, size=None*)\n",
    "\n",
    "The multinomial distribution is a generalisation of the binomial distribution. Where the binomial distribution returns the probability of success for one of two possible outcomes in repeated trials, the multinomial distribution describes the probability of success for each of a discrete number of possible outcomes exceeding two. For example, where the binomial distribution might be used to measure the probability of the results of a presidential election between two candidates, the multinomial distribution could be used to do the same for the results of a party primary election between numerous candidates. As with previous distributions, the probability for each outcome must remain constant between trials and the trials must be independent.\n",
    "\n",
    "The ***multinomial()*** function takes two required arguments: an int or array of ints *n*, describing the number of trials, and *pvals*, a sequence of floats of length *p*, describing the probabilities of each of the potential outcomes. The sum of the probability values passed to the *pvals* parameter must total 1.0."
   ]
  },
  {
   "cell_type": "code",
   "execution_count": 219,
   "metadata": {},
   "outputs": [
    {
     "data": {
      "text/plain": [
       "array([23,  6, 13,  8], dtype=int64)"
      ]
     },
     "execution_count": 219,
     "metadata": {},
     "output_type": "execute_result"
    }
   ],
   "source": [
    "rng.multinomial(50, [0.5, 0.1, 0.2, 0.2])"
   ]
  },
  {
   "cell_type": "markdown",
   "metadata": {},
   "source": [
    "In this example, the first result was returned 23 times, the second 6 times, etc.\n",
    "\n",
    "The ***multinomial()*** function also takes an integer as argument for the ***size*** parameter to define the shape of the output array."
   ]
  },
  {
   "cell_type": "code",
   "execution_count": 225,
   "metadata": {},
   "outputs": [
    {
     "data": {
      "text/plain": [
       "array([[22, 11,  0, 10,  4,  3],\n",
       "       [22,  7,  1, 11,  2,  7],\n",
       "       [15, 10,  4, 10,  2,  9],\n",
       "       [21, 11,  3,  9,  1,  5],\n",
       "       [22, 10,  3,  9,  2,  4]], dtype=int64)"
      ]
     },
     "execution_count": 225,
     "metadata": {},
     "output_type": "execute_result"
    }
   ],
   "source": [
    "rng.multinomial(50, [0.4, 0.15, 0.05, 0.2, 0.05, 0.15], 5)"
   ]
  },
  {
   "cell_type": "markdown",
   "metadata": {},
   "source": [
    "***"
   ]
  },
  {
   "cell_type": "markdown",
   "metadata": {},
   "source": [
    "### Exponential\n",
    "\n",
    "> Generator.exponential(*scale=1.0, size=None*)\n",
    "\n",
    "The exponential probability distribution describes the expected time intervals between recorded events. As described in [this article](https://courses.lumenlearning.com/introstats1/chapter/the-exponential-distribution/), the exponential distribution is frequently used in the field of reliability, such as for estimating the time intervals before a particular product breaks down and requires repairs, or estimating the time between server outages. It is related to the Poisson distribution in that the rate of occurrence of an event is being measured in the variable λ, and events must be independent and of a known mean rate of occurrence.\n",
    "\n",
    "The ***exponential()*** function generates an array of random numbers along an exponential distribution. It takes a float or array of floats as argument for the *scale* parameter, where x > 0. This parameter defines the statistical dispersion of the distribution (how widely distributed or concentrated the generated values are). It also takes an int or tuple of ints for the ***size*** parameter, describing the shape of the output distribution."
   ]
  },
  {
   "cell_type": "code",
   "execution_count": 11,
   "metadata": {
    "scrolled": true
   },
   "outputs": [
    {
     "data": {
      "text/plain": [
       "array([1.27935444e+00, 5.43512816e+00, 1.16056720e+01, 4.60855517e+00,\n",
       "       2.42728834e+00, 1.10335326e+01, 1.50523876e+01, 7.06330635e+00,\n",
       "       2.05511392e+00, 1.33301107e+01, 3.62619389e+00, 1.19897088e+00,\n",
       "       1.68662053e+00, 1.97374609e+01, 3.03301047e+00, 7.49415407e-01,\n",
       "       6.69681733e+00, 9.20496670e+00, 7.27848599e+00, 5.23427933e-01,\n",
       "       1.96675281e+00, 3.91305775e-01, 5.00823700e-01, 5.36659423e+00,\n",
       "       1.59294882e+00, 5.62374307e+00, 6.22542657e+00, 1.76697745e+00,\n",
       "       1.50809468e+01, 3.86645031e+00, 3.45547555e+00, 7.01687500e+00,\n",
       "       9.97751346e+00, 1.55386795e+00, 5.37775994e+00, 1.01691728e+01,\n",
       "       5.71203614e+00, 3.44935154e+00, 3.13125924e+00, 1.94554604e+00,\n",
       "       1.60199897e-01, 3.10671689e+00, 9.50151656e-01, 5.22832375e+00,\n",
       "       3.41816178e-01, 2.08620208e+00, 1.67316143e+01, 1.39387887e-01,\n",
       "       7.48261199e-02, 2.30084302e-01, 4.82640072e+00, 1.11197529e+01,\n",
       "       8.73513840e+00, 6.93089638e-03, 4.32578093e+00, 6.04416720e+00,\n",
       "       4.98542649e+00, 9.16931212e+00, 1.03658944e+00, 9.07120766e-01,\n",
       "       4.25280000e+00, 1.04115567e+01, 2.67066719e+00, 1.23498403e+01,\n",
       "       1.10634746e+00, 2.12820384e+00, 1.68061285e+00, 9.30953128e+00,\n",
       "       4.08865255e+00, 2.67659507e+00, 1.28306143e+00, 4.28085121e+00,\n",
       "       6.91440974e-01, 3.64590129e+00, 1.09927147e+00, 2.13567283e+00,\n",
       "       3.38657273e+00, 5.28952712e+00, 4.17762399e+00, 3.13496433e+00,\n",
       "       3.05321123e+00, 4.71787571e+00, 2.93927620e+00, 1.30976872e-01,\n",
       "       2.68525118e+00, 1.22948827e+01, 1.39091429e+00, 3.00126327e-01,\n",
       "       6.07691647e-01, 3.00060885e+00, 3.63738056e-01, 2.77184852e-01,\n",
       "       5.12448822e-01, 1.39408858e-01, 4.41930773e+00, 7.72187065e+00,\n",
       "       1.50537171e+00, 1.32660484e+00, 2.17034664e+00, 3.55316742e+00,\n",
       "       3.42899167e+00, 1.45823839e+01, 3.98484739e+00, 4.79012579e+00,\n",
       "       1.88611674e+00, 1.17329228e+01, 1.01801161e+01, 5.70316951e-01,\n",
       "       2.18754837e+00, 8.26068272e+00, 7.69243975e+00, 1.01355097e+01,\n",
       "       4.23716745e+00, 6.96923132e+00, 3.12194405e+00, 3.89574081e+00,\n",
       "       4.49441983e+00, 8.72513178e+00, 1.30991074e+00, 2.86165180e+00,\n",
       "       2.32918305e-01, 3.29122685e+00, 8.25949226e+00, 1.76266052e+00,\n",
       "       1.14835212e+00, 3.43218092e+00, 1.49865104e+00, 1.07508713e+00,\n",
       "       1.12239686e+01, 1.31780347e+01, 3.38175996e+00, 1.52885824e+00,\n",
       "       5.22134845e+00, 2.35358171e-01, 3.96132189e+00, 7.37562456e+00,\n",
       "       1.36660006e+01, 1.83431126e+00, 6.90896577e+00, 2.33284179e+00,\n",
       "       1.09080812e+01, 1.85915221e+00, 8.32275680e-01, 3.22132838e+00,\n",
       "       1.41789370e+01, 6.99695381e+00, 1.89672123e+01, 1.39507187e+01,\n",
       "       4.11823504e+00, 9.89066599e+00, 9.67940142e-01, 3.30455366e+00,\n",
       "       4.98072585e-03, 3.09769285e+00, 3.71150237e+00, 1.93422308e+01,\n",
       "       1.63974152e+00, 5.26837464e-01, 9.22004331e+00, 1.48190699e+01,\n",
       "       8.84235926e-01, 4.08895534e+00, 2.97722213e+00, 2.08459153e+00,\n",
       "       1.24956182e+00, 5.33875632e+00, 9.61334177e-03, 2.53313804e+00,\n",
       "       9.33132927e-01, 7.88141159e+00, 4.63262789e-01, 2.27131646e+00,\n",
       "       7.96473697e-01, 1.54624347e+01, 5.19052237e+00, 2.98845943e-01,\n",
       "       9.33309086e+00, 1.40490030e+00, 1.60423586e+00, 6.89749910e+00,\n",
       "       7.91293138e-01, 1.15959552e+00, 4.98278113e+00, 5.93106986e-01,\n",
       "       2.71768045e+00, 5.11206672e-01, 5.65599460e-02, 4.21959906e+00,\n",
       "       8.79516073e+00, 1.65805254e+00, 2.30373908e+00, 1.05268612e+01,\n",
       "       1.16056084e+01, 1.05484675e+01, 1.69249482e-01, 1.31042582e+01,\n",
       "       4.39044363e+00, 1.79000715e+00, 5.13077326e-01, 8.04583455e+00,\n",
       "       6.51723974e+00, 2.97569452e-02, 1.74023159e+00, 1.14617911e+01,\n",
       "       5.09597663e+00, 3.74544838e+00, 1.24482520e+01, 5.00826589e+00,\n",
       "       1.59963089e+00, 1.96543860e+00, 2.20451065e+00, 1.61506889e+01,\n",
       "       8.34321286e+00, 6.63883944e+00, 8.99090069e-01, 1.43052843e+00,\n",
       "       1.48659798e+01, 1.07753456e-01, 4.03979300e+00, 4.21133486e+00,\n",
       "       5.60609186e-01, 7.07042865e-01, 1.14425443e-02, 3.51639327e+00,\n",
       "       9.16799726e-02, 4.65492575e+00, 6.24278054e+00, 1.14086172e+01,\n",
       "       2.02677146e+00, 5.11553947e+00, 1.49783995e+00, 3.55909324e+00,\n",
       "       1.98919596e+00, 7.28469507e-01, 4.79512532e+00, 5.33332999e-01,\n",
       "       5.74370525e+00, 1.77056419e+00, 1.63383811e+00, 2.80446739e+00,\n",
       "       1.23979809e+00, 2.68369619e+00, 2.63300857e+00, 4.27321117e+00,\n",
       "       4.66361649e+00, 1.11120638e+00, 3.43939507e+00, 4.80347139e-01,\n",
       "       5.75298737e-02, 9.90231395e+00, 7.83941154e+00, 6.49920164e+00,\n",
       "       2.70472488e+00, 2.49539983e+00, 2.08111091e+00, 9.69026995e+00,\n",
       "       3.62857027e+00, 3.26750005e+00, 3.98141307e+00, 3.56300179e+00,\n",
       "       3.18674747e+00, 4.73260132e+00, 1.21887352e+00, 2.34771621e+00,\n",
       "       4.44146200e+00, 1.86067093e+00, 1.29861405e+01, 3.92638818e+01,\n",
       "       4.95421156e+00, 4.12654997e-01, 9.62964355e+00, 1.54216764e+01,\n",
       "       2.52245656e+01, 1.33328930e+00, 2.80302328e+00, 1.67011328e-01,\n",
       "       3.77767760e+00, 3.60416675e+00, 6.87815632e+00, 1.25467398e+01,\n",
       "       1.20470972e+00, 4.02799973e+00, 5.20280825e+00, 1.39157442e+00,\n",
       "       3.56909786e+00, 6.94043558e-01, 2.84216457e+00, 1.15535682e+01,\n",
       "       2.05800934e+01, 2.00668920e-02, 1.76681709e-01, 2.38932611e+00,\n",
       "       1.11541663e+01, 4.95691625e-01, 2.92848868e+00, 4.90642530e-01,\n",
       "       2.66167886e+00, 2.89693043e+00, 3.66884716e+00, 5.92372419e+00,\n",
       "       7.58336190e-01, 5.70575789e+00, 1.79456780e+01, 3.02807368e+00,\n",
       "       5.08097780e+00, 4.95865935e+00, 2.65949455e+00, 2.57914542e+00,\n",
       "       4.71703224e+00, 2.27982921e+01, 1.53706135e+00, 2.30278503e-01,\n",
       "       1.27108472e+00, 3.11353119e+00, 1.93582823e+00, 4.23925944e+00,\n",
       "       4.50868647e+00, 7.52591468e-01, 8.14198370e-01, 1.82365875e+00,\n",
       "       2.32334639e+00, 1.84177304e+00, 1.45870381e+00, 6.63658648e+00,\n",
       "       1.68680498e+00, 1.05895770e+00, 1.42264668e+00, 1.04646118e+01,\n",
       "       3.60175510e+00, 2.58608141e+00, 1.12908493e+00, 7.31555921e+00,\n",
       "       2.31781135e+00, 6.37826547e-01, 1.35578623e+01, 3.62183323e+00,\n",
       "       5.03850830e+00, 5.74889139e+00, 3.01240485e+01, 9.48198726e-01,\n",
       "       1.31504030e+00, 1.26017017e+01, 2.46391004e+00, 1.04019509e+01,\n",
       "       3.54789773e+00, 1.49925011e+00, 1.76933767e+00, 6.70922251e+00,\n",
       "       3.36163594e+00, 1.07929698e+00, 3.80121603e+00, 4.67582818e-01,\n",
       "       5.83786358e+00, 7.70407180e+00, 4.76292160e+00, 2.28394940e+00,\n",
       "       1.57384126e+00, 1.05370995e+01, 3.73418902e+00, 1.38122571e+00,\n",
       "       3.03277127e+00, 1.95650027e+01, 4.73461045e+00, 6.45318760e+00,\n",
       "       4.41992289e+00, 2.78771189e+00, 5.80776335e+00, 1.38075997e+01,\n",
       "       1.05199279e+01, 3.99464798e+00, 3.19590775e+00, 1.64361408e+01,\n",
       "       2.54193218e+00, 4.93592539e+00, 3.66690834e+00, 1.40885721e+00,\n",
       "       1.14796128e+01, 1.40543281e+00, 1.43754580e+00, 1.90507379e+00,\n",
       "       6.24652379e+00, 9.14343222e-02, 1.73978797e+00, 1.72274948e+01,\n",
       "       3.03583262e+00, 9.14465075e-01, 2.24463891e+00, 1.10064235e+01,\n",
       "       1.68151886e+01, 9.12537549e-01, 6.15280604e-01, 2.27996753e+00,\n",
       "       3.44002449e+00, 1.38552288e+00, 3.76148105e+00, 1.57406570e-01,\n",
       "       4.20875642e+00, 1.24600089e+01, 8.10347431e-01, 5.24243714e+00,\n",
       "       3.89120663e+00, 3.25997002e+00, 1.02409075e+01, 1.99226649e+00,\n",
       "       7.84421129e+00, 8.10492624e+00, 3.90488244e+00, 1.15799779e+00,\n",
       "       3.62072995e+00, 1.45086442e+00, 8.85232616e-01, 1.14469256e-01,\n",
       "       3.27239346e+00, 1.91545941e+00, 8.96316868e-01, 3.12443201e+00,\n",
       "       3.10442724e+00, 5.67426359e+00, 1.66760485e+00, 3.64138261e+00,\n",
       "       3.45695860e+00, 2.04398289e+01, 1.04560701e+00, 8.77955408e+00,\n",
       "       2.13792749e+00, 9.34689188e+00, 2.22878641e+00, 1.77959110e+01,\n",
       "       3.65438716e+00, 6.77313163e+00, 8.16226200e+00, 5.94110941e+00,\n",
       "       3.41687125e+00, 7.47404265e+00, 1.47348313e+00, 3.76973024e+00,\n",
       "       4.74830449e+00, 2.42167587e+00, 2.78860431e+00, 7.24956909e+00,\n",
       "       1.50945912e+00, 3.37480063e+00, 1.76025763e+00, 5.05953984e+00,\n",
       "       1.52941086e+00, 4.66224165e+00, 3.36490016e+00, 1.28131403e+01,\n",
       "       4.57570038e+00, 8.17060379e-01, 1.24284582e+01, 1.61821359e+00,\n",
       "       1.56659112e+00, 4.42763717e+00, 2.69496755e+00, 4.12933419e+00,\n",
       "       5.00462109e+00, 4.35083053e+00, 1.92801012e+00, 1.50532753e-01,\n",
       "       8.74766157e+00, 2.21195277e+00, 3.34480414e+00, 4.66530279e+00,\n",
       "       1.51431315e+00, 2.68634413e+00, 2.80983555e+00, 2.21217666e+00,\n",
       "       4.69005679e-01, 7.24017547e-01, 3.07836150e+00, 2.66916011e+00,\n",
       "       5.32109792e+00, 9.79847661e+00, 3.68762347e+00, 1.79526752e+00,\n",
       "       2.03308737e+00, 2.27874068e-01, 4.22393710e+00, 1.20600993e+01,\n",
       "       2.01696310e+00, 3.35107910e+00, 3.08418102e-01, 7.73667023e-01,\n",
       "       3.07811503e+00, 5.89420276e+00, 1.13649408e+00, 8.99733403e+00,\n",
       "       3.71340659e+00, 1.99891905e+00, 2.86885709e+00, 7.63309068e+00,\n",
       "       4.76640938e+00, 1.05972845e+01, 5.01326747e+00, 9.11982710e-01,\n",
       "       1.18222089e+00, 1.02033778e+00, 4.64354815e+00, 1.05206805e+01,\n",
       "       2.93229606e-01, 6.10632318e+00, 1.84312306e+00, 2.68994473e+01,\n",
       "       5.45647202e+00, 7.06291743e+00, 3.55527353e+00, 4.88904695e+00,\n",
       "       3.22768832e-01, 8.58883652e-01, 1.48680829e+01, 8.71875324e+00,\n",
       "       2.30607179e+00, 6.05756119e+00, 7.30737964e+00, 1.59772276e+00,\n",
       "       6.66687186e+00, 9.51747211e+00, 1.73627313e+01, 2.30883092e+01,\n",
       "       2.24175207e+00, 5.36938150e+00, 2.27751889e+00, 4.05491256e+00,\n",
       "       4.75468862e+00, 1.05479585e+00, 2.50214172e+00, 2.42873438e+00,\n",
       "       4.11781092e+00, 3.77164126e+00, 4.35091978e+00, 2.80828990e+00,\n",
       "       4.45836928e+00, 1.19565378e+00, 2.54729734e+00, 5.90417560e+00,\n",
       "       1.96903058e+00, 2.62565138e+00, 4.10137332e+00, 2.60159699e+00,\n",
       "       3.96100643e+00, 1.24123347e-01, 5.85004120e+00, 3.68178380e+00,\n",
       "       8.50892347e-01, 8.46372941e-01, 9.03895001e-02, 3.64591079e+00,\n",
       "       9.83971265e-01, 2.33636565e+00, 4.97411550e+00, 4.52046809e+00,\n",
       "       1.27385372e-01, 3.82025897e+00, 1.34129163e+00, 4.45528683e-01,\n",
       "       3.73044443e+00, 2.69419871e+00, 1.97334338e-01, 2.43825340e+00,\n",
       "       5.57137016e-01, 3.99885239e+00, 4.57443633e-01, 2.24749338e+00,\n",
       "       3.97037774e-01, 8.17159214e-01, 8.26483971e+00, 4.68009492e+00,\n",
       "       2.73561589e+00, 1.50611506e+01, 2.99754863e+00, 4.36821379e+00,\n",
       "       2.94714307e+00, 6.49593920e+00, 4.66596077e+00, 1.32457176e+00,\n",
       "       6.41769987e+00, 1.02354812e-01, 2.74905940e+00, 1.10181815e+00,\n",
       "       2.07173619e+00, 1.56733598e+00, 6.81825088e-01, 1.18865609e+00,\n",
       "       1.38251457e+00, 9.84184989e-01, 2.33777101e+00, 1.17751174e+00,\n",
       "       3.78003610e+00, 1.14204930e+01, 1.10452508e+00, 9.97306077e+00,\n",
       "       3.74528120e+00, 2.16167191e+00, 4.72729418e+00, 3.59689133e+00,\n",
       "       2.85258550e+00, 1.76849580e+00, 6.32563038e+00, 5.49219333e+00,\n",
       "       6.37276142e+00, 5.46737365e+00, 2.71616889e-01, 8.86770674e+00,\n",
       "       1.48316605e+00, 1.45965477e+01, 4.52203162e-01, 6.08328073e+00,\n",
       "       3.69212793e+00, 4.66955987e+00, 3.11513966e-01, 1.65855276e-01,\n",
       "       1.04542355e+01, 7.44796701e+00, 5.73256145e+00, 4.89075137e+00,\n",
       "       9.85564739e+00, 2.34341545e+00, 1.43366397e+01, 1.14618025e+00,\n",
       "       2.21087599e+00, 3.52240941e+00, 2.22019431e+00, 3.78348550e+00,\n",
       "       3.19899799e+00, 3.21796276e+00, 3.13742144e+00, 9.30794673e-01,\n",
       "       7.70921511e+00, 3.44872808e+00, 7.83676757e+00, 2.91217201e-01,\n",
       "       1.67261060e+00, 6.58262250e+00, 1.07080009e+00, 6.66392597e+00,\n",
       "       1.91801840e+00, 3.48308527e-01, 4.89884422e+00, 5.21134503e+00,\n",
       "       3.23959106e+00, 8.93460042e-01, 6.88385157e-01, 2.11956172e+00,\n",
       "       2.36135273e+00, 3.42379229e+00, 3.85267945e-01, 1.85751707e+00,\n",
       "       1.07150423e+00, 2.77203282e-01, 5.84566942e+00, 2.48585466e-01,\n",
       "       4.31006024e+00, 2.31954335e+00, 5.33156553e+00, 4.07724968e+00,\n",
       "       1.51354693e+00, 8.10221543e-01, 2.37272643e-01, 6.89238563e+00,\n",
       "       2.38238751e+00, 6.70234568e+00, 1.17198886e+01, 8.41214661e-01,\n",
       "       1.51831723e+00, 2.72462613e+00, 4.98240084e+00, 1.59863968e+00,\n",
       "       1.79568624e+00, 2.38713475e+00, 5.74689662e+00, 2.03540503e+00,\n",
       "       8.07880098e+00, 1.43065305e+01, 4.04791361e+00, 8.99210720e+00,\n",
       "       6.54165347e+00, 2.91535544e-01, 3.71851356e+00, 3.17389028e+00,\n",
       "       1.14420858e+01, 8.96747682e+00, 1.04655795e+01, 7.94822292e-01,\n",
       "       1.31446585e+01, 4.61845917e-01, 8.57586784e-01, 3.24805612e+00,\n",
       "       7.94737640e-02, 1.07921641e+01, 4.01527009e+00, 3.96396759e+00,\n",
       "       2.17844156e+00, 3.58104134e+00, 1.46639564e+01, 8.90359085e+00,\n",
       "       5.63165675e+00, 8.62749495e+00, 6.75102370e-01, 2.81880599e+00,\n",
       "       6.71910854e+00, 2.13307071e+00, 8.47875955e-01, 1.84574812e+00,\n",
       "       9.44152354e+00, 7.17419132e+00, 7.20350826e+00, 9.53802742e-01,\n",
       "       2.23734706e+00, 5.69312295e+00, 2.73876386e+00, 8.19348419e+00,\n",
       "       2.30455785e+00, 1.95900232e-01, 4.57054198e+00, 4.43988313e-01,\n",
       "       6.39625162e+00, 8.55976736e-01, 9.85980040e-01, 1.15787457e+01,\n",
       "       5.23432952e-01, 1.73925259e+00, 5.85807018e-01, 1.31299680e+00,\n",
       "       2.15474039e+01, 4.78372470e+00, 1.09170636e+00, 7.80811751e-01,\n",
       "       1.33164235e+00, 1.71876407e+01, 1.60302286e+00, 9.10443571e+00,\n",
       "       6.78336302e+00, 1.79789884e-01, 1.22571900e+00, 1.39729304e+00,\n",
       "       1.25832840e+01, 1.45608607e+01, 1.24871287e+00, 3.27517428e+00,\n",
       "       3.78621843e+00, 4.68400757e+00, 4.76244959e+00, 2.13648379e+00,\n",
       "       4.82758278e+00, 3.93965337e+00, 1.36757716e+01, 3.86936618e+00,\n",
       "       5.00404409e-01, 5.00783330e+00, 1.17833251e+00, 7.49626423e+00,\n",
       "       6.66548451e+00, 6.39019012e-02, 1.22138333e+00, 5.75645475e+00,\n",
       "       1.39359472e+00, 6.74954334e-01, 1.54572511e+00, 5.18105846e+00,\n",
       "       3.09562802e+00, 1.11334381e+01, 2.96735452e+00, 1.77934801e+00,\n",
       "       2.59332332e-01, 2.30658451e+00, 3.45143879e+00, 2.28358307e+00,\n",
       "       3.69493586e+00, 4.98094882e-01, 6.66124434e+00, 1.52819272e+01,\n",
       "       7.07274259e+00, 1.20866528e+00, 7.92877355e+00, 1.37870024e+00,\n",
       "       2.49814157e+00, 1.61450302e+00, 9.46721225e+00, 5.63750788e+00,\n",
       "       1.83957365e+00, 7.33607815e-01, 1.04146021e+01, 8.25508941e+00,\n",
       "       1.66032938e+00, 1.93959099e+00, 2.13898689e+01, 5.28565501e+00,\n",
       "       9.24745177e-01, 6.08506748e+00, 6.91216398e+00, 5.78348651e+00,\n",
       "       1.55050649e+00, 5.03910322e+00, 7.15264108e+00, 1.74231678e+00,\n",
       "       6.74988177e+00, 1.12676054e+01, 1.39825190e+00, 1.70254410e+00,\n",
       "       2.48881233e+01, 1.42553567e+00, 5.16376848e+00, 4.50236913e-01,\n",
       "       8.91365767e+00, 3.04583845e+00, 1.15320642e+00, 2.51380188e+00,\n",
       "       1.12622414e+01, 1.95257438e+00, 1.03516574e+00, 3.96249813e+00,\n",
       "       7.49844635e+00, 7.10656410e+00, 2.91224981e+00, 6.12521276e+00,\n",
       "       5.15658297e+00, 3.29133152e-01, 1.65799594e+00, 1.75979380e+00,\n",
       "       7.00900946e+00, 5.93725075e+00, 2.50321588e-01, 5.26602247e+00,\n",
       "       3.74622318e-01, 9.66961440e+00, 2.39856132e+00, 1.67849351e+00,\n",
       "       4.19237034e+00, 3.82674462e+00, 1.14248870e+00, 1.31410809e-01,\n",
       "       3.50065912e+00, 1.92535302e+00, 6.75227721e+00, 2.20477548e+00,\n",
       "       3.60813598e+00, 2.67933629e+00, 3.78596504e+00, 3.40903320e+00,\n",
       "       8.78050915e-01, 4.39016695e+00, 9.81082651e-01, 7.73575242e+00,\n",
       "       7.29973422e+00, 7.62747312e+00, 3.77949560e+00, 8.06485975e-01,\n",
       "       9.17130008e+00, 5.35549016e-01, 4.57888418e+00, 2.13689969e+01,\n",
       "       5.96176680e+00, 1.46886451e-01, 1.04905469e+01, 4.69491573e+00,\n",
       "       2.43612558e+00, 1.46895566e+00, 7.96084209e+00, 1.61922698e+00,\n",
       "       7.76695695e+00, 3.70373718e+00, 2.79518201e+00, 2.13814401e+00,\n",
       "       4.23941792e+00, 6.80582140e+00, 7.81425800e+00, 5.44705542e-01,\n",
       "       4.53315503e+00, 4.79181685e-01, 6.03673675e+00, 8.69835147e+00,\n",
       "       8.85980001e+00, 7.32040404e+00, 2.04289414e+00, 4.75388335e+00,\n",
       "       4.19033182e+00, 3.00070435e+01, 6.68458536e+00, 3.39135767e+00,\n",
       "       7.10572475e-01, 1.72138516e+00, 2.39353239e+00, 5.28798248e+00,\n",
       "       6.27152322e+00, 4.50995612e+00, 1.75867385e+00, 2.43740901e+00,\n",
       "       3.84894456e+00, 5.77858794e-01, 1.12416320e+00, 5.84153030e+00,\n",
       "       4.39152430e-01, 4.82894726e-01, 3.88251647e-01, 1.00061691e+00,\n",
       "       2.08338270e-01, 2.28994992e+00, 1.60171866e+00, 5.23388117e+00,\n",
       "       6.73150920e+00, 4.77267666e+00, 7.78446033e+00, 1.01022222e+01,\n",
       "       6.71284378e-01, 7.67970911e+00, 2.06416728e+00, 3.64539007e+00,\n",
       "       5.47335899e+00, 6.07980653e+00, 1.40814322e+00, 4.85845224e+00,\n",
       "       2.18807809e+00, 9.08560545e+00, 9.27828763e-01, 3.87283494e-01,\n",
       "       6.35619171e+00, 9.07158485e+00, 2.89564611e+00, 2.51982983e+00,\n",
       "       2.69045397e+00, 1.14196644e+01, 8.22175869e+00, 3.92265134e+00,\n",
       "       5.66653194e+00, 9.34608953e+00, 6.11893262e-01, 6.20744348e+00,\n",
       "       1.29310743e+01, 1.65544832e-01, 2.73560229e+00, 1.09408651e+01,\n",
       "       5.36920499e+00, 9.39024858e-01, 2.36472652e+00, 2.12150232e-01,\n",
       "       7.64434188e+00, 1.53571657e-01, 2.77762066e+00, 1.72700712e+00,\n",
       "       1.06850920e+00, 1.08532708e+01, 9.50129815e-01, 1.33902757e+00,\n",
       "       6.01382094e+00, 1.01973754e+01, 2.47736279e+00, 9.70479560e-01,\n",
       "       2.73204937e-02, 1.64013402e+01, 1.10315165e+00, 1.75835365e+00,\n",
       "       1.39909411e+01, 4.65481214e+00, 2.25947800e-01, 5.76779693e+00,\n",
       "       2.67619576e-01, 3.02343375e-01, 5.79695898e+00, 2.59221759e+00,\n",
       "       2.64198602e+00, 1.01585353e+00, 7.10819351e+00, 2.28639627e+00,\n",
       "       3.18775351e-02, 9.14021507e+00, 1.05491486e+00, 4.73021103e+00,\n",
       "       6.51992181e+00, 7.22446588e-01, 1.50732784e+01, 4.78727890e-02,\n",
       "       1.41504693e+01, 5.38261935e+00, 1.17850600e+00, 1.17958329e+01,\n",
       "       5.70493643e+00, 4.46746415e-01, 1.39626571e+01, 1.04280147e+01,\n",
       "       1.75737734e+00, 3.59584997e+00, 1.76403377e+00, 2.94316172e+00,\n",
       "       8.37504312e+00, 1.44001654e+00, 1.18811739e+01, 1.33762569e-01,\n",
       "       4.96910376e+00, 1.29102152e+01, 1.29455186e+00, 4.64010993e-01,\n",
       "       2.55148657e-02, 3.32891950e+00, 3.39405333e+00, 8.19293793e+00,\n",
       "       4.15929322e-01, 9.95855922e+00, 1.33865754e+01, 3.90532613e+00])"
      ]
     },
     "execution_count": 11,
     "metadata": {},
     "output_type": "execute_result"
    }
   ],
   "source": [
    "exponentialValues = rng.exponential(4.5, 1000)\n",
    "exponentialValues"
   ]
  },
  {
   "cell_type": "code",
   "execution_count": 29,
   "metadata": {
    "scrolled": true
   },
   "outputs": [
    {
     "data": {
      "text/plain": [
       "Text(0, 0.5, 'P(x)')"
      ]
     },
     "execution_count": 29,
     "metadata": {},
     "output_type": "execute_result"
    },
    {
     "data": {
      "image/png": "[encoded data removed]",
      "text/plain": [
       "<Figure size 432x288 with 1 Axes>"
      ]
     },
     "metadata": {
      "needs_background": "light"
     },
     "output_type": "display_data"
    }
   ],
   "source": [
    "import matplotlib.pyplot as plt\n",
    "count, bins, ignored = plt.hist(exponentialValues, 14, density=True)\n",
    "plt.xlabel('x', fontsize=12)\n",
    "plt.ylabel('P(x)', fontsize=12)"
   ]
  },
  {
   "cell_type": "markdown",
   "metadata": {},
   "source": [
    "We can see that the shape of the exponential distribution histogram is consistent even when the parameters of the distribution are altered:"
   ]
  },
  {
   "cell_type": "code",
   "execution_count": 35,
   "metadata": {
    "scrolled": true
   },
   "outputs": [
    {
     "data": {
      "text/plain": [
       "Text(0, 0.5, 'P(x)')"
      ]
     },
     "execution_count": 35,
     "metadata": {},
     "output_type": "execute_result"
    },
    {
     "data": {
      "image/png": "[encoded data removed]",
      "text/plain": [
       "<Figure size 432x288 with 1 Axes>"
      ]
     },
     "metadata": {
      "needs_background": "light"
     },
     "output_type": "display_data"
    }
   ],
   "source": [
    "exponentialValues = rng.exponential(20.9, 10000)\n",
    "count, bins, ignored = plt.hist(exponentialValues, 14, density=True)\n",
    "plt.xlabel('x', fontsize=12)\n",
    "plt.ylabel('P(x)', fontsize=12)"
   ]
  },
  {
   "cell_type": "markdown",
   "metadata": {},
   "source": [
    "***"
   ]
  },
  {
   "cell_type": "markdown",
   "metadata": {},
   "source": [
    "## Seeds\n",
    "***\n",
    "\n",
    "A ***seed*** is a piece of information which is supplied to an algorithm to generate pseudorandom data. Because of the deterministic nature of the calculations run by computers, where inputs follow predictable methods to arrive at outputs, computers cannot produce truly random numbers without input from external sources. Some of these sources may include:\n",
    "\n",
    "* weather data from a live-updating source\n",
    "* the current time reading from the computer's processor\n",
    "* processor temperature or fan speed\n",
    "* user-generated data such as the change of cursor position\n",
    "\n",
    "The computer takes data from one or a combination of such sources in the form of a long string of numbers, and this data forms the seed. The seed is then passed as input into a generator algorithm to produce pseudorandom data. Because the calculations used to generate the latter data is deterministic, the results are not truly random. However, because the input seed data is unpredictable and unlikely to repeat, the output numbers are an adequate approximation of truly random data. This also means that if the same seed is supplied to the generator algorithm, the exact same output numbers will be produced (hence the data is only “pseudo”-random).\n",
    "\n",
    "The memory location of the randomly generated seed can be checked by passing the BitGenerator variable:"
   ]
  },
  {
   "cell_type": "code",
   "execution_count": 14,
   "metadata": {},
   "outputs": [
    {
     "data": {
      "text/plain": [
       "Generator(PCG64) at 0x1DDCE4C48B0"
      ]
     },
     "execution_count": 14,
     "metadata": {},
     "output_type": "execute_result"
    }
   ],
   "source": [
    "rng"
   ]
  },
  {
   "cell_type": "markdown",
   "metadata": {},
   "source": [
    "Using the ***seed()*** function from Python's ***random*** package, we can show the effects of passing the same seed to a random number generator, as demonstrated in this [W3Schools exercise](https://www.w3schools.com/python/ref_random_seed.asp)."
   ]
  },
  {
   "cell_type": "code",
   "execution_count": 9,
   "metadata": {},
   "outputs": [
    {
     "name": "stdout",
     "output_type": "stream",
     "text": [
      "0.6229016948897019\n",
      "0.5714025946899135\n",
      "0.5714025946899135\n"
     ]
    }
   ],
   "source": [
    "import random\n",
    "random.seed(5)\n",
    "print(random.random())\n",
    "random.seed(10)\n",
    "print(random.random())\n",
    "random.seed(10)\n",
    "print(random.random())"
   ]
  },
  {
   "cell_type": "markdown",
   "metadata": {},
   "source": [
    "While passing different arguments to the ***seed()*** function produces different resulting float values, we can see that passing the same argument in repeated trials will generate the same output. This is due to the deterministic nature of the computer's data-generation processes, resulting data that is only pseudorandom rather than truly random. This use of seeds to produce a predictable set of pseudorandom results finds application in cryptography, using the seed values as security keys."
   ]
  },
  {
   "cell_type": "markdown",
   "metadata": {},
   "source": [
    "### References\n",
    "\n",
    "* Numpy.random documentation. https://numpy.org/doc/stable/reference/random/index.html\n",
    "* Generating Random Data in Python (Guide). https://realpython.com/python-random/\n",
    "* Return value of type(type) in Python. https://www.includehelp.com/python/return-value-of-type-type-in-python.aspx\n",
    "* Pseudorandom vs. random. https://simplicable.com/new/pseudorandom-vs-random\n",
    "* 7 Example of a Random Seed. https://simplicable.com/new/random-seed\n",
    "* How to Use Random Seeds Effectively. https://towardsdatascience.com/how-to-use-random-seeds-effectively-54a4cd855a79\n",
    "* Normal Distribution Plot Using Numpy and Matplotlib. https://www.geeksforgeeks.org/normal-distribution-plot-using-numpy-and-matplotlib/\n",
    "* Normal Distribution Vs Uniform Distribution. https://thatascience.com/learn-numpy/normal-vs-uniform/\n",
    "* The Normal Distribution for Data Scientists. https://medium.com/analytics-vidhya/the-normal-distribution-for-data-scientists-6de041a01cb9\n",
    "* Probability Distributions in Data Science. https://www.kdnuggets.com/2020/02/probability-distributions-data-science.html\n",
    "* Numpy uniform documentation. https://numpy.org/doc/stable/reference/random/generated/numpy.random.Generator.uniform.html#numpy.random.Generator.uniform\n",
    "* Numpy Poisson documentation. https://numpy.org/doc/stable/reference/random/generated/numpy.random.Generator.poisson.html#numpy.random.Generator.poisson\n",
    "* Poisson Distribution — Intuition, Examples, and Derivation. https://towardsdatascience.com/poisson-distribution-intuition-and-derivation-1059aeab90d\n",
    "* Poisson Distribution. https://www.w3schools.com/python/numpy_random_poisson.asp\n",
    "* V-2 Rocket. https://en.wikipedia.org/wiki/V-2_rocket\n",
    "* An Introduction to Probability Distribution. https://medium.com/analytics-steps/an-introduction-to-probability-distribution-9ed53d33e8d7\n",
    "* Numpy binomial documentation. https://numpy.org/doc/stable/reference/random/generated/numpy.random.Generator.binomial.html#numpy.random.Generator.binomial\n",
    "* Demystifying the Binomial Distribution. https://towardsdatascience.com/demystifying-the-binomial-distribution-580475b2bb2a\n",
    "* Numpy multinomial documentation. https://numpy.org/doc/stable/reference/random/generated/numpy.random.Generator.multinomial.html#numpy.random.Generator.multinomial\n",
    "* The Multinomial Probability Distribution. https://medium.com/analytics-vidhya/the-multinomial-probability-distribution-8ae4db03a3d3\n",
    "* Numpy exponential documentation. https://numpy.org/doc/stable/reference/random/generated/numpy.random.Generator.exponential.html#numpy.random.Generator.exponential\n",
    "* How to Use Numpy Exponential. https://www.sharpsightlabs.com/blog/numpy-exponential/\n",
    "* NumPy Exponential Distribution (Python Tutorial). https://wtmatter.com/numpy-exponential-distribution/\n",
    "* Python Random seed() Method. https://www.w3schools.com/python/ref_random_seed.asp\n",
    "\n",
    "\n"
   ]
  },
  {
   "cell_type": "code",
   "execution_count": null,
   "metadata": {},
   "outputs": [],
   "source": []
  }
 ],
 "metadata": {
  "kernelspec": {
   "display_name": "Python 3",
   "language": "python",
   "name": "python3"
  },
  "language_info": {
   "codemirror_mode": {
    "name": "ipython",
    "version": 3
   },
   "file_extension": ".py",
   "mimetype": "text/x-python",
   "name": "python",
   "nbconvert_exporter": "python",
   "pygments_lexer": "ipython3",
   "version": "3.8.3"
  }
 },
 "nbformat": 4,
 "nbformat_minor": 4
}
