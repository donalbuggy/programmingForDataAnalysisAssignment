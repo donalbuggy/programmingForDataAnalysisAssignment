{
 "cells": [
  {
   "cell_type": "markdown",
   "metadata": {},
   "source": [
    "# The numpy.random package\n",
    "***"
   ]
  },
  {
   "cell_type": "markdown",
   "metadata": {},
   "source": [
    "## Overview of the package\n",
    "***"
   ]
  },
  {
   "cell_type": "markdown",
   "metadata": {},
   "source": [
    "## \"Simple random data\" and \"Permutations\" functions\n",
    "***\n",
    "\n",
    "### Simple random data\n",
    "\n",
    "#### Integers\n",
    "\n",
    "> Generator.integers(*low, high=None, size=None, dtype=np.int64, endpoint=False*)\n",
    "\n",
    "The **integers()** function generates a sequence of random integers. The function takes one required argument, **low**, which defines the upper limit of values which may be returned. If an argument is also passed for the **high** parameter, the argument passed for **low** becomes the lower limit of values which may be returned, and **high** becomes the upper limit."
   ]
  },
  {
   "cell_type": "code",
   "execution_count": 8,
   "metadata": {},
   "outputs": [
    {
     "data": {
      "text/plain": [
       "4"
      ]
     },
     "execution_count": 8,
     "metadata": {},
     "output_type": "execute_result"
    }
   ],
   "source": [
    "import numpy\n",
    "import numpy.random as np\n",
    "\n",
    "rng = np.default_rng()\n",
    "rng.integers(5) # 5 is passed as the \"low\" argument\n",
    "                # all outputs will be between 0 (inclusive) and 5 (exclusive)"
   ]
  },
  {
   "cell_type": "code",
   "execution_count": 20,
   "metadata": {},
   "outputs": [
    {
     "data": {
      "text/plain": [
       "8"
      ]
     },
     "execution_count": 20,
     "metadata": {},
     "output_type": "execute_result"
    }
   ],
   "source": [
    "rng.integers(5, 10) # 5 is the \"low\" argument, 10 as the \"high\" argument;\n",
    "                    # outputs will be between 5 (inclusive) and 10 (exclusive)"
   ]
  },
  {
   "cell_type": "markdown",
   "metadata": {},
   "source": [
    "The **integers()** function returns one integer value, unless an argument is passed for the **size** parameter, in which case a sequence of values of size equal to the value of the argument is returned."
   ]
  },
  {
   "cell_type": "code",
   "execution_count": 6,
   "metadata": {},
   "outputs": [
    {
     "data": {
      "text/plain": [
       "array([1, 0, 1, 1, 3, 3, 0, 0, 2, 1], dtype=int64)"
      ]
     },
     "execution_count": 6,
     "metadata": {},
     "output_type": "execute_result"
    }
   ],
   "source": [
    "rng.integers(5, size=10) # this will return 10 values between 0 and 5 (exclusive)"
   ]
  },
  {
   "cell_type": "markdown",
   "metadata": {},
   "source": [
    "A tuple (an unchangeable list of items) can be passed to the **size** parameter if the returned values should be in a multi-dimensional instead of one-dimensional array. The first value of the tuple defines the number of rows in the returned ndarray, and the second value defines the number of columns."
   ]
  },
  {
   "cell_type": "code",
   "execution_count": 60,
   "metadata": {},
   "outputs": [
    {
     "data": {
      "text/plain": [
       "array([[6, 4, 8, 9],\n",
       "       [2, 9, 9, 3],\n",
       "       [5, 7, 4, 8]], dtype=int64)"
      ]
     },
     "execution_count": 60,
     "metadata": {},
     "output_type": "execute_result"
    }
   ],
   "source": [
    "rng.integers(10, size=(3, 4)) # generates integers of values below 10; 3 rows, 4 columns"
   ]
  },
  {
   "cell_type": "markdown",
   "metadata": {},
   "source": [
    "The dtype of the result can defined with the **dtype** parameter. The results can be confirmed by passing the **integers()** function inside the **type()** from the standard library."
   ]
  },
  {
   "cell_type": "code",
   "execution_count": 9,
   "metadata": {},
   "outputs": [
    {
     "name": "stdout",
     "output_type": "stream",
     "text": [
      "6\n"
     ]
    },
    {
     "data": {
      "text/plain": [
       "numpy.uint8"
      ]
     },
     "execution_count": 9,
     "metadata": {},
     "output_type": "execute_result"
    }
   ],
   "source": [
    "print(rng.integers(10, dtype=numpy.uint8))\n",
    "type(rng.integers(10, dtype=numpy.uint8))"
   ]
  },
  {
   "cell_type": "markdown",
   "metadata": {},
   "source": [
    "The **endpoint** parameter can be passed a Boolean ***True*** or ***False*** value to change the functioning of the **low** and **high** parameters. If **endpoint** is set to ***True***, the value of **high** will be inclusive, so integers of that value can be returned. By default **endpoint** is set to ***False***, so the value of **high** is exclusive, meaning integers of that value cannot be returned (only integers of one increment lower, at maximum). The latter case is called a half-open interval."
   ]
  },
  {
   "cell_type": "code",
   "execution_count": 20,
   "metadata": {},
   "outputs": [
    {
     "data": {
      "text/plain": [
       "array([0, 2], dtype=int64)"
      ]
     },
     "execution_count": 20,
     "metadata": {},
     "output_type": "execute_result"
    }
   ],
   "source": [
    "rng.integers((1, 2), endpoint=True)"
   ]
  },
  {
   "cell_type": "markdown",
   "metadata": {},
   "source": [
    "***"
   ]
  },
  {
   "cell_type": "markdown",
   "metadata": {},
   "source": [
    "#### Random\n",
    "\n",
    ">  Generator.random(*size=None, dtype=np.float64, out=None*)\n",
    "\n",
    "The **random()** function returns float values from the interval 0.0 – 1.0. If no arguments are passed to the function's parameters, it will return a single float value."
   ]
  },
  {
   "cell_type": "code",
   "execution_count": 21,
   "metadata": {},
   "outputs": [
    {
     "data": {
      "text/plain": [
       "0.8073554994295814"
      ]
     },
     "execution_count": 21,
     "metadata": {},
     "output_type": "execute_result"
    }
   ],
   "source": [
    "rng.random()"
   ]
  },
  {
   "cell_type": "markdown",
   "metadata": {},
   "source": [
    "The **size** parameter is used, as in the **integers()** function, to define the number of values returned, and can take an integer or tuple value as argument. The **dtype** parameter is also used the same as in the **integers()** function, but only *float64* and *float32* are supported."
   ]
  },
  {
   "cell_type": "code",
   "execution_count": 24,
   "metadata": {},
   "outputs": [
    {
     "data": {
      "text/plain": [
       "array([0.12982079, 0.51023399, 0.35447712, 0.7614928 , 0.3623529 ,\n",
       "       0.49695906, 0.45014179, 0.23657541, 0.38061748, 0.71875604])"
      ]
     },
     "execution_count": 24,
     "metadata": {},
     "output_type": "execute_result"
    }
   ],
   "source": [
    "rng.random(10)"
   ]
  },
  {
   "cell_type": "code",
   "execution_count": 35,
   "metadata": {},
   "outputs": [
    {
     "data": {
      "text/plain": [
       "array([0.95380855, 0.7652706 , 0.91428745, 0.6791067 , 0.7631116 ,\n",
       "       0.51802695, 0.9997592 , 0.5678816 , 0.07534087, 0.65552557],\n",
       "      dtype=float32)"
      ]
     },
     "execution_count": 35,
     "metadata": {},
     "output_type": "execute_result"
    }
   ],
   "source": [
    "rng.random(10, dtype=\"float32\")"
   ]
  },
  {
   "cell_type": "markdown",
   "metadata": {},
   "source": [
    "The **out** parameter takes a multi-dimensional array to define the shape of the output."
   ]
  },
  {
   "cell_type": "code",
   "execution_count": 6,
   "metadata": {},
   "outputs": [
    {
     "data": {
      "text/plain": [
       "0.8628710547866498"
      ]
     },
     "execution_count": 6,
     "metadata": {},
     "output_type": "execute_result"
    }
   ],
   "source": [
    "rng.random()"
   ]
  },
  {
   "cell_type": "markdown",
   "metadata": {},
   "source": [
    "***"
   ]
  },
  {
   "cell_type": "markdown",
   "metadata": {},
   "source": [
    "#### Choice\n",
    "> Generator.choice(*a, size=None, replace=True, p=None, axis=0, shuffle=True*)\n",
    "\n",
    "The ***choice()*** function returns a random sample from a one-dimensional array passed as an argument.\n",
    "\n",
    "The ***a*** parameter is required, and takes an integer or array as its argument. If an integer is passed, the function runs ***np.arange(x)*** to generate the random value; if an array is passed, the return value is randomly selected from its elements."
   ]
  },
  {
   "cell_type": "code",
   "execution_count": 7,
   "metadata": {},
   "outputs": [
    {
     "name": "stdout",
     "output_type": "stream",
     "text": [
      "[5 9 7 6 2 7 2 4 3 0]\n"
     ]
    },
    {
     "data": {
      "text/plain": [
       "3"
      ]
     },
     "execution_count": 7,
     "metadata": {},
     "output_type": "execute_result"
    }
   ],
   "source": [
    "choices = rng.integers(10, size=10) # generating a 1d array\n",
    "print(choices) # printing the array\n",
    "rng.choice(choices) # choice() selects one element from the array"
   ]
  },
  {
   "cell_type": "markdown",
   "metadata": {},
   "source": [
    "The ***size*** parameter again defines the output shape. If an integer is passed, the returned array will be of size equal to the value of that integer; if a tuple is passed, the values of the tuple will define the rows and columns of the returned multi-dimensional array."
   ]
  },
  {
   "cell_type": "code",
   "execution_count": 15,
   "metadata": {},
   "outputs": [
    {
     "data": {
      "text/plain": [
       "array([[4, 7, 7, 9, 2, 9, 2],\n",
       "       [9, 0, 0, 2, 2, 6, 0]], dtype=int64)"
      ]
     },
     "execution_count": 15,
     "metadata": {},
     "output_type": "execute_result"
    }
   ],
   "source": [
    "rng.choice(choices, size=(2,7))"
   ]
  },
  {
   "cell_type": "markdown",
   "metadata": {},
   "source": [
    "The ***p*** parameter take a one-dimensional array of float values between 0.0 and 1.0, with the same number of elements as the array passed for the ***a*** parameter, and uses the float values to set the probability of each corresponding value in the ***a*** array being returned. The sum of the elements of ***p*** must total 1.0.\n",
    "\n",
    "In the example below, the element of ***a*** in the second index position has an assigned probability of 0.3, and so it appears more frequently in the output arrays."
   ]
  },
  {
   "cell_type": "code",
   "execution_count": 24,
   "metadata": {},
   "outputs": [
    {
     "data": {
      "text/plain": [
       "array([[6, 9, 9, 9, 9, 9, 6, 5, 2, 0],\n",
       "       [9, 9, 5, 5, 3, 2, 9, 2, 9, 9]], dtype=int64)"
      ]
     },
     "execution_count": 24,
     "metadata": {},
     "output_type": "execute_result"
    }
   ],
   "source": [
    "rng.choice(choices, size=(2,10), p=(0.1, 0.3, 0.05, 0.1, 0.1, 0.05, 0.1, 0.025, 0.075, 0.1))"
   ]
  },
  {
   "cell_type": "markdown",
   "metadata": {},
   "source": [
    "The ***axis*** parameter defines the axis along which the selection is performed, either along rows (0) or columns (1)."
   ]
  },
  {
   "cell_type": "code",
   "execution_count": 46,
   "metadata": {},
   "outputs": [
    {
     "data": {
      "text/plain": [
       "array([1, 2, 3])"
      ]
     },
     "execution_count": 46,
     "metadata": {},
     "output_type": "execute_result"
    }
   ],
   "source": [
    "tupleChoice = ([1, 2, 3], [4, 5, 6], [7, 8, 9]) # declaring a tuple to pass to the \"a\" parameter\n",
    "rng.choice(tupleChoice, axis=0) # passing the tuple to choice(), setting the axis to rows\n",
    "                                # the first array is returned"
   ]
  },
  {
   "cell_type": "code",
   "execution_count": 47,
   "metadata": {},
   "outputs": [
    {
     "data": {
      "text/plain": [
       "array([1, 4, 7])"
      ]
     },
     "execution_count": 47,
     "metadata": {},
     "output_type": "execute_result"
    }
   ],
   "source": [
    "rng.choice(tupleChoice, axis=1) # setting the axis to columns\n",
    "                                # the first element of each array is returned"
   ]
  },
  {
   "cell_type": "markdown",
   "metadata": {},
   "source": [
    "The ***shuffle*** parameter takes a Boolean value and determines whether the sample is shuffled  when sampling without replacement."
   ]
  },
  {
   "cell_type": "code",
   "execution_count": 59,
   "metadata": {},
   "outputs": [
    {
     "data": {
      "text/plain": [
       "array([7, 5, 7, 9, 6, 3, 7, 5, 3, 2], dtype=int64)"
      ]
     },
     "execution_count": 59,
     "metadata": {},
     "output_type": "execute_result"
    }
   ],
   "source": [
    "rng.choice(choices, size=10, shuffle=True)"
   ]
  },
  {
   "cell_type": "markdown",
   "metadata": {},
   "source": [
    "***"
   ]
  },
  {
   "cell_type": "markdown",
   "metadata": {},
   "source": [
    "#### Bytes\n",
    "> Generator.bytes(*length*)\n",
    "\n",
    "The ***bytes()*** function returns a string of random bytes. It takes an integer as argument to define the length of the returned string."
   ]
  },
  {
   "cell_type": "code",
   "execution_count": 5,
   "metadata": {},
   "outputs": [
    {
     "data": {
      "text/plain": [
       "b'\\xa7\\xb7\\xd2\\xb9p\\xa3\\x03\\xb2\\xa4\\x0e\\x95\\x17[\\x86M\\xed\\xc5\\xef4\\x99'"
      ]
     },
     "execution_count": 5,
     "metadata": {},
     "output_type": "execute_result"
    }
   ],
   "source": [
    "rng.bytes(20)"
   ]
  },
  {
   "cell_type": "markdown",
   "metadata": {},
   "source": [
    "***"
   ]
  },
  {
   "cell_type": "markdown",
   "metadata": {},
   "source": [
    "### Permutations\n",
    "\n",
    "#### Shuffle\n",
    "\n",
    "> Generator.shuffle(*x, axis=0*)\n",
    "\n",
    "The ***shuffle()*** function randomises a sequence of elements by shuffling their positions. The function requires an array or list object to be passed as an argument. There is no return parameter for the function, as the array or list itself is modified so that its elements are permanently reordered. An integer can also be passed as an optional argument to define the axis along which the array is shuffled."
   ]
  },
  {
   "cell_type": "code",
   "execution_count": 22,
   "metadata": {},
   "outputs": [
    {
     "data": {
      "text/plain": [
       "array([ 4, 15, 17,  2, 18,  6,  5,  8,  0,  6, 14,  9,  4, 17, 13],\n",
       "      dtype=int64)"
      ]
     },
     "execution_count": 22,
     "metadata": {},
     "output_type": "execute_result"
    }
   ],
   "source": [
    "shuffleArray = rng.integers(21, size=15) # generating an array\n",
    "shuffleArray"
   ]
  },
  {
   "cell_type": "code",
   "execution_count": 77,
   "metadata": {},
   "outputs": [
    {
     "data": {
      "text/plain": [
       "array([ 4,  9,  5,  3, 10, 19,  7,  2, 15,  2,  5,  1, 14, 16,  2],\n",
       "      dtype=int64)"
      ]
     },
     "execution_count": 77,
     "metadata": {},
     "output_type": "execute_result"
    }
   ],
   "source": [
    "rng.shuffle(shuffleArray) # shuffling the array\n",
    "shuffleArray # testing if the original array is modified"
   ]
  },
  {
   "cell_type": "markdown",
   "metadata": {},
   "source": [
    "***"
   ]
  },
  {
   "cell_type": "markdown",
   "metadata": {},
   "source": [
    "#### Permutation\n",
    "\n",
    "> Generator.permutation(*x*)\n",
    "\n",
    "The ***permutation()*** function is used to either randomly permute a sequence or generate a permuted range. If the argument passed is an integer, the function will run ***np.arange(x)*** on that integer, permute the generated range of values, and return the generated sequence as an array. If the argument passed is an array, ***permutation()*** makes a copy (which it passes to an ndarray object) and randomly reorders the elements of the array. Unlike ***shuffle()***, ***permutation()*** does not modify the original object."
   ]
  },
  {
   "cell_type": "code",
   "execution_count": 78,
   "metadata": {},
   "outputs": [
    {
     "data": {
      "text/plain": [
       "array([ 1, 10,  9,  5,  0, 18,  2,  4,  3, 15,  7, 19, 20,  6, 17, 11, 12,\n",
       "       14, 13,  8, 16])"
      ]
     },
     "execution_count": 78,
     "metadata": {},
     "output_type": "execute_result"
    }
   ],
   "source": [
    "rng.permutation(21) # passing an integer"
   ]
  },
  {
   "cell_type": "code",
   "execution_count": 79,
   "metadata": {},
   "outputs": [
    {
     "data": {
      "text/plain": [
       "array([ 2,  9, 19,  2, 10,  3, 14,  4, 16,  5,  1,  7, 15,  2,  5],\n",
       "      dtype=int64)"
      ]
     },
     "execution_count": 79,
     "metadata": {},
     "output_type": "execute_result"
    }
   ],
   "source": [
    "rng.permutation(shuffleArray) # passing an array"
   ]
  },
  {
   "cell_type": "code",
   "execution_count": 80,
   "metadata": {},
   "outputs": [
    {
     "data": {
      "text/plain": [
       "array([ 4,  9,  5,  3, 10, 19,  7,  2, 15,  2,  5,  1, 14, 16,  2],\n",
       "      dtype=int64)"
      ]
     },
     "execution_count": 80,
     "metadata": {},
     "output_type": "execute_result"
    }
   ],
   "source": [
    "shuffleArray # testing if the original array is modified"
   ]
  },
  {
   "cell_type": "markdown",
   "metadata": {},
   "source": [
    "***"
   ]
  },
  {
   "cell_type": "markdown",
   "metadata": {},
   "source": [
    "## Distribution functions\n",
    "***\n",
    "\n",
    "### Normal distribution\n",
    "\n",
    "> Generator.normal(*loc=0.0, scale=1.0, size=None*)\n",
    "\n",
    "A normal or Gaussian distribution is one in which values are distributed in a bell-shaped curve, with most points clustering around a central mean value (which forms the highest pointo n the *y* axis) and with a roughly symmetrical distribution of higher and lower values. Examples of this distribution occur frequently in nature, as random distributions of data from independent sources tend toward a normal form as the sample size increases. An example of this is height: most adults in a given population measure roughly the same mean height, with diminishing numbers of people recording higher and lower values (i.e., equally few people will be unusually tall or short compared to the mean).\n",
    "\n",
    "Because the normal distribution emerges as a property of random data sets, it is useful to data scientists in hypothesis testing. As Francis Morales outlines in [this article](https://medium.com/analytics-vidhya/the-normal-distribution-for-data-scientists-6de041a01cb9), the known properties of the normal distribution, such as the number of standard deviations within which certain percentages of data points should fall, help to identify outliers in the data. This can help to highlight distortions in the gathered data which can then be controlled for.\n",
    "\n",
    "The ***normal()*** function is used to draw random samples from a normal distribution. It takes two required parameters, both of which are float values: ***loc*** defines the mean value which will correspond to the centre of the ditribution; ***scale*** defines the standard deviation of the distribution, which determines the width or spread of the distribution.\n",
    "\n",
    "It also takes the ***size*** parameter, which defines the number of values returned. This argument is passed as an int value if the returned values should form a 1-dimensional array, and a tuple value if the they should form a multi-dimensional array."
   ]
  },
  {
   "cell_type": "code",
   "execution_count": 142,
   "metadata": {
    "scrolled": true
   },
   "outputs": [
    {
     "data": {
      "text/plain": [
       "array([7.8595963 , 7.94872395, 8.08937003, 7.95593378, 7.92204952,\n",
       "       7.96638448, 8.09756711, 7.94785602, 8.11166131, 8.14748426,\n",
       "       7.98973522, 7.95121309, 7.98334307, 7.99683164, 8.01653246,\n",
       "       7.78003977, 7.97216083, 7.97816801, 7.95610539, 8.04152514,\n",
       "       8.19669383, 7.94818944, 7.963212  , 8.0629548 , 8.15866424,\n",
       "       7.99758498, 7.90701049, 7.95028075, 7.9096233 , 8.05718405,\n",
       "       7.86851858, 7.96675885, 8.01702796, 7.9179438 , 7.95717025,\n",
       "       7.96425424, 7.95450488, 7.99927411, 7.96509279, 8.07201066,\n",
       "       8.05025017, 7.97032174, 8.09096498, 7.90429419, 7.97964793,\n",
       "       8.04025963, 7.97661964, 7.90579342, 8.13321102, 7.96844811,\n",
       "       8.15410083, 7.98078051, 8.06489357, 8.03560139, 8.03421555,\n",
       "       8.05466443, 8.19763861, 8.01173415, 7.99120617, 8.01682511,\n",
       "       8.02952222, 7.95849733, 7.87882958, 8.00921214, 8.01590516,\n",
       "       7.82735499, 7.91305406, 7.92807574, 7.93328921, 8.07165261,\n",
       "       8.02545597, 7.95769115, 8.04634147, 7.93125776, 8.02117155,\n",
       "       8.06906633, 8.00196217, 7.98563509, 8.02273156, 8.00714468,\n",
       "       8.03122692, 7.92624204, 8.13217201, 7.89825412, 7.94622875,\n",
       "       8.03468397, 7.89520582, 8.03887123, 7.93424753, 7.91645799,\n",
       "       8.13720781, 7.99070868, 8.01616827, 8.04437061, 7.99941886,\n",
       "       7.98339919, 7.72372186, 8.16841174, 7.9688141 , 8.0601159 ])"
      ]
     },
     "execution_count": 142,
     "metadata": {},
     "output_type": "execute_result"
    }
   ],
   "source": [
    "meanValue = rng.integers(0, 11) # mean value generated as integer\n",
    "stdDev = rng.random() # standard deviation generated as float\n",
    "norm = np.default_rng().normal(meanValue, stdDev, 100) # setting the variable containing the normal distribution values\n",
    "norm"
   ]
  },
  {
   "cell_type": "markdown",
   "metadata": {},
   "source": [
    "The [numpy documentation](https://numpy.org/doc/stable/reference/random/generated/numpy.random.Generator.normal.html#numpy.random.Generator.normal) for the ***normal()*** function gives the following formula to test if the above values form a normal distribution. I will use the randomly generated values in the previous cell to perform the test."
   ]
  },
  {
   "cell_type": "code",
   "execution_count": 143,
   "metadata": {
    "scrolled": true
   },
   "outputs": [
    {
     "data": {
      "text/plain": [
       "Text(0, 0.5, 'probability')"
      ]
     },
     "execution_count": 143,
     "metadata": {},
     "output_type": "execute_result"
    },
    {
     "data": {
      "image/png": "[encoded data removed]",
      "text/plain": [
       "<Figure size 432x288 with 1 Axes>"
      ]
     },
     "metadata": {
      "needs_background": "light"
     },
     "output_type": "display_data"
    }
   ],
   "source": [
    "import matplotlib.pyplot as plt\n",
    "count, bins, ignored = plt.hist(norm, 30, density=True) # defining the histogram\n",
    "plt.plot(bins, 1/(stdDev * numpy.sqrt(2 * numpy.pi)) * numpy.exp( - (bins - meanValue)**2 / (2 * stdDev**2)), linewidth=2, color='r')\n",
    "plt.xlabel(\"value\")\n",
    "plt.ylabel(\"probability\")"
   ]
  },
  {
   "cell_type": "markdown",
   "metadata": {},
   "source": [
    "The evenness of the distribution and symmetry of the curve can be improved by increasing the sample size, since we know that small random samples from independent sources, like those generated by the ***normal()*** function, tend toward the standard normal distribution shape as sample size increases:"
   ]
  },
  {
   "cell_type": "code",
   "execution_count": 144,
   "metadata": {},
   "outputs": [
    {
     "data": {
      "text/plain": [
       "Text(0, 0.5, 'probability')"
      ]
     },
     "execution_count": 144,
     "metadata": {},
     "output_type": "execute_result"
    },
    {
     "data": {
      "image/png": "[encoded data removed]",
      "text/plain": [
       "<Figure size 432x288 with 1 Axes>"
      ]
     },
     "metadata": {
      "needs_background": "light"
     },
     "output_type": "display_data"
    }
   ],
   "source": [
    "norm = np.default_rng().normal(meanValue, stdDev, 5000)\n",
    "count, bins, ignored = plt.hist(norm, 30, density=True)\n",
    "plt.plot(bins, 1/(stdDev * numpy.sqrt(2 * numpy.pi)) * numpy.exp( - (bins - meanValue)**2 / (2 * stdDev**2)), linewidth=2, color='r')\n",
    "plt.xlabel(\"value\")\n",
    "plt.ylabel(\"probability\")"
   ]
  },
  {
   "cell_type": "markdown",
   "metadata": {},
   "source": [
    "***"
   ]
  },
  {
   "cell_type": "markdown",
   "metadata": {},
   "source": [
    "### Uniform\n",
    "\n",
    "> Generator.uniform(*low=0.0, high=1.0, size=None*)\n",
    "\n",
    "The uniform or rectangular distribution describes output values that fall within a pair of known maximum and minimum values. When plotted, the uniform distribution is defined by the plot line being flat, indicating an equal probability for all outcomes. This distribution is important for generating random numbers and testing randomness, as any output number should have the same likelihood of occurrence as any other. If the resulting distribution is not flat, it can indicate that the process for generating randomness is skewed. For example, with a high enough sample size, all the balls in a bingo game should have the same probability of being dispensed. If the outcomes of *n* ball selections is plotted and the mean probability is found not to be uniform, it indicates that factors such as the weight of the balls are distorting the outcomes.\n",
    "\n",
    "The ***uniform()*** function has one required parameters, ***high***, which takes as argument a float value or array of floats which sets the upper limit of the output interval. It also has the optional parameters ***low***, which sets the lower limit of the interval, and ***size***, which takes an int or tuple of ints to determine the number of values returned."
   ]
  },
  {
   "cell_type": "code",
   "execution_count": 110,
   "metadata": {
    "scrolled": true
   },
   "outputs": [
    {
     "data": {
      "text/plain": [
       "array([0.48949455, 0.27061579, 0.54075171, 0.38940761, 0.09414666,\n",
       "       0.56134541, 0.57955608, 0.54147469, 0.5115381 , 0.4510588 ,\n",
       "       0.17683438, 0.29354436, 0.32773712, 0.24558131, 0.12121046,\n",
       "       0.45681417, 0.35257652, 0.29134584, 0.49424723, 0.24193418,\n",
       "       0.07951249, 0.25448752, 0.44985673, 0.51661569, 0.40048085,\n",
       "       0.47038015, 0.08697972, 0.53569217, 0.47016625, 0.53453605,\n",
       "       0.40138142, 0.43068137, 0.21292543, 0.13319413, 0.22794158,\n",
       "       0.30421289, 0.50096039, 0.24560397, 0.36467675, 0.48604465,\n",
       "       0.14860212, 0.28443702, 0.32810166, 0.15774616, 0.11323038,\n",
       "       0.41813351, 0.29325899, 0.30746136, 0.33505303, 0.24026333,\n",
       "       0.30768217, 0.23423451, 0.40915909, 0.50147782, 0.08090617,\n",
       "       0.5547908 , 0.32772635, 0.5721125 , 0.08494939, 0.20719732,\n",
       "       0.38073666, 0.50867802, 0.19817046, 0.44986865, 0.53238762,\n",
       "       0.39876856, 0.10144579, 0.17183756, 0.39881495, 0.24559616,\n",
       "       0.33603213, 0.37561946, 0.37004438, 0.08426096, 0.1853535 ,\n",
       "       0.22030615, 0.22622217, 0.0957974 , 0.56074326, 0.3564243 ,\n",
       "       0.34243257, 0.23303174, 0.41760758, 0.18976999, 0.21892784,\n",
       "       0.3360864 , 0.13795242, 0.35156298, 0.18301217, 0.25853807,\n",
       "       0.11302925, 0.44133512, 0.13900814, 0.55514537, 0.20998999,\n",
       "       0.44534114, 0.50719444, 0.34551722, 0.50633022, 0.47542502,\n",
       "       0.37213813, 0.39562997, 0.56399389, 0.22957296, 0.5107797 ,\n",
       "       0.21576436, 0.23894566, 0.08236568, 0.32068448, 0.26021163,\n",
       "       0.39624945, 0.50377411, 0.43170265, 0.11494534, 0.07864364,\n",
       "       0.51211254, 0.54335112, 0.54480765, 0.27124942, 0.44718516,\n",
       "       0.15966576, 0.46602029, 0.48349944, 0.37602939, 0.22202169,\n",
       "       0.47900499, 0.26622668, 0.20139234, 0.19472727, 0.42224155,\n",
       "       0.33951556, 0.46808068, 0.55766574, 0.10875207, 0.16789388,\n",
       "       0.1610929 , 0.22394194, 0.30858352, 0.25234211, 0.16952388,\n",
       "       0.4285171 , 0.10656303, 0.24828715, 0.23739878, 0.35428481,\n",
       "       0.12435151, 0.33198368, 0.47919402, 0.57570456, 0.23754104,\n",
       "       0.54229999, 0.58564252, 0.18541645, 0.48520875, 0.26076409,\n",
       "       0.41332791, 0.10672173, 0.56918953, 0.5267212 , 0.50770058,\n",
       "       0.22261274, 0.24448277, 0.31303924, 0.25826172, 0.3594846 ,\n",
       "       0.51820185, 0.1084213 , 0.44162077, 0.13102827, 0.37475505,\n",
       "       0.23941022, 0.35812394, 0.33951827, 0.24445519, 0.43894919,\n",
       "       0.09944499, 0.40384213, 0.55675964, 0.40115384, 0.29147406,\n",
       "       0.46246221, 0.11317344, 0.27901379, 0.35291589, 0.43512159,\n",
       "       0.35861097, 0.09586731, 0.30500802, 0.32079599, 0.29625282,\n",
       "       0.27915964, 0.24488   , 0.44026215, 0.52342409, 0.17246671,\n",
       "       0.34151871, 0.5015243 , 0.4829139 , 0.1681795 , 0.2773154 ,\n",
       "       0.25670245, 0.48553315, 0.53187195, 0.38104245, 0.51882245,\n",
       "       0.56313459, 0.52790271, 0.52120683, 0.19758436, 0.37666394,\n",
       "       0.11517175, 0.33746338, 0.09713175, 0.37656401, 0.29197807,\n",
       "       0.18111608, 0.09887063, 0.09785748, 0.18730244, 0.52948315,\n",
       "       0.25553366, 0.16607022, 0.55067195, 0.5798876 , 0.49091543,\n",
       "       0.34151825, 0.28940785, 0.2816127 , 0.51380834, 0.46720807,\n",
       "       0.26180427, 0.21066201, 0.15154873, 0.44963708, 0.46758355,\n",
       "       0.39328457, 0.44750493, 0.16381988, 0.3540432 , 0.20893943,\n",
       "       0.47919857, 0.42706522, 0.46058132, 0.23746138, 0.10680659,\n",
       "       0.14982463, 0.15147969, 0.17491893, 0.32264479, 0.58542015,\n",
       "       0.30695751, 0.09896878, 0.31369455, 0.39657225, 0.32436965,\n",
       "       0.40690428, 0.22654842, 0.43423287, 0.51003997, 0.34104441,\n",
       "       0.27238966, 0.51920303, 0.45394873, 0.44097661, 0.5597346 ,\n",
       "       0.53032206, 0.36619799, 0.09334324, 0.40254925, 0.34148752,\n",
       "       0.57212254, 0.37623651, 0.45352746, 0.5622352 , 0.50239711,\n",
       "       0.46794321, 0.42240773, 0.20853729, 0.2908821 , 0.52329883,\n",
       "       0.44451454, 0.30381984, 0.5655081 , 0.18368064, 0.19967825,\n",
       "       0.52010504, 0.18464785, 0.44747957, 0.21841511, 0.27956489,\n",
       "       0.39231221, 0.50608   , 0.21882946, 0.10310609, 0.44410229,\n",
       "       0.103182  , 0.47210273, 0.50265214, 0.3872829 , 0.45169017,\n",
       "       0.52652218, 0.30028891, 0.48232479, 0.49378133, 0.3328224 ,\n",
       "       0.57194164, 0.24117918, 0.46429854, 0.36005547, 0.086867  ,\n",
       "       0.36136192, 0.12640649, 0.22530945, 0.56970072, 0.13223695,\n",
       "       0.33124996, 0.3009466 , 0.35472223, 0.28985305, 0.47850626,\n",
       "       0.21708634, 0.3209663 , 0.12455941, 0.11533839, 0.48785344,\n",
       "       0.2805596 , 0.14033443, 0.14975265, 0.38198259, 0.50799503,\n",
       "       0.12374457, 0.42895593, 0.17083106, 0.20609845, 0.54739369,\n",
       "       0.56257921, 0.45539186, 0.16544282, 0.2271972 , 0.50144337,\n",
       "       0.38497501, 0.55905495, 0.18794678, 0.15048137, 0.51844256,\n",
       "       0.24481312, 0.50965608, 0.39567241, 0.38615262, 0.32160316,\n",
       "       0.4002902 , 0.33720377, 0.33801584, 0.20929368, 0.25366126,\n",
       "       0.09121889, 0.39296769, 0.55130058, 0.52689034, 0.44506971,\n",
       "       0.46421318, 0.28471952, 0.38806418, 0.19117351, 0.31673561,\n",
       "       0.56422295, 0.25131979, 0.44765693, 0.34640967, 0.32696045,\n",
       "       0.53205328, 0.38048587, 0.56296247, 0.13650672, 0.29672285,\n",
       "       0.47501982, 0.50525087, 0.40055137, 0.22429674, 0.47571936,\n",
       "       0.52460373, 0.30740976, 0.44437922, 0.1208838 , 0.17953162,\n",
       "       0.27600934, 0.25052419, 0.10897283, 0.10905339, 0.50735353,\n",
       "       0.36928914, 0.30532082, 0.24211518, 0.29931622, 0.31361666,\n",
       "       0.18231709, 0.35476648, 0.09365256, 0.56057996, 0.17404783,\n",
       "       0.58026661, 0.40592156, 0.4839442 , 0.16983695, 0.25704966,\n",
       "       0.2536649 , 0.4773637 , 0.55874051, 0.39294106, 0.49168918,\n",
       "       0.08008509, 0.47258365, 0.18365387, 0.39172124, 0.23198003,\n",
       "       0.45389181, 0.26573483, 0.24100498, 0.30910298, 0.44188976,\n",
       "       0.20480076, 0.14520103, 0.29547665, 0.07614392, 0.45496451,\n",
       "       0.29742634, 0.09744659, 0.54305695, 0.48199452, 0.42774173,\n",
       "       0.07803601, 0.08505477, 0.57090495, 0.58000249, 0.26410276,\n",
       "       0.14728487, 0.40344262, 0.11068757, 0.17405031, 0.11676819,\n",
       "       0.57860993, 0.28963865, 0.58399108, 0.32466257, 0.36435559,\n",
       "       0.29590076, 0.56322329, 0.25094187, 0.55390036, 0.30735583,\n",
       "       0.52304181, 0.36888285, 0.57449889, 0.08873598, 0.12957535,\n",
       "       0.56818958, 0.44712234, 0.35954587, 0.28135743, 0.41198841,\n",
       "       0.35798805, 0.13079103, 0.54343219, 0.44751634, 0.55807514,\n",
       "       0.23346798, 0.34237783, 0.18819505, 0.17684972, 0.1625098 ,\n",
       "       0.27262787, 0.55534769, 0.27663701, 0.17869814, 0.08431177,\n",
       "       0.40332793, 0.50186818, 0.4519866 , 0.46848369, 0.21134718,\n",
       "       0.08895638, 0.40872212, 0.15155538, 0.236533  , 0.09618011,\n",
       "       0.28396105, 0.30106657, 0.15078694, 0.11714463, 0.4190247 ,\n",
       "       0.21867538, 0.17844783, 0.58267444, 0.11213177, 0.11489576,\n",
       "       0.40552392, 0.21288223, 0.21856329, 0.14814812, 0.58646323,\n",
       "       0.31241121, 0.45603309, 0.36811989, 0.41003901, 0.38098042,\n",
       "       0.44149758, 0.33727948, 0.13908626, 0.16075175, 0.5692271 ,\n",
       "       0.10097939, 0.15552008, 0.07615341, 0.57507966, 0.48583794,\n",
       "       0.48316798, 0.53017483, 0.26954628, 0.14506902, 0.47876943,\n",
       "       0.30768295, 0.49985107, 0.18236245, 0.21305299, 0.57917793,\n",
       "       0.09217342, 0.47693536, 0.47784048, 0.43910553, 0.09792627,\n",
       "       0.44045521, 0.32064072, 0.46009903, 0.12340102, 0.52476111,\n",
       "       0.16296664, 0.38006754, 0.49927012, 0.38289656, 0.52120108,\n",
       "       0.49929235, 0.46033203, 0.20490275, 0.10872403, 0.17833781,\n",
       "       0.32432536, 0.56455764, 0.53988379, 0.33764263, 0.18833932,\n",
       "       0.24045098, 0.09519312, 0.10552597, 0.42494563, 0.19139727,\n",
       "       0.33457706, 0.56196261, 0.10502858, 0.53109644, 0.3192631 ,\n",
       "       0.36651708, 0.24188915, 0.31759902, 0.54132689, 0.23675735,\n",
       "       0.53462932, 0.34205805, 0.44659716, 0.33368286, 0.56490464,\n",
       "       0.31672258, 0.4078297 , 0.11165608, 0.28112063, 0.5121305 ,\n",
       "       0.2254573 , 0.32859808, 0.19936905, 0.27235942, 0.11446549,\n",
       "       0.53644379, 0.36409989, 0.54558508, 0.38633907, 0.37352836,\n",
       "       0.51172168, 0.20098843, 0.38029572, 0.40048388, 0.3454285 ,\n",
       "       0.40852288, 0.17993452, 0.42264033, 0.46355253, 0.57900115,\n",
       "       0.21121607, 0.34129847, 0.44874721, 0.39472062, 0.42264704,\n",
       "       0.20442712, 0.52156916, 0.18060722, 0.18201131, 0.29826177,\n",
       "       0.32759729, 0.25258144, 0.48959841, 0.41028557, 0.41473377,\n",
       "       0.18818057, 0.20010431, 0.4112034 , 0.30650441, 0.13849514,\n",
       "       0.40323491, 0.51773557, 0.16183818, 0.53608369, 0.46637803,\n",
       "       0.47428328, 0.3102679 , 0.27688545, 0.46756886, 0.36263611,\n",
       "       0.31536283, 0.47880831, 0.38149367, 0.17930472, 0.53778542,\n",
       "       0.34764339, 0.42132724, 0.15482042, 0.45860613, 0.51281984,\n",
       "       0.32701728, 0.3951373 , 0.12271794, 0.53682341, 0.30452386,\n",
       "       0.20352369, 0.37621567, 0.19556766, 0.47171226, 0.12090279,\n",
       "       0.15968336, 0.40326697, 0.19219034, 0.25817637, 0.2751679 ,\n",
       "       0.54243716, 0.54171331, 0.2722535 , 0.34638703, 0.10506059,\n",
       "       0.1293958 , 0.41155457, 0.46699754, 0.11926127, 0.50948647,\n",
       "       0.4894275 , 0.21405652, 0.12228563, 0.3588448 , 0.28282263,\n",
       "       0.25007893, 0.55348928, 0.49800018, 0.32386053, 0.07980532,\n",
       "       0.1305009 , 0.39186236, 0.49814213, 0.42530464, 0.2073055 ,\n",
       "       0.1890452 , 0.55834095, 0.48431972, 0.4741823 , 0.54190975,\n",
       "       0.56927551, 0.21151627, 0.28822223, 0.44806811, 0.10940726,\n",
       "       0.27699141, 0.2510705 , 0.19819491, 0.28691103, 0.17293725,\n",
       "       0.23518519, 0.38845246, 0.58828841, 0.30857051, 0.10180246,\n",
       "       0.39785042, 0.31888804, 0.41695747, 0.13446899, 0.27128157,\n",
       "       0.28477173, 0.25184722, 0.31226325, 0.1602168 , 0.27703019,\n",
       "       0.35685576, 0.56392819, 0.16296091, 0.492368  , 0.33630608,\n",
       "       0.11636957, 0.21526245, 0.46751358, 0.20600831, 0.56383047,\n",
       "       0.34680782, 0.24191136, 0.45188909, 0.27988812, 0.10838154,\n",
       "       0.26973167, 0.290613  , 0.47452954, 0.57945835, 0.35721331,\n",
       "       0.27158923, 0.34696644, 0.28648864, 0.07724873, 0.58285087,\n",
       "       0.35221242, 0.28478709, 0.58478233, 0.35126172, 0.29268117,\n",
       "       0.50406658, 0.2029598 , 0.56969886, 0.29215747, 0.14422085,\n",
       "       0.24660468, 0.3097149 , 0.43589017, 0.12740595, 0.17412334,\n",
       "       0.38609439, 0.51630179, 0.36845499, 0.44005992, 0.19274894,\n",
       "       0.23890452, 0.27282318, 0.51712262, 0.15135638, 0.45546345,\n",
       "       0.45105708, 0.2021951 , 0.21253903, 0.5602541 , 0.1415776 ,\n",
       "       0.54080013, 0.53876899, 0.58307528, 0.56644682, 0.28429376,\n",
       "       0.19392038, 0.13317471, 0.32091262, 0.32479481, 0.24857281,\n",
       "       0.07820817, 0.22682229, 0.15493381, 0.21979116, 0.42640261,\n",
       "       0.51036896, 0.36722445, 0.16659268, 0.58323917, 0.25231971,\n",
       "       0.1638848 , 0.15759811, 0.2091888 , 0.17046117, 0.19169407,\n",
       "       0.37545377, 0.37977938, 0.18580424, 0.18463614, 0.37763025,\n",
       "       0.26337465, 0.16646183, 0.379052  , 0.13386386, 0.46963211,\n",
       "       0.22917037, 0.16381966, 0.22613353, 0.07759791, 0.46484315,\n",
       "       0.37930736, 0.21184992, 0.24099752, 0.33848134, 0.58581385,\n",
       "       0.37357402, 0.23367891, 0.52919881, 0.48505013, 0.09752406,\n",
       "       0.35896022, 0.25194939, 0.25863226, 0.16304468, 0.50314547,\n",
       "       0.40206777, 0.44117357, 0.39704654, 0.36210544, 0.4238707 ,\n",
       "       0.47205495, 0.28969351, 0.28261645, 0.07698924, 0.26692868,\n",
       "       0.19331554, 0.21527846, 0.43672679, 0.23953259, 0.27594728,\n",
       "       0.46199517, 0.1278258 , 0.37766507, 0.13531722, 0.53500149,\n",
       "       0.22601844, 0.52371771, 0.09118849, 0.53958127, 0.22778352,\n",
       "       0.29264023, 0.51046758, 0.15227092, 0.4395595 , 0.39507166,\n",
       "       0.31231147, 0.16807924, 0.29928572, 0.35736679, 0.24392817,\n",
       "       0.53061985, 0.58475919, 0.08322774, 0.21718506, 0.42818293,\n",
       "       0.33680096, 0.40618162, 0.34062086, 0.53514501, 0.46690634,\n",
       "       0.27728746, 0.55166138, 0.46244093, 0.18239298, 0.56407382,\n",
       "       0.29393254, 0.09141815, 0.5432195 , 0.09241   , 0.50202705,\n",
       "       0.19534594, 0.45038727, 0.36801877, 0.493803  , 0.21242839,\n",
       "       0.1486546 , 0.46138831, 0.52779311, 0.55163036, 0.39076908,\n",
       "       0.4448239 , 0.54022243, 0.16329193, 0.34897863, 0.50447644,\n",
       "       0.4872259 , 0.12913798, 0.18572403, 0.36855212, 0.40805519,\n",
       "       0.22891563, 0.34256827, 0.53050152, 0.33541425, 0.26225306,\n",
       "       0.54318238, 0.16829492, 0.26169832, 0.2004697 , 0.20714943,\n",
       "       0.49695137, 0.0994057 , 0.37846083, 0.08423341, 0.41348538,\n",
       "       0.36067955, 0.21262651, 0.40534478, 0.48337459, 0.53110615,\n",
       "       0.17749662, 0.51902574, 0.23034151, 0.24292077, 0.30408335,\n",
       "       0.56548941, 0.28776275, 0.26652842, 0.22948648, 0.46670651,\n",
       "       0.48433372, 0.24094944, 0.37618137, 0.48798188, 0.23023288,\n",
       "       0.29579846, 0.56977647, 0.25981906, 0.2039022 , 0.57182002,\n",
       "       0.18320369, 0.43127461, 0.45641263, 0.13720814, 0.22760148,\n",
       "       0.57994358, 0.40969425, 0.43741871, 0.48799211, 0.50758742,\n",
       "       0.37233683, 0.22148615, 0.24844856, 0.10553316, 0.34104364,\n",
       "       0.58620114, 0.42160862, 0.50933375, 0.34604608, 0.36976675,\n",
       "       0.38578056, 0.18989294, 0.36400718, 0.11296812, 0.22013678,\n",
       "       0.30413821, 0.2239176 , 0.3407755 , 0.46309824, 0.55293801,\n",
       "       0.57615081, 0.37335842, 0.21428445, 0.41454983, 0.4775311 ,\n",
       "       0.5484346 , 0.45474832, 0.31272213, 0.20332789, 0.3843742 ,\n",
       "       0.37843446, 0.32603285, 0.41073703, 0.28489364, 0.22282658,\n",
       "       0.3069761 , 0.50086608, 0.34322346, 0.07670112, 0.22006684,\n",
       "       0.22261573, 0.17751733, 0.30689603, 0.57974031, 0.24999677,\n",
       "       0.13970181, 0.1295749 , 0.58390892, 0.56907877, 0.58244743,\n",
       "       0.3176602 , 0.37537266, 0.45208628, 0.15501693, 0.13080114,\n",
       "       0.19918276, 0.44949485, 0.14156024, 0.27150232, 0.36193549])"
      ]
     },
     "execution_count": 110,
     "metadata": {},
     "output_type": "execute_result"
    }
   ],
   "source": [
    "uniformArray = numpy.sort(rng.random(size=2)) # generating two random values to act as upper and lower bounds\n",
    "lowerBound, upperBound = uniformArray # assigning the variables\n",
    "uniformValues = np.default_rng().uniform(lowerBound, upperBound, size=1000) # setting the variable containing the uniform distribution values\n",
    "uniformValues"
   ]
  },
  {
   "cell_type": "markdown",
   "metadata": {},
   "source": [
    "The [numpy documentation](https://numpy.org/doc/stable/reference/random/generated/numpy.random.Generator.uniform.html#numpy.random.Generator.uniform) for the ***uniform()*** function gives the following formula to test if the above values form a uniform distribution:"
   ]
  },
  {
   "cell_type": "code",
   "execution_count": 111,
   "metadata": {},
   "outputs": [
    {
     "data": {
      "text/plain": [
       "Text(0, 0.5, 'probability')"
      ]
     },
     "execution_count": 111,
     "metadata": {},
     "output_type": "execute_result"
    },
    {
     "data": {
      "image/png": "[encoded data removed]",
      "text/plain": [
       "<Figure size 432x288 with 1 Axes>"
      ]
     },
     "metadata": {
      "needs_background": "light"
     },
     "output_type": "display_data"
    }
   ],
   "source": [
    "count, bins, ignored = plt.hist(uniformValues, 15, density=True)\n",
    "plt.plot(bins, numpy.ones_like(bins), linewidth=2, color='r')\n",
    "plt.xlabel(\"value\")\n",
    "plt.ylabel(\"probability\")"
   ]
  },
  {
   "cell_type": "markdown",
   "metadata": {},
   "source": [
    "As we can see, the mean probability for all values is constant, indicating that this is a uniform distribution."
   ]
  },
  {
   "cell_type": "markdown",
   "metadata": {},
   "source": [
    "### Poisson\n",
    "\n",
    "> Generator.poisson(*lam=1.0, size=None*)\n",
    "\n",
    "The Poisson distribution is used to find the likelihood of a randomly-occurring event taking place if the mean frequency occurrence of the event is already known, and if occurrences of the event are independent of one another (i.e., no occurrence influences the likelihood of another occurring). An example of the Poisson distribution being applied is given in the novel *Gravity's Rainbow*, where it is used to calculate the likelihood of V-2 rocket strikes happening in any 1km<sup>2</sup> area of London during World War II. The strikes occur randomly and independently with a known mean frequency, and so a probability map can be produced showing the risk of strikes in any area of the city.\n",
    "\n",
    "The ***poisson()*** function draws a series of random samples from a Poisson distribution. It takes one required parameter, ***lam***, as a float value or array of floats, which defines the number of expected events in a given interval of time or space. This value must be greater than or equal to 0.\n",
    "\n",
    "Poisson() also takes an int or array of int values as argument for the ***size*** distribution. This defines the number of values returned, in 1-dimensional or multi-dimensional array.\n",
    "\n",
    "The [numpy documentation](https://numpy.org/doc/stable/reference/random/generated/numpy.random.Generator.poisson.html#numpy.random.Generator.poisson) for the ***poisson()*** function gives the following code for generating a plot of the Poisson distribution."
   ]
  },
  {
   "cell_type": "code",
   "execution_count": 126,
   "metadata": {
    "scrolled": true
   },
   "outputs": [
    {
     "data": {
      "image/png": "[encoded data removed]",
      "text/plain": [
       "<Figure size 432x288 with 1 Axes>"
      ]
     },
     "metadata": {
      "needs_background": "light"
     },
     "output_type": "display_data"
    }
   ],
   "source": [
    "poissonValues = np.poisson(5, 1000) # passing the arguments for the lam and size parameters\n",
    "count, bins, ignored = plt.hist(poissonValues, 15, density=False) # generating the histogram\n",
    "plt.xlabel(\"events\")\n",
    "plt.ylabel(\"frequency\")\n",
    "plt.show()"
   ]
  },
  {
   "cell_type": "markdown",
   "metadata": {},
   "source": [
    "Using this example, we can approximate the Poisson distribution from *Gravity's Rainbow*, taking the ***lam*** parameter as the number of rocket strikes per day, and the ***size*** parameter as the number of 1km<sup>2</sup> areas of London city.\n",
    "* Period of V-2 strikes: 201 days ([source](https://en.wikipedia.org/wiki/V-2_rocket))\n",
    "* Number of rocket strikes: 1358\n",
    "* Area of London: 1579 km<sup>2</sup> (not accurate to 1945)\n",
    "* Mean rocket strikes per day: 1358 / 201 = 6.75"
   ]
  },
  {
   "cell_type": "code",
   "execution_count": 149,
   "metadata": {
    "scrolled": false
   },
   "outputs": [
    {
     "data": {
      "image/png": "[encoded data removed]",
      "text/plain": [
       "<Figure size 432x288 with 1 Axes>"
      ]
     },
     "metadata": {
      "needs_background": "light"
     },
     "output_type": "display_data"
    }
   ],
   "source": [
    "meanRocketsPerDay = 6.75\n",
    "area = 1579\n",
    "rocketsAreaDistribution = np.poisson(meanRocketsPerDay, area)\n",
    "count, bins, ignored = plt.hist(rocketsAreaDistribution, 16, density=False) # generating the histogram\n",
    "plt.xlabel(\"rockets\")\n",
    "plt.ylabel(\"frequency\")\n",
    "plt.show()"
   ]
  },
  {
   "cell_type": "markdown",
   "metadata": {},
   "source": [
    "This plot demonstrates the relative frequency with which a greater or lesser number of rocket strikes than the daily mean would have happened on any given day."
   ]
  },
  {
   "cell_type": "markdown",
   "metadata": {},
   "source": [
    "***"
   ]
  },
  {
   "cell_type": "markdown",
   "metadata": {},
   "source": [
    "### Binomial\n",
    "\n",
    "> Generator.binomial(n, p, size=None)\n",
    "\n",
    "The binomial distribution is related to the Poisson distribution. Whereas the Poisson distribution documents the occurrence or non-occurrence of an event within an interval of time based on many previous events, the binomial distribution studies the probability of having a certain number of successful occurrences in *n* number of trials. The trials measured must have binary outcomes which are mutually exclusive, such as coin-tossing, random bits reading as 0 or 1, or measuring the up or down spin of quantum particles. These types of success-failure trials are called Bernoulli trials, and the binomial distribution simply describes the probability distribution of multiple Bernoulli trials grouped together. The probability of each outcome must also be constant between trials, and, as with the Poisson distribution, the trials must be independent of each other.\n",
    "\n",
    "The ***binomial()*** function takes two required arguments: an int or array of ints *n*, describing the number of trials, and a float or array of floats *p*, describing the probability of success, which must be >= 0 and <= 1."
   ]
  },
  {
   "cell_type": "code",
   "execution_count": 198,
   "metadata": {
    "scrolled": true
   },
   "outputs": [
    {
     "name": "stdout",
     "output_type": "stream",
     "text": [
      "5\n"
     ]
    }
   ],
   "source": [
    "successes = rng.binomial(10, 0.5) # 10 trials, 50% probability of success\n",
    "print(successes)"
   ]
  },
  {
   "cell_type": "markdown",
   "metadata": {},
   "source": [
    "The ***binomial()*** function also takes an integer as argument for the ***size*** parameter to define the shape of the output array."
   ]
  },
  {
   "cell_type": "code",
   "execution_count": 216,
   "metadata": {
    "scrolled": true
   },
   "outputs": [
    {
     "data": {
      "text/plain": [
       "array([213, 219, 205, 221, 201, 215, 217, 180, 195, 226, 192, 214, 206,\n",
       "       207, 194, 209, 224, 204, 216, 215, 201, 216, 193, 206, 186, 209,\n",
       "       200, 201, 183, 226, 210, 182, 200, 196, 219, 214, 208, 215, 185,\n",
       "       210, 200, 202, 188, 171, 213, 195, 201, 208, 207, 200, 197, 169,\n",
       "       193, 224, 221, 184, 206, 186, 221, 186, 228, 180, 194, 203, 208,\n",
       "       215, 176, 192, 210, 208, 212, 218, 179, 211, 197, 205, 192, 192,\n",
       "       193, 219, 191, 201, 228, 197, 205, 204, 193, 198, 197, 184, 213,\n",
       "       206, 225, 210, 190, 193, 229, 211, 220, 189], dtype=int64)"
      ]
     },
     "execution_count": 216,
     "metadata": {},
     "output_type": "execute_result"
    }
   ],
   "source": [
    "successes = rng.binomial(1000, 0.2, 100) # the number of successes in 1000 trials at 20% probability of success\n",
    "# output array returns results of 100 groupings of trials\n",
    "successes"
   ]
  },
  {
   "cell_type": "markdown",
   "metadata": {},
   "source": [
    "I have modified the code in [this article](https://www.kdnuggets.com/2020/02/probability-distributions-data-science.html) (replacing the binomial function from the scipy.stats package with that from the numpy package and changing the calculation of the *y* axis) to demonstrate the number of successes for each randomly generated number of trials with a varying probability score."
   ]
  },
  {
   "cell_type": "code",
   "execution_count": 226,
   "metadata": {
    "scrolled": true
   },
   "outputs": [
    {
     "data": {
      "image/png": "[encoded data removed]",
      "text/plain": [
       "<Figure size 432x288 with 1 Axes>"
      ]
     },
     "metadata": {
      "needs_background": "light"
     },
     "output_type": "display_data"
    }
   ],
   "source": [
    "for prob in range(2, 10, 3): # setting the incrementing probability values\n",
    "    n = numpy.arange(0, 25) # setting the array of arguments for the n parameter\n",
    "    binom = rng.binomial(n, (0.1*prob)) # generating the binomial distribution\n",
    "    # print(\"N = \", n)\n",
    "    # print(\"Binom = \", binom) used these to verify that the returned binomial values were valid, not exceeding the N values\n",
    "    plt.plot(binom, '-o', label=\"p = {:f}\".format(0.1*prob))\n",
    "    plt.xlabel('Number of trials', fontsize=12)\n",
    "    plt.ylabel('Successes', fontsize=12)\n",
    "    plt.title(\"Binomial Distribution varying p\")\n",
    "    plt.legend()"
   ]
  },
  {
   "cell_type": "markdown",
   "metadata": {},
   "source": [
    "We see that the success values increase steadily with the number of trials and increase in probability, e.g., 20 trials at .2 probability returns 4 successes."
   ]
  },
  {
   "cell_type": "markdown",
   "metadata": {},
   "source": [
    "***"
   ]
  },
  {
   "cell_type": "markdown",
   "metadata": {},
   "source": [
    "### Multinomial\n",
    "\n",
    "> Generator.multinomial(n, pvals, size=None)\n",
    "\n",
    "The multinomial distribution is a generalisation of the binomial distribution. Where the binomial distribution returns the probability of success for one of two possible outcomes in repeated trials, the multinomial distribution describes the probability of success for each of a discrete number of possible outcomes exceeding two. For example, where the binomial distribution might be used to measure the probability of the results of a presidential election between two candidates, the multinomial distribution could be used to do the same for the results of a party primary election between numerous candidates. As with previous distributions, the probability for each outcome must remain constant between trials and the trials must be independent.\n",
    "\n",
    "The ***multinomial()*** function takes two required arguments: an int or array of ints *n*, describing the number of trials, and *pvals*, a sequence of floats of length *p*, describing the probabilities of each of the potential outcomes. The sum of the probability values passed to the *pvals* parameter must total 1.0."
   ]
  },
  {
   "cell_type": "code",
   "execution_count": 219,
   "metadata": {},
   "outputs": [
    {
     "data": {
      "text/plain": [
       "array([23,  6, 13,  8], dtype=int64)"
      ]
     },
     "execution_count": 219,
     "metadata": {},
     "output_type": "execute_result"
    }
   ],
   "source": [
    "rng.multinomial(50, [0.5, 0.1, 0.2, 0.2])"
   ]
  },
  {
   "cell_type": "markdown",
   "metadata": {},
   "source": [
    "In this example, the first result was returned 23 times, the second 6 times, etc.\n",
    "\n",
    "The ***multinomial()*** function also takes an integer as argument for the ***size*** parameter to define the shape of the output array."
   ]
  },
  {
   "cell_type": "code",
   "execution_count": 225,
   "metadata": {},
   "outputs": [
    {
     "data": {
      "text/plain": [
       "array([[22, 11,  0, 10,  4,  3],\n",
       "       [22,  7,  1, 11,  2,  7],\n",
       "       [15, 10,  4, 10,  2,  9],\n",
       "       [21, 11,  3,  9,  1,  5],\n",
       "       [22, 10,  3,  9,  2,  4]], dtype=int64)"
      ]
     },
     "execution_count": 225,
     "metadata": {},
     "output_type": "execute_result"
    }
   ],
   "source": [
    "rng.multinomial(50, [0.4, 0.15, 0.05, 0.2, 0.05, 0.15], 5)"
   ]
  },
  {
   "cell_type": "code",
   "execution_count": null,
   "metadata": {},
   "outputs": [],
   "source": []
  },
  {
   "cell_type": "markdown",
   "metadata": {},
   "source": [
    "***"
   ]
  },
  {
   "cell_type": "markdown",
   "metadata": {},
   "source": [
    "### Rayleigh\n",
    "\n"
   ]
  },
  {
   "cell_type": "markdown",
   "metadata": {},
   "source": [
    "***"
   ]
  },
  {
   "cell_type": "markdown",
   "metadata": {},
   "source": [
    "## Seeds\n",
    "***\n",
    "\n",
    "A ***seed*** is a piece of information which is supplied to an algorithm to generate pseudorandom data. Because of the deterministic nature of the calculations run by computers, where inputs follow predictable methods to arrive at outputs, computers cannot produce truly random numbers without input from external sources. Some of these sources may include:\n",
    "\n",
    "* weather data from a live-updating source\n",
    "* the current time reading from the computer's processor\n",
    "* processor temperature or fan speed\n",
    "* user-generated data such as the change of cursor position\n",
    "\n",
    "The computer takes data from one or a combination of such sources in the form of a long string of numbers, and this data forms the seed. The seed is then passed as input into a generator algorithm to produce pseudorandom data. Because the calculations used to generate the latter data is deterministic, the results are not truly random. However, because the input seed data is unpredictable and unlikely to repeat, the output numbers are an adequate approximation of truly random data. This also means that if the same seed is supplied to the generator algorithm, the exact same output numbers will be produced (hence the data is only “pseudo”-random).\n",
    "\n",
    "The memory location of the randomly generated seed can be checked by passing the BitGenerator variable:"
   ]
  },
  {
   "cell_type": "code",
   "execution_count": 29,
   "metadata": {},
   "outputs": [
    {
     "data": {
      "text/plain": [
       "Generator(PCG64) at 0x2479D717C70"
      ]
     },
     "execution_count": 29,
     "metadata": {},
     "output_type": "execute_result"
    }
   ],
   "source": [
    "rng"
   ]
  },
  {
   "cell_type": "markdown",
   "metadata": {},
   "source": [
    "### References"
   ]
  },
  {
   "cell_type": "code",
   "execution_count": null,
   "metadata": {},
   "outputs": [],
   "source": []
  }
 ],
 "metadata": {
  "kernelspec": {
   "display_name": "Python 3",
   "language": "python",
   "name": "python3"
  },
  "language_info": {
   "codemirror_mode": {
    "name": "ipython",
    "version": 3
   },
   "file_extension": ".py",
   "mimetype": "text/x-python",
   "name": "python",
   "nbconvert_exporter": "python",
   "pygments_lexer": "ipython3",
   "version": "3.8.3"
  }
 },
 "nbformat": 4,
 "nbformat_minor": 4
}
