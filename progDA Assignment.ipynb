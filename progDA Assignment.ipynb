{
 "cells": [
  {
   "cell_type": "markdown",
   "metadata": {},
   "source": [
    "# The numpy.random package\n",
    "***"
   ]
  },
  {
   "cell_type": "markdown",
   "metadata": {},
   "source": [
    "## Overview of the package\n",
    "***"
   ]
  },
  {
   "cell_type": "markdown",
   "metadata": {},
   "source": [
    "## \"Simple random data\" and \"Permutations\" functions\n",
    "***\n",
    "\n",
    "### Simple random data\n",
    "\n",
    "#### Integers\n",
    "\n",
    "> Generator.integers(*low, high=None, size=None, dtype=np.int64, endpoint=False*)\n",
    "\n",
    "The **integers()** function generates a sequence of random integers. The function takes one required argument, **low**, which defines the upper limit of values which may be returned. If an argument is also passed for the **high** parameter, the argument passed for **low** becomes the lower limit of values which may be returned, and **high** becomes the upper limit."
   ]
  },
  {
   "cell_type": "code",
   "execution_count": 32,
   "metadata": {},
   "outputs": [
    {
     "data": {
      "text/plain": [
       "3"
      ]
     },
     "execution_count": 32,
     "metadata": {},
     "output_type": "execute_result"
    }
   ],
   "source": [
    "import numpy.random as np\n",
    "\n",
    "rng = np.default_rng()\n",
    "rng.integers(5) # 5 is passed as the \"low\" argument\n",
    "                # all outputs will be between 0 (inclusive) and 5 (exclusive)"
   ]
  },
  {
   "cell_type": "code",
   "execution_count": 20,
   "metadata": {},
   "outputs": [
    {
     "data": {
      "text/plain": [
       "8"
      ]
     },
     "execution_count": 20,
     "metadata": {},
     "output_type": "execute_result"
    }
   ],
   "source": [
    "rng.integers(5, 10) # 5 is the \"low\" argument, 10 as the \"high\" argument;\n",
    "                    # outputs will be between 5 (inclusive) and 10 (exclusive)"
   ]
  },
  {
   "cell_type": "markdown",
   "metadata": {},
   "source": [
    "The **integers()** function returns one integer value, unless an argument is passed for the **size** parameter, in which case a sequence of values of size equal to the value of the argument is returned."
   ]
  },
  {
   "cell_type": "code",
   "execution_count": 6,
   "metadata": {},
   "outputs": [
    {
     "data": {
      "text/plain": [
       "array([1, 0, 1, 1, 3, 3, 0, 0, 2, 1], dtype=int64)"
      ]
     },
     "execution_count": 6,
     "metadata": {},
     "output_type": "execute_result"
    }
   ],
   "source": [
    "rng.integers(5, size=10) # this will return 10 values between 0 and 5 (exclusive)"
   ]
  },
  {
   "cell_type": "markdown",
   "metadata": {},
   "source": [
    "A tuple (an unchangeable list of items) can be passed to the **size** parameter if the returned values should be in a multi-dimensional instead of one-dimensional array. The first value of the tuple defines the number of rows in the returned ndarray, and the second value defines the number of columns."
   ]
  },
  {
   "cell_type": "code",
   "execution_count": 60,
   "metadata": {},
   "outputs": [
    {
     "data": {
      "text/plain": [
       "array([[6, 4, 8, 9],\n",
       "       [2, 9, 9, 3],\n",
       "       [5, 7, 4, 8]], dtype=int64)"
      ]
     },
     "execution_count": 60,
     "metadata": {},
     "output_type": "execute_result"
    }
   ],
   "source": [
    "rng.integers(10, size=(3, 4)) # generates integers of values below 10; 3 rows, 4 columns"
   ]
  },
  {
   "cell_type": "markdown",
   "metadata": {},
   "source": [
    "The dtype of the result can defined with the **dtype** parameter. The results can be confirmed by passing the **integers()** function inside the **type()** from the standard library."
   ]
  },
  {
   "cell_type": "code",
   "execution_count": 2,
   "metadata": {},
   "outputs": [
    {
     "name": "stdout",
     "output_type": "stream",
     "text": [
      "7\n"
     ]
    },
    {
     "data": {
      "text/plain": [
       "numpy.uint8"
      ]
     },
     "execution_count": 2,
     "metadata": {},
     "output_type": "execute_result"
    }
   ],
   "source": [
    "import numpy\n",
    "print(rng.integers(10, dtype=numpy.uint8))\n",
    "type(rng.integers(10, dtype=numpy.uint8))"
   ]
  },
  {
   "cell_type": "markdown",
   "metadata": {},
   "source": [
    "The **endpoint** parameter can be passed a Boolean ***True*** or ***False*** value to change the functioning of the **low** and **high** parameters. If **endpoint** is set to ***True***, the value of **high** will be inclusive, so integers of that value can be returned. By default **endpoint** is set to ***False***, so the value of **high** is exclusive, meaning integers of that value cannot be returned (only integers of one increment lower, at maximum). The latter case is called a half-open interval."
   ]
  },
  {
   "cell_type": "code",
   "execution_count": 20,
   "metadata": {},
   "outputs": [
    {
     "data": {
      "text/plain": [
       "array([0, 2], dtype=int64)"
      ]
     },
     "execution_count": 20,
     "metadata": {},
     "output_type": "execute_result"
    }
   ],
   "source": [
    "rng.integers((1, 2), endpoint=True)"
   ]
  },
  {
   "cell_type": "markdown",
   "metadata": {},
   "source": [
    "***"
   ]
  },
  {
   "cell_type": "markdown",
   "metadata": {},
   "source": [
    "#### Random\n",
    "\n",
    ">  Generator.random(*size=None, dtype=np.float64, out=None*)\n",
    "\n",
    "The **random()** function returns float values from the interval 0.0 – 1.0. If no arguments are passed to the function's parameters, it will return a single float value."
   ]
  },
  {
   "cell_type": "code",
   "execution_count": 21,
   "metadata": {},
   "outputs": [
    {
     "data": {
      "text/plain": [
       "0.8073554994295814"
      ]
     },
     "execution_count": 21,
     "metadata": {},
     "output_type": "execute_result"
    }
   ],
   "source": [
    "rng.random()"
   ]
  },
  {
   "cell_type": "markdown",
   "metadata": {},
   "source": [
    "The **size** parameter is used, as in the **integers()** function, to define the number of values returned, and can take an integer or tuple value as argument. The **dtype** parameter is also used the same as in the **integers()** function, but only *float64* and *float32* are supported."
   ]
  },
  {
   "cell_type": "code",
   "execution_count": 24,
   "metadata": {},
   "outputs": [
    {
     "data": {
      "text/plain": [
       "array([0.12982079, 0.51023399, 0.35447712, 0.7614928 , 0.3623529 ,\n",
       "       0.49695906, 0.45014179, 0.23657541, 0.38061748, 0.71875604])"
      ]
     },
     "execution_count": 24,
     "metadata": {},
     "output_type": "execute_result"
    }
   ],
   "source": [
    "rng.random(10)"
   ]
  },
  {
   "cell_type": "code",
   "execution_count": 35,
   "metadata": {},
   "outputs": [
    {
     "data": {
      "text/plain": [
       "array([0.95380855, 0.7652706 , 0.91428745, 0.6791067 , 0.7631116 ,\n",
       "       0.51802695, 0.9997592 , 0.5678816 , 0.07534087, 0.65552557],\n",
       "      dtype=float32)"
      ]
     },
     "execution_count": 35,
     "metadata": {},
     "output_type": "execute_result"
    }
   ],
   "source": [
    "rng.random(10, dtype=\"float32\")"
   ]
  },
  {
   "cell_type": "markdown",
   "metadata": {},
   "source": [
    "The **out** parameter takes a multi-dimensional array to define the shape of the output."
   ]
  },
  {
   "cell_type": "code",
   "execution_count": 6,
   "metadata": {},
   "outputs": [
    {
     "data": {
      "text/plain": [
       "0.8628710547866498"
      ]
     },
     "execution_count": 6,
     "metadata": {},
     "output_type": "execute_result"
    }
   ],
   "source": [
    "rng.random()"
   ]
  },
  {
   "cell_type": "markdown",
   "metadata": {},
   "source": [
    "***"
   ]
  },
  {
   "cell_type": "markdown",
   "metadata": {},
   "source": [
    "#### Choice\n",
    "> Generator.choice(*a, size=None, replace=True, p=None, axis=0, shuffle=True*)\n",
    "\n",
    "The ***choice()*** function returns a random sample from a one-dimensional array passed as an argument.\n",
    "\n",
    "The ***a*** parameter is required, and takes an integer or array as its argument. If an integer is passed, the function runs ***np.arange(x)*** to generate the random value; if an array is passed, the return value is randomly selected from its elements."
   ]
  },
  {
   "cell_type": "code",
   "execution_count": 7,
   "metadata": {},
   "outputs": [
    {
     "name": "stdout",
     "output_type": "stream",
     "text": [
      "[5 9 7 6 2 7 2 4 3 0]\n"
     ]
    },
    {
     "data": {
      "text/plain": [
       "3"
      ]
     },
     "execution_count": 7,
     "metadata": {},
     "output_type": "execute_result"
    }
   ],
   "source": [
    "choices = rng.integers(10, size=10) # generating a 1d array\n",
    "print(choices) # printing the array\n",
    "rng.choice(choices) # choice() selects one element from the array"
   ]
  },
  {
   "cell_type": "markdown",
   "metadata": {},
   "source": [
    "The ***size*** parameter again defines the output shape. If an integer is passed, the returned array will be of size equal to the value of that integer; if a tuple is passed, the values of the tuple will define the rows and columns of the returned multi-dimensional array."
   ]
  },
  {
   "cell_type": "code",
   "execution_count": 15,
   "metadata": {},
   "outputs": [
    {
     "data": {
      "text/plain": [
       "array([[4, 7, 7, 9, 2, 9, 2],\n",
       "       [9, 0, 0, 2, 2, 6, 0]], dtype=int64)"
      ]
     },
     "execution_count": 15,
     "metadata": {},
     "output_type": "execute_result"
    }
   ],
   "source": [
    "rng.choice(choices, size=(2,7))"
   ]
  },
  {
   "cell_type": "markdown",
   "metadata": {},
   "source": [
    "The ***p*** parameter take a one-dimensional array of float values between 0.0 and 1.0, with the same number of elements as the array passed for the ***a*** parameter, and uses the float values to set the probability of each corresponding value in the ***a*** array being returned. The sum of the elements of ***p*** must total 1.0.\n",
    "\n",
    "In the example below, the element of ***a*** in the second index position has an assigned probability of 0.3, and so it appears more frequently in the output arrays."
   ]
  },
  {
   "cell_type": "code",
   "execution_count": 24,
   "metadata": {},
   "outputs": [
    {
     "data": {
      "text/plain": [
       "array([[6, 9, 9, 9, 9, 9, 6, 5, 2, 0],\n",
       "       [9, 9, 5, 5, 3, 2, 9, 2, 9, 9]], dtype=int64)"
      ]
     },
     "execution_count": 24,
     "metadata": {},
     "output_type": "execute_result"
    }
   ],
   "source": [
    "rng.choice(choices, size=(2,10), p=(0.1, 0.3, 0.05, 0.1, 0.1, 0.05, 0.1, 0.025, 0.075, 0.1))"
   ]
  },
  {
   "cell_type": "markdown",
   "metadata": {},
   "source": [
    "The ***axis*** parameter defines the axis along which the selection is performed, either along rows (0) or columns (1)."
   ]
  },
  {
   "cell_type": "code",
   "execution_count": 46,
   "metadata": {},
   "outputs": [
    {
     "data": {
      "text/plain": [
       "array([1, 2, 3])"
      ]
     },
     "execution_count": 46,
     "metadata": {},
     "output_type": "execute_result"
    }
   ],
   "source": [
    "tupleChoice = ([1, 2, 3], [4, 5, 6], [7, 8, 9]) # declaring a tuple to pass to the \"a\" parameter\n",
    "rng.choice(tupleChoice, axis=0) # passing the tuple to choice(), setting the axis to rows\n",
    "                                # the first array is returned"
   ]
  },
  {
   "cell_type": "code",
   "execution_count": 47,
   "metadata": {},
   "outputs": [
    {
     "data": {
      "text/plain": [
       "array([1, 4, 7])"
      ]
     },
     "execution_count": 47,
     "metadata": {},
     "output_type": "execute_result"
    }
   ],
   "source": [
    "rng.choice(tupleChoice, axis=1) # setting the axis to columns\n",
    "                                # the first element of each array is returned"
   ]
  },
  {
   "cell_type": "markdown",
   "metadata": {},
   "source": [
    "The ***shuffle*** parameter takes a Boolean value and determines whether the sample is shuffled  when sampling without replacement."
   ]
  },
  {
   "cell_type": "code",
   "execution_count": 59,
   "metadata": {},
   "outputs": [
    {
     "data": {
      "text/plain": [
       "array([7, 5, 7, 9, 6, 3, 7, 5, 3, 2], dtype=int64)"
      ]
     },
     "execution_count": 59,
     "metadata": {},
     "output_type": "execute_result"
    }
   ],
   "source": [
    "rng.choice(choices, size=10, shuffle=True)"
   ]
  },
  {
   "cell_type": "markdown",
   "metadata": {},
   "source": [
    "***"
   ]
  },
  {
   "cell_type": "markdown",
   "metadata": {},
   "source": [
    "#### Bytes\n",
    "> Generator.bytes(*length*)\n",
    "\n",
    "The ***bytes()*** function returns a string of random bytes. It takes an integer as argument to define the length of the returned string."
   ]
  },
  {
   "cell_type": "code",
   "execution_count": 5,
   "metadata": {},
   "outputs": [
    {
     "data": {
      "text/plain": [
       "b'\\xa7\\xb7\\xd2\\xb9p\\xa3\\x03\\xb2\\xa4\\x0e\\x95\\x17[\\x86M\\xed\\xc5\\xef4\\x99'"
      ]
     },
     "execution_count": 5,
     "metadata": {},
     "output_type": "execute_result"
    }
   ],
   "source": [
    "rng.bytes(20)"
   ]
  },
  {
   "cell_type": "markdown",
   "metadata": {},
   "source": [
    "***"
   ]
  },
  {
   "cell_type": "markdown",
   "metadata": {},
   "source": [
    "### Permutations\n",
    "\n",
    "#### Shuffle\n",
    "\n",
    "> Generator.shuffle(*x, axis=0*)\n",
    "\n",
    "The ***shuffle()*** function randomises a sequence of elements by shuffling their positions. The function requires an array or list object to be passed as an argument. There is no return parameter for the function, as the array or list itself is modified so that its elements are permanently reordered. An integer can also be passed as an optional argument to define the axis along which the array is shuffled."
   ]
  },
  {
   "cell_type": "code",
   "execution_count": 22,
   "metadata": {},
   "outputs": [
    {
     "data": {
      "text/plain": [
       "array([ 4, 15, 17,  2, 18,  6,  5,  8,  0,  6, 14,  9,  4, 17, 13],\n",
       "      dtype=int64)"
      ]
     },
     "execution_count": 22,
     "metadata": {},
     "output_type": "execute_result"
    }
   ],
   "source": [
    "shuffleArray = rng.integers(21, size=15) # generating an array\n",
    "shuffleArray"
   ]
  },
  {
   "cell_type": "code",
   "execution_count": 77,
   "metadata": {},
   "outputs": [
    {
     "data": {
      "text/plain": [
       "array([ 4,  9,  5,  3, 10, 19,  7,  2, 15,  2,  5,  1, 14, 16,  2],\n",
       "      dtype=int64)"
      ]
     },
     "execution_count": 77,
     "metadata": {},
     "output_type": "execute_result"
    }
   ],
   "source": [
    "rng.shuffle(shuffleArray) # shuffling the array\n",
    "shuffleArray # testing if the original array is modified"
   ]
  },
  {
   "cell_type": "markdown",
   "metadata": {},
   "source": [
    "***"
   ]
  },
  {
   "cell_type": "markdown",
   "metadata": {},
   "source": [
    "#### Permutation\n",
    "\n",
    "> Generator.permutation(*x*)\n",
    "\n",
    "The ***permutation()*** function is used to either randomly permute a sequence or generate a permuted range. If the argument passed is an integer, the function will run ***np.arange(x)*** on that integer, permute the generated range of values, and return the generated sequence as an array. If the argument passed is an array, ***permutation()*** makes a copy (which it passes to an ndarray object) and randomly reorders the elements of the array. Unlike ***shuffle()***, ***permutation()*** does not modify the original object."
   ]
  },
  {
   "cell_type": "code",
   "execution_count": 78,
   "metadata": {},
   "outputs": [
    {
     "data": {
      "text/plain": [
       "array([ 1, 10,  9,  5,  0, 18,  2,  4,  3, 15,  7, 19, 20,  6, 17, 11, 12,\n",
       "       14, 13,  8, 16])"
      ]
     },
     "execution_count": 78,
     "metadata": {},
     "output_type": "execute_result"
    }
   ],
   "source": [
    "rng.permutation(21) # passing an integer"
   ]
  },
  {
   "cell_type": "code",
   "execution_count": 79,
   "metadata": {},
   "outputs": [
    {
     "data": {
      "text/plain": [
       "array([ 2,  9, 19,  2, 10,  3, 14,  4, 16,  5,  1,  7, 15,  2,  5],\n",
       "      dtype=int64)"
      ]
     },
     "execution_count": 79,
     "metadata": {},
     "output_type": "execute_result"
    }
   ],
   "source": [
    "rng.permutation(shuffleArray) # passing an array"
   ]
  },
  {
   "cell_type": "code",
   "execution_count": 80,
   "metadata": {},
   "outputs": [
    {
     "data": {
      "text/plain": [
       "array([ 4,  9,  5,  3, 10, 19,  7,  2, 15,  2,  5,  1, 14, 16,  2],\n",
       "      dtype=int64)"
      ]
     },
     "execution_count": 80,
     "metadata": {},
     "output_type": "execute_result"
    }
   ],
   "source": [
    "shuffleArray # testing if the original array is modified"
   ]
  },
  {
   "cell_type": "markdown",
   "metadata": {},
   "source": [
    "***"
   ]
  },
  {
   "cell_type": "markdown",
   "metadata": {},
   "source": [
    "## Distribution functions\n",
    "***\n",
    "\n",
    "### Normal distribution\n",
    "\n",
    "> Generator.normal(*loc=0.0, scale=1.0, size=None*)\n",
    "\n",
    "A normal or Gaussian distribution is one in which values are distributed in a bell-shaped curve, with most points clustering around a central mean value (which forms the highest pointo n the *y* axis) and with a roughly symmetrical distribution of higher and lower values. Examples of this distribution occur frequently in nature, as random distributions of data from independent sources tend toward a normal form as the sample size increases. An example of this is height: most adults in a given population measure roughly the same mean height, with diminishing numbers of people recording higher and lower values (i.e., equally few people will be unusually tall or short compared to the mean).\n",
    "\n",
    "The ***normal()*** function is used to draw random samples from a normal distribution. It takes two required parameters, both of which are float values: ***loc*** defines the mean value which will correspond to the centre of the ditribution; ***scale*** defines the standard deviation of the distribution, which determines the width or spread of the distribution.\n",
    "\n",
    "It also takes the ***size*** parameter, which defines the number of values returned. This argument is passed as an int value if the returned values should form a 1-dimensional array, and a tuple value if the they should form a multi-dimensional array."
   ]
  },
  {
   "cell_type": "code",
   "execution_count": 51,
   "metadata": {
    "scrolled": true
   },
   "outputs": [
    {
     "data": {
      "text/plain": [
       "array([6.40266994, 5.98007193, 5.73346124, 5.16717246, 4.78033087,\n",
       "       6.19225748, 5.36480914, 3.7928785 , 4.88034159, 3.63435576,\n",
       "       3.97030584, 4.74887292, 4.09975713, 6.07613678, 5.23845461,\n",
       "       5.30289338, 5.1349858 , 5.56811967, 5.37333828, 4.47415914,\n",
       "       5.31254842, 5.16865427, 5.07410501, 5.66557158, 5.1440744 ,\n",
       "       4.60968181, 4.93637368, 5.69648864, 5.61551099, 4.69024421,\n",
       "       5.76194594, 4.17709576, 4.84265214, 4.41666607, 5.25572782,\n",
       "       5.04430876, 5.02639654, 4.28020243, 5.05495335, 3.75376555,\n",
       "       6.05063483, 5.23278334, 5.98545465, 5.65036242, 4.29027465,\n",
       "       5.02875589, 5.31221177, 4.85238874, 4.2112417 , 5.56230036,\n",
       "       5.36032504, 5.01662604, 5.1258711 , 5.69995573, 5.02587572,\n",
       "       6.02974617, 5.85746052, 6.95610546, 4.2074346 , 5.13147802,\n",
       "       4.88753822, 4.59807294, 6.03394412, 4.35257055, 4.95659582,\n",
       "       4.9586695 , 5.6325951 , 4.60091253, 4.26183739, 5.99193448,\n",
       "       4.09115492, 4.77868881, 5.18082457, 5.42290917, 4.73289678,\n",
       "       5.12839646, 3.93177274, 5.27302851, 4.55120731, 6.63500251,\n",
       "       4.11236883, 4.61496512, 4.58450346, 4.40234167, 4.75483143,\n",
       "       5.84643219, 6.50767317, 3.30325634, 4.96541055, 3.48105197,\n",
       "       4.77798369, 4.67655922, 5.27842267, 6.05976713, 4.09465718,\n",
       "       5.1701701 , 4.05872857, 4.12102654, 4.03716555, 3.3660689 ])"
      ]
     },
     "execution_count": 51,
     "metadata": {},
     "output_type": "execute_result"
    }
   ],
   "source": [
    "meanValue = rng.integers(0, 11) # mean value generated as integer\n",
    "stdDev = rng.random() # standard deviation generated as float\n",
    "norm = np.default_rng().normal(meanValue, stdDev, 100) # setting the variable containing the normal distribution values\n",
    "norm"
   ]
  },
  {
   "cell_type": "markdown",
   "metadata": {},
   "source": [
    "The numpy documentation gives the following formula to test if the above values form a normal distribution:"
   ]
  },
  {
   "cell_type": "code",
   "execution_count": 66,
   "metadata": {
    "scrolled": true
   },
   "outputs": [
    {
     "data": {
      "text/plain": [
       "Text(0, 0.5, 'probability')"
      ]
     },
     "execution_count": 66,
     "metadata": {},
     "output_type": "execute_result"
    },
    {
     "data": {
      "image/png": "[encoded data removed]",
      "text/plain": [
       "<Figure size 432x288 with 1 Axes>"
      ]
     },
     "metadata": {
      "needs_background": "light"
     },
     "output_type": "display_data"
    }
   ],
   "source": [
    "import matplotlib.pyplot as plt\n",
    "count, bins, ignored = plt.hist(norm, 30, density=True) # defining the histogram\n",
    "plt.plot(bins, 1/(stdDev * numpy.sqrt(2 * numpy.pi)) * numpy.exp( - (bins - meanValue)**2 / (2 * stdDev**2)), linewidth=2, color='r')\n",
    "plt.xlabel(\"value\")\n",
    "plt.ylabel(\"probability\")"
   ]
  },
  {
   "cell_type": "markdown",
   "metadata": {},
   "source": [
    "The evenness of the distribution and symmetry of the curve can be improved by increasing the sample size:"
   ]
  },
  {
   "cell_type": "code",
   "execution_count": 67,
   "metadata": {},
   "outputs": [
    {
     "data": {
      "text/plain": [
       "Text(0, 0.5, 'probability')"
      ]
     },
     "execution_count": 67,
     "metadata": {},
     "output_type": "execute_result"
    },
    {
     "data": {
      "image/png": "[encoded data removed]",
      "text/plain": [
       "<Figure size 432x288 with 1 Axes>"
      ]
     },
     "metadata": {
      "needs_background": "light"
     },
     "output_type": "display_data"
    }
   ],
   "source": [
    "norm = np.default_rng().normal(meanValue, stdDev, 1000)\n",
    "count, bins, ignored = plt.hist(norm, 30, density=True)\n",
    "plt.plot(bins, 1/(stdDev * numpy.sqrt(2 * numpy.pi)) * numpy.exp( - (bins - meanValue)**2 / (2 * stdDev**2)), linewidth=2, color='r')\n",
    "plt.xlabel(\"value\")\n",
    "plt.ylabel(\"probability\")"
   ]
  },
  {
   "cell_type": "markdown",
   "metadata": {},
   "source": [
    "### Uniform\n",
    "\n",
    "> Generator.uniform(*low=0.0, high=1.0, size=None*)\n",
    "\n",
    "The uniform or rectangular distribution describes output values that fall within a pair of known maximum and minimum values. When plotted, the uniform distribution is defined by the plot line being flat, indicating an equal probability for all outcomes. This distribution is important for generating random numbers and testing randomness, as any output number sohuld have the same likelihood of occurrence as any other. If the resulting distribution is not flat, it can indicate that process for generating randomness is skewed.\n",
    "\n",
    "The ***uniform()*** function has one required parameters, ***high***, which takes as argument a float value or array of floats which sets the upper limit of the output interval. It also has the optional parameters ***low***, which sets the lower limit of the interval, and ***size***, which takes an int or tuple of ints to determine the number of values returned."
   ]
  },
  {
   "cell_type": "code",
   "execution_count": 64,
   "metadata": {
    "scrolled": true
   },
   "outputs": [
    {
     "data": {
      "text/plain": [
       "array([0.28040538, 0.28524326, 0.18668139, 0.02780936, 0.23703204,\n",
       "       0.51642298, 0.77921397, 0.29137672, 0.95614339, 0.29315332,\n",
       "       0.11451161, 0.34339166, 0.91180306, 0.38710315, 0.8002799 ,\n",
       "       0.60174303, 0.2707452 , 0.87602028, 0.62030211, 0.08620316,\n",
       "       0.18875092, 0.38133049, 0.98609028, 0.15451421, 0.09698782,\n",
       "       0.40658047, 0.63096023, 0.19323368, 0.74199163, 0.91703683,\n",
       "       0.60823484, 0.88542237, 0.86660711, 0.19628615, 0.32127241,\n",
       "       0.62609387, 0.62738117, 0.73345126, 0.81883977, 0.89295266,\n",
       "       0.35806801, 0.3918637 , 0.8994829 , 0.09219294, 0.65768462,\n",
       "       0.1667945 , 0.17876514, 0.50243705, 0.36593099, 0.65644233,\n",
       "       0.32495237, 0.51435866, 0.10338115, 0.42156934, 0.76381592,\n",
       "       0.94919884, 0.52041163, 0.87740265, 0.48449881, 0.37785265,\n",
       "       0.18677311, 0.36647607, 0.63293014, 0.07644101, 0.37970992,\n",
       "       0.27213018, 0.79017083, 0.30488691, 0.91235533, 0.68658037,\n",
       "       0.21611725, 0.10776955, 0.43802362, 0.08919673, 0.82068816,\n",
       "       0.86082417, 0.8934707 , 0.08192569, 0.02191301, 0.25083231,\n",
       "       0.94693574, 0.61140045, 0.0321261 , 0.30373437, 0.88010794,\n",
       "       0.89930887, 0.11867936, 0.39482126, 0.22809628, 0.5382876 ,\n",
       "       0.68773033, 0.6460329 , 0.47097205, 0.3283627 , 0.72353415,\n",
       "       0.93046974, 0.04587189, 0.72743507, 0.19830478, 0.71802472,\n",
       "       0.45527277, 0.25842247, 0.51750498, 0.55948302, 0.73406417,\n",
       "       0.73925169, 0.55005724, 0.52275147, 0.61173991, 0.15327027,\n",
       "       0.38375615, 0.37163789, 0.10700561, 0.88103133, 0.82861221,\n",
       "       0.3530622 , 0.57785155, 0.22913861, 0.32098595, 0.85700346,\n",
       "       0.3703658 , 0.71434276, 0.32586011, 0.44264848, 0.70148693,\n",
       "       0.33126566, 0.36520046, 0.38773592, 0.02771989, 0.05534661,\n",
       "       0.71409047, 0.83213097, 0.22483088, 0.96995448, 0.59376811,\n",
       "       0.15308901, 0.15509381, 0.68372735, 0.24565481, 0.87898027,\n",
       "       0.16332915, 0.95843518, 0.74708306, 0.25330804, 0.86797752,\n",
       "       0.18235517, 0.11898016, 0.46067041, 0.42158627, 0.86959144,\n",
       "       0.63556962, 0.80799353, 0.8333185 , 0.56184464, 0.4406283 ,\n",
       "       0.61293994, 0.55456132, 0.79516394, 0.39434213, 0.16926226,\n",
       "       0.02026247, 0.41710981, 0.65074492, 0.13780931, 0.80811296,\n",
       "       0.77045399, 0.3865498 , 0.56411733, 0.31018388, 0.25060165,\n",
       "       0.03873304, 0.06884496, 0.2222395 , 0.49770204, 0.19132634,\n",
       "       0.36033067, 0.45770726, 0.51225229, 0.20257662, 0.90259851,\n",
       "       0.78333256, 0.46444573, 0.37633751, 0.54227709, 0.54296641,\n",
       "       0.55561393, 0.75941242, 0.12135883, 0.35966303, 0.49808808,\n",
       "       0.35770763, 0.7311131 , 0.01491969, 0.74589224, 0.23070199,\n",
       "       0.03296338, 0.9204346 , 0.40329543, 0.85827657, 0.04888567,\n",
       "       0.52340748, 0.97225765, 0.60109763, 0.16959497, 0.83261259,\n",
       "       0.82855821, 0.51037675, 0.96052902, 0.09866006, 0.39333629,\n",
       "       0.19383012, 0.56183462, 0.14149636, 0.28346543, 0.61669419,\n",
       "       0.73266136, 0.69826695, 0.97592135, 0.5948314 , 0.65517403,\n",
       "       0.7118709 , 0.46181099, 0.48149944, 0.84576997, 0.21689448,\n",
       "       0.32096909, 0.34360062, 0.03816846, 0.16013281, 0.71080677,\n",
       "       0.12286307, 0.34994729, 0.19536966, 0.37350791, 0.62281411,\n",
       "       0.24434367, 0.55406357, 0.95192974, 0.85822009, 0.51147467,\n",
       "       0.67862206, 0.93965305, 0.40082129, 0.386086  , 0.32869926,\n",
       "       0.67484886, 0.08319588, 0.03963121, 0.28500642, 0.61238089,\n",
       "       0.8446161 , 0.11604604, 0.22760362, 0.21059242, 0.9261795 ,\n",
       "       0.69020757, 0.05377894, 0.90679811, 0.96620422, 0.03635901,\n",
       "       0.33104891, 0.24684582, 0.1775984 , 0.74043579, 0.59013386,\n",
       "       0.28914402, 0.2127721 , 0.84803283, 0.81692369, 0.3865607 ,\n",
       "       0.57923307, 0.64429298, 0.20184169, 0.45764242, 0.48816461,\n",
       "       0.2469711 , 0.74657834, 0.11200691, 0.41818025, 0.80149352,\n",
       "       0.42556028, 0.89411173, 0.92526972, 0.41400183, 0.08778868,\n",
       "       0.4909369 , 0.24162957, 0.1648424 , 0.78039885, 0.54138019,\n",
       "       0.82282439, 0.73767349, 0.12805568, 0.57504077, 0.88183817,\n",
       "       0.12201665, 0.6105068 , 0.04384497, 0.54245124, 0.8360684 ,\n",
       "       0.97313449, 0.84507409, 0.69315833, 0.04583028, 0.46842821,\n",
       "       0.90145936, 0.23108475, 0.76731237, 0.02015536, 0.21979477,\n",
       "       0.99016447, 0.72016532, 0.39558874, 0.47642115, 0.95918761,\n",
       "       0.76172608, 0.00947677, 0.83388063, 0.92978359, 0.09340871,\n",
       "       0.6853713 , 0.51503462, 0.26034406, 0.39490711, 0.95407748,\n",
       "       0.84102879, 0.5615353 , 0.40735178, 0.74035857, 0.74465002,\n",
       "       0.88819958, 0.70396363, 0.33644676, 0.30117463, 0.31667953,\n",
       "       0.4676622 , 0.13319579, 0.96073236, 0.71026483, 0.81471195,\n",
       "       0.58541204, 0.48745465, 0.29308704, 0.64123234, 0.57109898,\n",
       "       0.39889427, 0.56616302, 0.85562876, 0.62274368, 0.26879659,\n",
       "       0.66010638, 0.50518167, 0.47176185, 0.67298029, 0.86055246,\n",
       "       0.30232996, 0.14999897, 0.68993257, 0.93466169, 0.12077591,\n",
       "       0.99322988, 0.80797263, 0.33685753, 0.25890966, 0.56122538,\n",
       "       0.71772357, 0.18910618, 0.25357778, 0.95017886, 0.96145138,\n",
       "       0.15943708, 0.98905434, 0.12086095, 0.43628817, 0.90886665,\n",
       "       0.38703396, 0.45399152, 0.78637507, 0.74921758, 0.73175315,\n",
       "       0.70110731, 0.26231061, 0.46371411, 0.04516265, 0.49307214,\n",
       "       0.3988305 , 0.10702972, 0.48118066, 0.63820966, 0.79029691,\n",
       "       0.24182231, 0.05172558, 0.47728611, 0.61992349, 0.49576869,\n",
       "       0.63512059, 0.80412316, 0.48677748, 0.7447021 , 0.22659593,\n",
       "       0.8534031 , 0.10987908, 0.39792853, 0.71725159, 0.2222838 ,\n",
       "       0.90086738, 0.48364522, 0.20958448, 0.08421252, 0.15727178,\n",
       "       0.90998866, 0.69186365, 0.84495227, 0.8514966 , 0.58549952,\n",
       "       0.12131287, 0.64495481, 0.80003625, 0.65500958, 0.59657607,\n",
       "       0.40971121, 0.78052969, 0.89713588, 0.37610324, 0.78360964,\n",
       "       0.56175993, 0.50513834, 0.16083394, 0.08276092, 0.12781546,\n",
       "       0.03492222, 0.80183512, 0.89935666, 0.69103764, 0.06523317,\n",
       "       0.51829102, 0.75171065, 0.33680853, 0.48662418, 0.48721075,\n",
       "       0.17846759, 0.33997498, 0.82157574, 0.58919218, 0.07036485,\n",
       "       0.77170662, 0.8962615 , 0.81408254, 0.05472101, 0.02049782,\n",
       "       0.46528125, 0.36326788, 0.52825965, 0.32989602, 0.96099575,\n",
       "       0.68216995, 0.51118053, 0.72468279, 0.43078943, 0.76770631,\n",
       "       0.73996711, 0.39048549, 0.15722922, 0.58424249, 0.41557657,\n",
       "       0.97132486, 0.22955949, 0.82621381, 0.26170072, 0.38499189,\n",
       "       0.17269167, 0.93974278, 0.49617816, 0.43015786, 0.43949689,\n",
       "       0.2827065 , 0.64470796, 0.17154342, 0.18971598, 0.91187824,\n",
       "       0.15644351, 0.98079467, 0.85476465, 0.37521388, 0.02865281,\n",
       "       0.57918187, 0.08688807, 0.3468212 , 0.25246186, 0.25287649,\n",
       "       0.23818883, 0.96066356, 0.9427337 , 0.78835231, 0.34580231,\n",
       "       0.82524149, 0.05388111, 0.04139461, 0.2817684 , 0.7470484 ,\n",
       "       0.74303372, 0.93823741, 0.84557676, 0.22159382, 0.09396514,\n",
       "       0.25750947, 0.28697147, 0.77184583, 0.08463718, 0.86664748,\n",
       "       0.33564326, 0.38161271, 0.36970773, 0.96026497, 0.21990259,\n",
       "       0.59522947, 0.02956728, 0.54580571, 0.91618946, 0.70605028,\n",
       "       0.89912512, 0.55799806, 0.74542676, 0.24190643, 0.0071626 ,\n",
       "       0.52605909, 0.05392639, 0.68511184, 0.22115562, 0.56484055,\n",
       "       0.31133036, 0.02049828, 0.50799364, 0.44265657, 0.91565817,\n",
       "       0.05905218, 0.92353977, 0.63778374, 0.01495517, 0.5701081 ,\n",
       "       0.938159  , 0.45639394, 0.37985873, 0.30288168, 0.01041814,\n",
       "       0.9579108 , 0.60542963, 0.37135902, 0.48086914, 0.35744656,\n",
       "       0.46747658, 0.19373078, 0.36171973, 0.13300352, 0.97251086,\n",
       "       0.76411003, 0.72820385, 0.29929761, 0.54196964, 0.21819036,\n",
       "       0.30059538, 0.89773804, 0.43931476, 0.47119122, 0.19547531,\n",
       "       0.95319558, 0.19843336, 0.40313419, 0.49870412, 0.94423335,\n",
       "       0.6661061 , 0.95652752, 0.56575142, 0.86345515, 0.90930385,\n",
       "       0.02917218, 0.82929282, 0.47722046, 0.23453604, 0.97327991,\n",
       "       0.73042601, 0.04242721, 0.41653761, 0.05294712, 0.25895141,\n",
       "       0.16285681, 0.3544723 , 0.86822112, 0.90782802, 0.23410028,\n",
       "       0.14107335, 0.45833427, 0.62437698, 0.9097761 , 0.38000575,\n",
       "       0.29454404, 0.52278596, 0.66658778, 0.96156494, 0.42814141,\n",
       "       0.34724339, 0.08015727, 0.6577806 , 0.40076589, 0.2502434 ,\n",
       "       0.79910646, 0.8926918 , 0.74344893, 0.17947696, 0.98116152,\n",
       "       0.39169318, 0.82719959, 0.1185401 , 0.77760298, 0.52673391,\n",
       "       0.58558283, 0.92351807, 0.43792862, 0.7858907 , 0.90502668,\n",
       "       0.4835628 , 0.33356572, 0.27867178, 0.93859551, 0.98189649,\n",
       "       0.39738975, 0.12446486, 0.83835934, 0.6734524 , 0.32178611,\n",
       "       0.16838026, 0.00499097, 0.33775424, 0.26851679, 0.64593374,\n",
       "       0.11006234, 0.47075307, 0.85256909, 0.56145354, 0.8995386 ,\n",
       "       0.97765967, 0.25857124, 0.97381819, 0.173296  , 0.11078901,\n",
       "       0.89969505, 0.34999471, 0.14508691, 0.49485622, 0.99351269,\n",
       "       0.75050978, 0.47431131, 0.23228088, 0.04243954, 0.86295026,\n",
       "       0.48257684, 0.58964811, 0.5791924 , 0.72826307, 0.06266538,\n",
       "       0.36129014, 0.83161134, 0.56038705, 0.63095783, 0.30726721,\n",
       "       0.58387218, 0.34947817, 0.33449703, 0.39088459, 0.57863455,\n",
       "       0.41845598, 0.32333322, 0.67806913, 0.7295638 , 0.30537239,\n",
       "       0.72595846, 0.55039244, 0.78518016, 0.5281237 , 0.25871313,\n",
       "       0.09610084, 0.30486508, 0.51999269, 0.31999688, 0.76439626,\n",
       "       0.40417963, 0.671173  , 0.24145735, 0.17789826, 0.09643916,\n",
       "       0.47388247, 0.92708626, 0.89469927, 0.18910948, 0.60403731,\n",
       "       0.33547906, 0.16941522, 0.9652865 , 0.94502176, 0.53702171,\n",
       "       0.13575599, 0.38809483, 0.7387905 , 0.15378807, 0.67618713,\n",
       "       0.24842852, 0.13731284, 0.31608857, 0.71186689, 0.47935955,\n",
       "       0.08415828, 0.74835145, 0.52526036, 0.56216316, 0.20082974,\n",
       "       0.57453872, 0.74332544, 0.70373812, 0.35801334, 0.37277628,\n",
       "       0.25815223, 0.20016938, 0.1894175 , 0.08104031, 0.36479819,\n",
       "       0.46749145, 0.94482735, 0.02619453, 0.66515652, 0.07812197,\n",
       "       0.203506  , 0.3687215 , 0.76736376, 0.16935195, 0.3412709 ,\n",
       "       0.77409145, 0.93074266, 0.76449213, 0.8771819 , 0.8187313 ,\n",
       "       0.02961608, 0.61073601, 0.71260311, 0.06002959, 0.27096251,\n",
       "       0.7407998 , 0.40162088, 0.03445098, 0.35960584, 0.26269706,\n",
       "       0.86616848, 0.17675371, 0.32528559, 0.39138051, 0.34725025,\n",
       "       0.54780316, 0.70068941, 0.95444673, 0.87092361, 0.13753054,\n",
       "       0.41829125, 0.50331608, 0.11893078, 0.6001137 , 0.69032832,\n",
       "       0.04302127, 0.62885772, 0.03783332, 0.40419415, 0.33963485,\n",
       "       0.95517698, 0.28822967, 0.06647413, 0.83876647, 0.60388788,\n",
       "       0.73542669, 0.45763539, 0.06818319, 0.5795467 , 0.82047333,\n",
       "       0.68352671, 0.82073232, 0.93599599, 0.42320072, 0.31720238,\n",
       "       0.78026565, 0.98850898, 0.4878128 , 0.49509085, 0.96030936,\n",
       "       0.76167457, 0.50659452, 0.84433399, 0.13143439, 0.21306078,\n",
       "       0.92918666, 0.71946172, 0.09821969, 0.95721778, 0.80995324,\n",
       "       0.00993906, 0.35046398, 0.15556153, 0.62053077, 0.32264629,\n",
       "       0.27228453, 0.27248156, 0.74100745, 0.37251537, 0.12019453,\n",
       "       0.03468369, 0.24261477, 0.05153347, 0.502889  , 0.44472496,\n",
       "       0.77110872, 0.90404851, 0.19993052, 0.38918998, 0.58054506,\n",
       "       0.75658493, 0.58856477, 0.69534359, 0.94262523, 0.50824592,\n",
       "       0.87723599, 0.37148715, 0.12851183, 0.14449548, 0.67566531,\n",
       "       0.53475858, 0.20124302, 0.81862852, 0.13237357, 0.67628872,\n",
       "       0.4543407 , 0.03736684, 0.85982471, 0.82804481, 0.02881588,\n",
       "       0.95241403, 0.65705836, 0.46895029, 0.78691515, 0.42612138,\n",
       "       0.06139159, 0.38196728, 0.08200274, 0.31087615, 0.84058613,\n",
       "       0.8802439 , 0.22687951, 0.68217537, 0.13098313, 0.94026568,\n",
       "       0.60684433, 0.94959716, 0.80740625, 0.70586738, 0.10618232,\n",
       "       0.77529554, 0.90736216, 0.47937118, 0.96993232, 0.43811048,\n",
       "       0.70650245, 0.92182391, 0.55431592, 0.87670304, 0.92786729,\n",
       "       0.75008046, 0.16811359, 0.9024008 , 0.98875522, 0.35680208,\n",
       "       0.90965297, 0.59650613, 0.65719199, 0.99037866, 0.82440094,\n",
       "       0.91127991, 0.53826315, 0.8522817 , 0.50570092, 0.61431044,\n",
       "       0.5850753 , 0.96575119, 0.39528221, 0.73390904, 0.35394589,\n",
       "       0.02044065, 0.93188112, 0.69487819, 0.03496724, 0.96129203,\n",
       "       0.78716249, 0.13919451, 0.22360675, 0.33184561, 0.93858646,\n",
       "       0.31866486, 0.79409019, 0.95476131, 0.56665347, 0.47520959,\n",
       "       0.07422409, 0.78078825, 0.75795804, 0.67212854, 0.37472379,\n",
       "       0.9942363 , 0.53876972, 0.20319347, 0.26545328, 0.10738378,\n",
       "       0.40143784, 0.17898199, 0.63798314, 0.30531213, 0.61575973,\n",
       "       0.25862219, 0.05198213, 0.49545626, 0.9230307 , 0.41717954,\n",
       "       0.99132024, 0.11994527, 0.47232905, 0.5683571 , 0.51311555,\n",
       "       0.12524283, 0.96011522, 0.74978992, 0.89365948, 0.79671819,\n",
       "       0.92944658, 0.33130458, 0.1964286 , 0.09808178, 0.74710786,\n",
       "       0.4396635 , 0.74450889, 0.73152891, 0.4446548 , 0.00675808,\n",
       "       0.9862288 , 0.47087485, 0.02341727, 0.93094099, 0.83133749,\n",
       "       0.47460061, 0.63413438, 0.40461117, 0.74288109, 0.86598612,\n",
       "       0.64093538, 0.20531013, 0.29930595, 0.30509706, 0.2112039 ,\n",
       "       0.6927517 , 0.97263267, 0.54495877, 0.86549944, 0.2148633 ,\n",
       "       0.76409264, 0.45330038, 0.31024344, 0.8714097 , 0.58190991,\n",
       "       0.72343865, 0.21034901, 0.04581021, 0.76904822, 0.13235391,\n",
       "       0.2906147 , 0.59697108, 0.91186493, 0.75663949, 0.916097  ,\n",
       "       0.33354194, 0.46873077, 0.36920593, 0.58500654, 0.17264709,\n",
       "       0.94318216, 0.21912458, 0.88528803, 0.31522539, 0.38891732,\n",
       "       0.58390628, 0.5363155 , 0.68551695, 0.87539057, 0.23525284,\n",
       "       0.86306759, 0.83452629, 0.49967154, 0.54084858, 0.74454427])"
      ]
     },
     "execution_count": 64,
     "metadata": {},
     "output_type": "execute_result"
    }
   ],
   "source": [
    "uniformArray = numpy.sort(rng.random(size=2)) # generating two random values to act as upper and lower bounds\n",
    "lowerBound, upperBound = uniformArray # assigning the variables\n",
    "uniformVars = np.default_rng().uniform(lowerBound, upperBound, size=1000) # setting the variable containing the uniform distribution values\n",
    "uniformVars"
   ]
  },
  {
   "cell_type": "markdown",
   "metadata": {},
   "source": [
    "The numpy documentation gives the following formula to test if the above values form a uniform distribution:"
   ]
  },
  {
   "cell_type": "code",
   "execution_count": 69,
   "metadata": {},
   "outputs": [
    {
     "data": {
      "text/plain": [
       "Text(0, 0.5, 'probability')"
      ]
     },
     "execution_count": 69,
     "metadata": {},
     "output_type": "execute_result"
    },
    {
     "data": {
      "image/png": "[encoded data removed]",
      "text/plain": [
       "<Figure size 432x288 with 1 Axes>"
      ]
     },
     "metadata": {
      "needs_background": "light"
     },
     "output_type": "display_data"
    }
   ],
   "source": [
    "count, bins, ignored = plt.hist(uniformVars, 15, density=True)\n",
    "plt.plot(bins, numpy.ones_like(bins), linewidth=2, color='r')\n",
    "plt.xlabel(\"value\")\n",
    "plt.ylabel(\"probability\")"
   ]
  },
  {
   "cell_type": "markdown",
   "metadata": {},
   "source": [
    "As we can see, the mean probability for a"
   ]
  },
  {
   "cell_type": "markdown",
   "metadata": {},
   "source": [
    "### Poisson\n",
    "\n"
   ]
  },
  {
   "cell_type": "markdown",
   "metadata": {},
   "source": [
    "### Binomial\n",
    "\n"
   ]
  },
  {
   "cell_type": "markdown",
   "metadata": {},
   "source": [
    "### Multinomial\n",
    "\n"
   ]
  },
  {
   "cell_type": "markdown",
   "metadata": {},
   "source": [
    "### Rayleigh\n",
    "\n"
   ]
  },
  {
   "cell_type": "markdown",
   "metadata": {},
   "source": [
    "## Seeds\n",
    "***\n",
    "\n",
    "A ***seed*** is a piece of information which is supplied to an algorithm to generate pseudorandom data. Because of the deterministic nature of the calculations run by computers, where inputs follow predictable methods to arrive at outputs, computers cannot produce truly random numbers without input from external sources. Some of these sources may include:\n",
    "\n",
    "* weather data from a live-updating source\n",
    "* the current time reading from the computer's processor\n",
    "* processor temperature or fan speed\n",
    "* user-generated data such as the change of cursor position\n",
    "\n",
    "The computer takes data from one or a combination of such sources in the form of a long string of numbers, and this data forms the seed. The seed is then passed as input into a generator algorithm to produce pseudorandom data. Because the calculations used to generate the latter data is deterministic, the results are not truly random. However, because the input seed data is unpredictable and unlikely to repeat, the output numbers are an adequate approximation of truly random data. This also means that if the same seed is supplied to the generator algorithm, the exact same output numbers will be produced (hence the data is only “pseudo”-random).\n",
    "\n",
    "The memory location of the randomly generated seed can be checked by passing the BitGenerator variable:"
   ]
  },
  {
   "cell_type": "code",
   "execution_count": 29,
   "metadata": {},
   "outputs": [
    {
     "data": {
      "text/plain": [
       "Generator(PCG64) at 0x2479D717C70"
      ]
     },
     "execution_count": 29,
     "metadata": {},
     "output_type": "execute_result"
    }
   ],
   "source": [
    "rng"
   ]
  },
  {
   "cell_type": "markdown",
   "metadata": {},
   "source": [
    "### References"
   ]
  },
  {
   "cell_type": "code",
   "execution_count": null,
   "metadata": {},
   "outputs": [],
   "source": []
  }
 ],
 "metadata": {
  "kernelspec": {
   "display_name": "Python 3",
   "language": "python",
   "name": "python3"
  },
  "language_info": {
   "codemirror_mode": {
    "name": "ipython",
    "version": 3
   },
   "file_extension": ".py",
   "mimetype": "text/x-python",
   "name": "python",
   "nbconvert_exporter": "python",
   "pygments_lexer": "ipython3",
   "version": "3.8.3"
  }
 },
 "nbformat": 4,
 "nbformat_minor": 4
}
