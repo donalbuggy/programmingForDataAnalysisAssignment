{
 "cells": [
  {
   "cell_type": "markdown",
   "metadata": {},
   "source": [
    "# The numpy.random package\n",
    "***"
   ]
  },
  {
   "cell_type": "markdown",
   "metadata": {},
   "source": [
    "## Overview of the package\n",
    "***"
   ]
  },
  {
   "cell_type": "markdown",
   "metadata": {},
   "source": [
    "## \"Simple random data\" and \"Permutations\" functions\n",
    "***\n",
    "\n",
    "### Simple random data\n",
    "\n",
    "#### Integers\n",
    "\n",
    "> Generator.integers(*low, high=None, size=None, dtype=np.int64, endpoint=False*)\n",
    "\n",
    "The **integers()** function generates a sequence of random integers. The function takes one required argument, **low**, which defines the upper limit of values which may be returned. If an argument is also passed for the **high** parameter, the argument passed for **low** becomes the lower limit of values which may be returned, and **high** becomes the upper limit."
   ]
  },
  {
   "cell_type": "code",
   "execution_count": 3,
   "metadata": {},
   "outputs": [
    {
     "data": {
      "text/plain": [
       "1"
      ]
     },
     "execution_count": 3,
     "metadata": {},
     "output_type": "execute_result"
    }
   ],
   "source": [
    "import numpy.random as np\n",
    "\n",
    "rng = np.default_rng()\n",
    "rng.integers(5) # 5 is passed as the \"low\" argument\n",
    "                # all outputs will be between 0 (inclusive) and 5 (exclusive)"
   ]
  },
  {
   "cell_type": "code",
   "execution_count": 5,
   "metadata": {},
   "outputs": [
    {
     "data": {
      "text/plain": [
       "7"
      ]
     },
     "execution_count": 5,
     "metadata": {},
     "output_type": "execute_result"
    }
   ],
   "source": [
    "rng.integers(5, 10) # 5 is the \"low\" argument, 10 as the \"high\" argument;\n",
    "                    # outputs will be between 5 (inclusive) and 10 (exclusive)"
   ]
  },
  {
   "cell_type": "markdown",
   "metadata": {},
   "source": [
    "The **integers()** function returns one integer value, unless an argument is passed for the **size** parameter, in which case a sequence of values of size equal to the value of the argument is returned."
   ]
  },
  {
   "cell_type": "code",
   "execution_count": 6,
   "metadata": {},
   "outputs": [
    {
     "data": {
      "text/plain": [
       "array([1, 0, 1, 1, 3, 3, 0, 0, 2, 1], dtype=int64)"
      ]
     },
     "execution_count": 6,
     "metadata": {},
     "output_type": "execute_result"
    }
   ],
   "source": [
    "rng.integers(5, size=10) # this will return 10 values between 0 and 5 (exclusive)"
   ]
  },
  {
   "cell_type": "markdown",
   "metadata": {},
   "source": [
    "A tuple (an unchangeable list of items) can be passed to the **size** parameter if the returned values should be in a multi-dimensional instead of one-dimensional array. The first value of the tuple defines the number of rows in the returned ndarray, and the second value defines the number of columns."
   ]
  },
  {
   "cell_type": "code",
   "execution_count": 60,
   "metadata": {},
   "outputs": [
    {
     "data": {
      "text/plain": [
       "array([[6, 4, 8, 9],\n",
       "       [2, 9, 9, 3],\n",
       "       [5, 7, 4, 8]], dtype=int64)"
      ]
     },
     "execution_count": 60,
     "metadata": {},
     "output_type": "execute_result"
    }
   ],
   "source": [
    "rng.integers(10, size=(3, 4)) # generates integers of values below 10; 3 rows, 4 columns"
   ]
  },
  {
   "cell_type": "markdown",
   "metadata": {},
   "source": [
    "The dtype of the result can defined with the **dtype** parameter. The results can be confirmed by passing the **integers()** function inside the **type()** from the standard library."
   ]
  },
  {
   "cell_type": "code",
   "execution_count": 17,
   "metadata": {},
   "outputs": [
    {
     "name": "stdout",
     "output_type": "stream",
     "text": [
      "5\n"
     ]
    },
    {
     "data": {
      "text/plain": [
       "numpy.uint8"
      ]
     },
     "execution_count": 17,
     "metadata": {},
     "output_type": "execute_result"
    }
   ],
   "source": [
    "import numpy\n",
    "print(rng.integers(10, dtype=numpy.uint8))\n",
    "type(rng.integers(10, dtype=numpy.uint8))"
   ]
  },
  {
   "cell_type": "markdown",
   "metadata": {},
   "source": [
    "The **endpoint** parameter can be passed a Boolean ***True*** or ***False*** value to change the functioning of the **low** and **high** parameters. If **endpoint** is set to ***True***, the value of **high** will be inclusive, so integers of that value can be returned. By default **endpoint** is set to ***False***, so the value of **high** is exclusive, meaning integers of that value cannot be returned (only integers of one increment lower, at maximum)."
   ]
  },
  {
   "cell_type": "code",
   "execution_count": 20,
   "metadata": {},
   "outputs": [
    {
     "data": {
      "text/plain": [
       "array([0, 2], dtype=int64)"
      ]
     },
     "execution_count": 20,
     "metadata": {},
     "output_type": "execute_result"
    }
   ],
   "source": [
    "rng.integers((1, 2), endpoint=True)"
   ]
  },
  {
   "cell_type": "markdown",
   "metadata": {},
   "source": [
    "***"
   ]
  },
  {
   "cell_type": "markdown",
   "metadata": {},
   "source": [
    "#### Random\n",
    "\n",
    ">  Generator.random(*size=None, dtype=np.float64, out=None*)\n",
    "\n",
    "The **random()** function returns float values from the interval 0.0 – 1.0. If no arguments are passed to the function's parameters, it will return a single float value."
   ]
  },
  {
   "cell_type": "code",
   "execution_count": 21,
   "metadata": {},
   "outputs": [
    {
     "data": {
      "text/plain": [
       "0.8073554994295814"
      ]
     },
     "execution_count": 21,
     "metadata": {},
     "output_type": "execute_result"
    }
   ],
   "source": [
    "rng.random()"
   ]
  },
  {
   "cell_type": "markdown",
   "metadata": {},
   "source": [
    "The **size** parameter is used, as in the **integers()** function, to define the number of values returned, and can take an integer or tuple value as argument. The **dtype** parameter is also used the same as in the **integers()** function, but only *float64* and *float32* are supported."
   ]
  },
  {
   "cell_type": "code",
   "execution_count": 24,
   "metadata": {},
   "outputs": [
    {
     "data": {
      "text/plain": [
       "array([0.12982079, 0.51023399, 0.35447712, 0.7614928 , 0.3623529 ,\n",
       "       0.49695906, 0.45014179, 0.23657541, 0.38061748, 0.71875604])"
      ]
     },
     "execution_count": 24,
     "metadata": {},
     "output_type": "execute_result"
    }
   ],
   "source": [
    "rng.random(10)"
   ]
  },
  {
   "cell_type": "code",
   "execution_count": 35,
   "metadata": {},
   "outputs": [
    {
     "data": {
      "text/plain": [
       "array([0.95380855, 0.7652706 , 0.91428745, 0.6791067 , 0.7631116 ,\n",
       "       0.51802695, 0.9997592 , 0.5678816 , 0.07534087, 0.65552557],\n",
       "      dtype=float32)"
      ]
     },
     "execution_count": 35,
     "metadata": {},
     "output_type": "execute_result"
    }
   ],
   "source": [
    "rng.random(10, dtype=\"float32\")"
   ]
  },
  {
   "cell_type": "markdown",
   "metadata": {},
   "source": [
    "The **out** parameter takes a multi-dimensional array to define the shape of the output."
   ]
  },
  {
   "cell_type": "code",
   "execution_count": 6,
   "metadata": {},
   "outputs": [
    {
     "data": {
      "text/plain": [
       "0.8628710547866498"
      ]
     },
     "execution_count": 6,
     "metadata": {},
     "output_type": "execute_result"
    }
   ],
   "source": [
    "rng.random()"
   ]
  },
  {
   "cell_type": "markdown",
   "metadata": {},
   "source": [
    "***"
   ]
  },
  {
   "cell_type": "markdown",
   "metadata": {},
   "source": [
    "#### Choice\n",
    "> Generator.choice(*a, size=None, replace=True, p=None, axis=0, shuffle=True*)\n",
    "\n",
    "The ***choice()*** function returns a random sample from a one-dimensional array passed as an argument.\n",
    "\n",
    "The ***a*** parameter is required, and takes an integer or array as its argument. If an integer is passed, the function runs ***np.arange(x)*** to generate the random value; if an array is passed, the return value is randomly selected from its elements."
   ]
  },
  {
   "cell_type": "code",
   "execution_count": 7,
   "metadata": {},
   "outputs": [
    {
     "name": "stdout",
     "output_type": "stream",
     "text": [
      "[5 9 7 6 2 7 2 4 3 0]\n"
     ]
    },
    {
     "data": {
      "text/plain": [
       "3"
      ]
     },
     "execution_count": 7,
     "metadata": {},
     "output_type": "execute_result"
    }
   ],
   "source": [
    "choices = rng.integers(10, size=10) # generating a 1d array\n",
    "print(choices) # printing the array\n",
    "rng.choice(choices) # choice() selects one element from the array"
   ]
  },
  {
   "cell_type": "markdown",
   "metadata": {},
   "source": [
    "The ***size*** parameter again defines the output shape. If an integer is passed, the returned array will be of size equal to the value of that integer; if a tuple is passed, the values of the tuple will define the rows and columns of the returned multi-dimensional array."
   ]
  },
  {
   "cell_type": "code",
   "execution_count": 15,
   "metadata": {},
   "outputs": [
    {
     "data": {
      "text/plain": [
       "array([[4, 7, 7, 9, 2, 9, 2],\n",
       "       [9, 0, 0, 2, 2, 6, 0]], dtype=int64)"
      ]
     },
     "execution_count": 15,
     "metadata": {},
     "output_type": "execute_result"
    }
   ],
   "source": [
    "rng.choice(choices, size=(2,7))"
   ]
  },
  {
   "cell_type": "markdown",
   "metadata": {},
   "source": [
    "The ***p*** parameter take a one-dimensional array of float values between 0.0 and 1.0, with the same number of elements as the array passed for the ***a*** parameter, and uses the float values to set the probability of each corresponding value in the ***a*** array being returned. The sum of the elements of ***p*** must total 1.0.\n",
    "\n",
    "In the example below, the element of ***a*** in the second index position has an assigned probability of 0.3, and so it appears more frequently in the output arrays."
   ]
  },
  {
   "cell_type": "code",
   "execution_count": 24,
   "metadata": {},
   "outputs": [
    {
     "data": {
      "text/plain": [
       "array([[6, 9, 9, 9, 9, 9, 6, 5, 2, 0],\n",
       "       [9, 9, 5, 5, 3, 2, 9, 2, 9, 9]], dtype=int64)"
      ]
     },
     "execution_count": 24,
     "metadata": {},
     "output_type": "execute_result"
    }
   ],
   "source": [
    "rng.choice(choices, size=(2,10), p=(0.1, 0.3, 0.05, 0.1, 0.1, 0.05, 0.1, 0.025, 0.075, 0.1))"
   ]
  },
  {
   "cell_type": "markdown",
   "metadata": {},
   "source": [
    "The ***axis*** parameter defines the axis along which the selection is performed, either along rows (0) or columns (1)."
   ]
  },
  {
   "cell_type": "code",
   "execution_count": 46,
   "metadata": {},
   "outputs": [
    {
     "data": {
      "text/plain": [
       "array([1, 2, 3])"
      ]
     },
     "execution_count": 46,
     "metadata": {},
     "output_type": "execute_result"
    }
   ],
   "source": [
    "tupleChoice = ([1, 2, 3], [4, 5, 6], [7, 8, 9]) # declaring a tuple to pass to the \"a\" parameter\n",
    "rng.choice(tupleChoice, axis=0) # passing the tuple to choice(), setting the axis to rows\n",
    "                                # the first array is returned"
   ]
  },
  {
   "cell_type": "code",
   "execution_count": 47,
   "metadata": {},
   "outputs": [
    {
     "data": {
      "text/plain": [
       "array([1, 4, 7])"
      ]
     },
     "execution_count": 47,
     "metadata": {},
     "output_type": "execute_result"
    }
   ],
   "source": [
    "rng.choice(tupleChoice, axis=1) # setting the axis to columns\n",
    "                                # the first element of each array is returned"
   ]
  },
  {
   "cell_type": "markdown",
   "metadata": {},
   "source": [
    "The ***shuffle*** parameter takes a Boolean value and determines whether the sample is shuffled  when sampling without replacement."
   ]
  },
  {
   "cell_type": "code",
   "execution_count": 59,
   "metadata": {},
   "outputs": [
    {
     "data": {
      "text/plain": [
       "array([7, 5, 7, 9, 6, 3, 7, 5, 3, 2], dtype=int64)"
      ]
     },
     "execution_count": 59,
     "metadata": {},
     "output_type": "execute_result"
    }
   ],
   "source": [
    "rng.choice(choices, size=10, shuffle=True)"
   ]
  },
  {
   "cell_type": "markdown",
   "metadata": {},
   "source": [
    "***"
   ]
  },
  {
   "cell_type": "markdown",
   "metadata": {},
   "source": [
    "#### Bytes\n",
    "> Generator.bytes(*length*)\n",
    "\n",
    "The ***bytes()*** function returns a string of random bytes. It takes an integer as argument to define the length of the returned string."
   ]
  },
  {
   "cell_type": "code",
   "execution_count": 5,
   "metadata": {},
   "outputs": [
    {
     "data": {
      "text/plain": [
       "b'\\xa7\\xb7\\xd2\\xb9p\\xa3\\x03\\xb2\\xa4\\x0e\\x95\\x17[\\x86M\\xed\\xc5\\xef4\\x99'"
      ]
     },
     "execution_count": 5,
     "metadata": {},
     "output_type": "execute_result"
    }
   ],
   "source": [
    "rng.bytes(20)"
   ]
  },
  {
   "cell_type": "markdown",
   "metadata": {},
   "source": [
    "***"
   ]
  },
  {
   "cell_type": "markdown",
   "metadata": {},
   "source": [
    "### Permutations\n",
    "\n",
    "#### Shuffle\n",
    "\n",
    "> Generator.shuffle(*x, axis=0*)\n",
    "\n",
    "The ***shuffle()*** function randomises a sequence of elements by shuffling their positions. The function requires an array or list object to be passed as an argument. There is no return parameter for the function, as the array or list itself is modified so that its elements are permanently reordered. An integer can also be passed as an optional argument to define the axis along which the array is shuffled."
   ]
  },
  {
   "cell_type": "code",
   "execution_count": 75,
   "metadata": {},
   "outputs": [
    {
     "data": {
      "text/plain": [
       "array([10, 19,  4, 15,  5, 14,  1,  5,  9,  2,  2, 16,  7,  3,  2],\n",
       "      dtype=int64)"
      ]
     },
     "execution_count": 75,
     "metadata": {},
     "output_type": "execute_result"
    }
   ],
   "source": [
    "shuffleArray = rng.integers(21, size=15) # generating an array\n",
    "shuffleArray"
   ]
  },
  {
   "cell_type": "code",
   "execution_count": 77,
   "metadata": {},
   "outputs": [
    {
     "data": {
      "text/plain": [
       "array([ 4,  9,  5,  3, 10, 19,  7,  2, 15,  2,  5,  1, 14, 16,  2],\n",
       "      dtype=int64)"
      ]
     },
     "execution_count": 77,
     "metadata": {},
     "output_type": "execute_result"
    }
   ],
   "source": [
    "rng.shuffle(shuffleArray) # shuffling the array\n",
    "shuffleArray # testing if the original array is modified"
   ]
  },
  {
   "cell_type": "markdown",
   "metadata": {},
   "source": [
    "***"
   ]
  },
  {
   "cell_type": "markdown",
   "metadata": {},
   "source": [
    "#### Permutations\n",
    "\n",
    "> Generator.permutation(*x*)\n",
    "\n",
    "The ***permutation()*** function is used to either randomly permute a sequence or generate a permuted range. If the argument passed is an integer, the function will run ***np.arange(x)*** on that integer, permute the generated range of values, and return the generated sequence as an array. If the argument passed is an array, ***permutation()*** makes a copy (which it passes to an ndarray object) and randomly reorders the elements of the array. Unlike ***shuffle()***, ***permutation()*** does not modify the original object."
   ]
  },
  {
   "cell_type": "code",
   "execution_count": 78,
   "metadata": {},
   "outputs": [
    {
     "data": {
      "text/plain": [
       "array([ 1, 10,  9,  5,  0, 18,  2,  4,  3, 15,  7, 19, 20,  6, 17, 11, 12,\n",
       "       14, 13,  8, 16])"
      ]
     },
     "execution_count": 78,
     "metadata": {},
     "output_type": "execute_result"
    }
   ],
   "source": [
    "rng.permutation(21) # passing an integer"
   ]
  },
  {
   "cell_type": "code",
   "execution_count": 79,
   "metadata": {},
   "outputs": [
    {
     "data": {
      "text/plain": [
       "array([ 2,  9, 19,  2, 10,  3, 14,  4, 16,  5,  1,  7, 15,  2,  5],\n",
       "      dtype=int64)"
      ]
     },
     "execution_count": 79,
     "metadata": {},
     "output_type": "execute_result"
    }
   ],
   "source": [
    "rng.permutation(shuffleArray) # passing an array"
   ]
  },
  {
   "cell_type": "code",
   "execution_count": 80,
   "metadata": {},
   "outputs": [
    {
     "data": {
      "text/plain": [
       "array([ 4,  9,  5,  3, 10, 19,  7,  2, 15,  2,  5,  1, 14, 16,  2],\n",
       "      dtype=int64)"
      ]
     },
     "execution_count": 80,
     "metadata": {},
     "output_type": "execute_result"
    }
   ],
   "source": [
    "shuffleArray # testing if the original array is modified"
   ]
  },
  {
   "cell_type": "markdown",
   "metadata": {},
   "source": [
    "***"
   ]
  },
  {
   "cell_type": "markdown",
   "metadata": {},
   "source": [
    "## Distribution functions\n",
    "***\n",
    "\n",
    "### Normal distribution\n",
    "\n"
   ]
  },
  {
   "cell_type": "markdown",
   "metadata": {},
   "source": [
    "### Uniform distribution\n",
    "\n"
   ]
  },
  {
   "cell_type": "markdown",
   "metadata": {},
   "source": [
    "### Poisson\n",
    "\n"
   ]
  },
  {
   "cell_type": "markdown",
   "metadata": {},
   "source": [
    "### Multinomial\n",
    "\n"
   ]
  },
  {
   "cell_type": "markdown",
   "metadata": {},
   "source": [
    "### Rayleigh\n",
    "\n"
   ]
  },
  {
   "cell_type": "markdown",
   "metadata": {},
   "source": [
    "### Logarithmic series\n",
    "\n"
   ]
  },
  {
   "cell_type": "markdown",
   "metadata": {},
   "source": [
    "## Seeds\n",
    "***\n",
    "\n",
    "A ***seed*** is a piece of information which is supplied to an algorithm to generate pseudorandom data. Because of the deterministic nature of the calculations run by computers, where inputs follow predictable methods to arrive at outputs, computers cannot produce truly random numbers without input from external sources. Some of these sources may include:\n",
    "\n",
    "* weather data from a live-updating source\n",
    "* the current time reading from the computer's processor\n",
    "* processor temperature or fan speed\n",
    "* user-generated data such as the change of cursor position\n",
    "\n",
    "The computer takes data from one or a combination of such sources in the form of a long string of numbers, and this data forms the seed. The seed is then passed as input into a generator algorithm to produce pseudorandom data. Because the calculations used to generate the latter data is deterministic, the results are not truly random. However, because the input seed data is unpredictable and unlikely to repeat, the output numbers are an adequate approximation of truly random data. This also means that if the same seed is supplied to the generator algorithm, the exact same output numbers will be produced (hence the data is only “pseudo”-random).\n",
    "\n",
    "The memory location of the randomly generated seed can be checked by passing the BitGenerator variable:"
   ]
  },
  {
   "cell_type": "code",
   "execution_count": 81,
   "metadata": {},
   "outputs": [
    {
     "data": {
      "text/plain": [
       "Generator(PCG64) at 0x1F2ED5848B0"
      ]
     },
     "execution_count": 81,
     "metadata": {},
     "output_type": "execute_result"
    }
   ],
   "source": [
    "rng"
   ]
  },
  {
   "cell_type": "markdown",
   "metadata": {},
   "source": [
    "### References"
   ]
  },
  {
   "cell_type": "code",
   "execution_count": null,
   "metadata": {},
   "outputs": [],
   "source": []
  }
 ],
 "metadata": {
  "kernelspec": {
   "display_name": "Python 3",
   "language": "python",
   "name": "python3"
  },
  "language_info": {
   "codemirror_mode": {
    "name": "ipython",
    "version": 3
   },
   "file_extension": ".py",
   "mimetype": "text/x-python",
   "name": "python",
   "nbconvert_exporter": "python",
   "pygments_lexer": "ipython3",
   "version": "3.8.3"
  }
 },
 "nbformat": 4,
 "nbformat_minor": 4
}
